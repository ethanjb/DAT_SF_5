{
 "metadata": {
  "name": ""
 },
 "nbformat": 3,
 "nbformat_minor": 0,
 "worksheets": [
  {
   "cells": [
    {
     "cell_type": "markdown",
     "metadata": {},
     "source": [
      "# GA Data Science 5 (DAT5) - Lab 11\n",
      "\n",
      "### Recommendation Systems\n",
      "\n",
      "Francesco Mosconi\n",
      "\n",
      "\n",
      "### Last Time:\n",
      "\n",
      "- #### Text Mining via TF-IDF\n",
      "\n",
      "#### Questions?\n",
      "\n",
      "\n",
      "### Today\n",
      "\n",
      "1. Simple similarity based recommendation system\n",
      "2. Recsys\n",
      "3. Optional (yhat)"
     ]
    },
    {
     "cell_type": "markdown",
     "metadata": {},
     "source": [
      "## Similarity based Recommendation System: Beers"
     ]
    },
    {
     "cell_type": "markdown",
     "metadata": {},
     "source": [
      "Usual imports (numpy, pandas)"
     ]
    },
    {
     "cell_type": "code",
     "collapsed": false,
     "input": [
      "import pandas as pd\n",
      "import numpy as np"
     ],
     "language": "python",
     "metadata": {},
     "outputs": [],
     "prompt_number": 2
    },
    {
     "cell_type": "markdown",
     "metadata": {},
     "source": [
      "First of all let's get the data"
     ]
    },
    {
     "cell_type": "code",
     "collapsed": false,
     "input": [
      "! curl -O https://s3.amazonaws.com/demo-datasets/beer_reviews.tar.gz"
     ],
     "language": "python",
     "metadata": {},
     "outputs": [
      {
       "output_type": "stream",
       "stream": "stdout",
       "text": [
        "  % Total    % Received % Xferd  Average Speed   Time    Time     Time  Current\r\n",
        "                                 Dload  Upload   Total   Spent    Left  Speed\r\n",
        "\r",
        "  0     0    0     0    0     0      0      0 --:--:-- --:--:-- --:--:--     0"
       ]
      },
      {
       "output_type": "stream",
       "stream": "stdout",
       "text": [
        "\r",
        "  0     0    0     0    0     0      0      0 --:--:--  0:00:01 --:--:--     0"
       ]
      },
      {
       "output_type": "stream",
       "stream": "stdout",
       "text": [
        "\r",
        "  0     0    0     0    0     0      0      0 --:--:--  0:00:02 --:--:--     0"
       ]
      },
      {
       "output_type": "stream",
       "stream": "stdout",
       "text": [
        "\r",
        "  0 27.3M    0  157k    0     0  48503      0  0:09:51  0:00:03  0:09:48 50783"
       ]
      },
      {
       "output_type": "stream",
       "stream": "stdout",
       "text": [
        "\r",
        "  2 27.3M    2  570k    0     0   134k      0  0:03:27  0:00:04  0:03:23  139k"
       ]
      },
      {
       "output_type": "stream",
       "stream": "stdout",
       "text": [
        "\r",
        "  7 27.3M    7 2179k    0     0   417k      0  0:01:07  0:00:05  0:01:02  430k"
       ]
      },
      {
       "output_type": "stream",
       "stream": "stdout",
       "text": [
        "\r",
        " 12 27.3M   12 3409k    0     0   544k      0  0:00:51  0:00:06  0:00:45  787k"
       ]
      },
      {
       "output_type": "stream",
       "stream": "stdout",
       "text": [
        "\r",
        " 16 27.3M   16 4508k    0     0   617k      0  0:00:45  0:00:07  0:00:38  936k"
       ]
      },
      {
       "output_type": "stream",
       "stream": "stdout",
       "text": [
        "\r",
        " 18 27.3M   18 5325k    0     0   648k      0  0:00:43  0:00:08  0:00:35 1058k"
       ]
      },
      {
       "output_type": "stream",
       "stream": "stdout",
       "text": [
        "\r",
        " 21 27.3M   21 6011k    0     0   652k      0  0:00:42  0:00:09  0:00:33 1091k"
       ]
      },
      {
       "output_type": "stream",
       "stream": "stdout",
       "text": [
        "\r",
        " 24 27.3M   24 6943k    0     0   679k      0  0:00:41  0:00:10  0:00:31  952k"
       ]
      },
      {
       "output_type": "stream",
       "stream": "stdout",
       "text": [
        "\r",
        " 28 27.3M   28 7980k    0     0   711k      0  0:00:39  0:00:11  0:00:28  922k"
       ]
      },
      {
       "output_type": "stream",
       "stream": "stdout",
       "text": [
        "\r",
        " 34 27.3M   34 9808k    0     0   802k      0  0:00:34  0:00:12  0:00:22 1078k"
       ]
      },
      {
       "output_type": "stream",
       "stream": "stdout",
       "text": [
        "\r",
        " 40 27.3M   40 10.9M    0     0   850k      0  0:00:32  0:00:13  0:00:19 1183k"
       ]
      },
      {
       "output_type": "stream",
       "stream": "stdout",
       "text": [
        "\r",
        " 44 27.3M   44 12.2M    0     0   880k      0  0:00:31  0:00:14  0:00:17 1300k"
       ]
      },
      {
       "output_type": "stream",
       "stream": "stdout",
       "text": [
        "\r",
        " 49 27.3M   49 13.4M    0     0   903k      0  0:00:31  0:00:15  0:00:16 1360k"
       ]
      },
      {
       "output_type": "stream",
       "stream": "stdout",
       "text": [
        "\r",
        " 52 27.3M   52 14.3M    0     0   907k      0  0:00:30  0:00:16  0:00:14 1347k"
       ]
      },
      {
       "output_type": "stream",
       "stream": "stdout",
       "text": [
        "\r",
        " 55 27.3M   55 15.2M    0     0   908k      0  0:00:30  0:00:17  0:00:13 1165k"
       ]
      },
      {
       "output_type": "stream",
       "stream": "stdout",
       "text": [
        "\r",
        " 60 27.3M   60 16.5M    0     0   932k      0  0:00:30  0:00:18  0:00:12 1149k"
       ]
      },
      {
       "output_type": "stream",
       "stream": "stdout",
       "text": [
        "\r",
        " 64 27.3M   64 17.7M    0     0   945k      0  0:00:29  0:00:19  0:00:10 1132k"
       ]
      },
      {
       "output_type": "stream",
       "stream": "stdout",
       "text": [
        "\r",
        " 68 27.3M   68 18.7M    0     0   947k      0  0:00:29  0:00:20  0:00:09 1081k"
       ]
      },
      {
       "output_type": "stream",
       "stream": "stdout",
       "text": [
        "\r",
        " 71 27.3M   71 19.5M    0     0   942k      0  0:00:29  0:00:21  0:00:08 1057k"
       ]
      },
      {
       "output_type": "stream",
       "stream": "stdout",
       "text": [
        "\r",
        " 75 27.3M   75 20.7M    0     0   956k      0  0:00:29  0:00:22  0:00:07 1123k"
       ]
      },
      {
       "output_type": "stream",
       "stream": "stdout",
       "text": [
        "\r",
        " 80 27.3M   80 21.9M    0     0   962k      0  0:00:29  0:00:23  0:00:06 1068k"
       ]
      },
      {
       "output_type": "stream",
       "stream": "stdout",
       "text": [
        "\r",
        " 82 27.3M   82 22.4M    0     0   948k      0  0:00:29  0:00:24  0:00:05  960k"
       ]
      },
      {
       "output_type": "stream",
       "stream": "stdout",
       "text": [
        "\r",
        " 82 27.3M   82 22.6M    0     0   917k      0  0:00:30  0:00:25  0:00:05  796k"
       ]
      },
      {
       "output_type": "stream",
       "stream": "stdout",
       "text": [
        "\r",
        " 83 27.3M   83 22.8M    0     0   892k      0  0:00:31  0:00:26  0:00:05  681k"
       ]
      },
      {
       "output_type": "stream",
       "stream": "stdout",
       "text": [
        "\r",
        " 88 27.3M   88 24.1M    0     0   908k      0  0:00:30  0:00:27  0:00:03  694k"
       ]
      },
      {
       "output_type": "stream",
       "stream": "stdout",
       "text": [
        "\r",
        " 91 27.3M   91 25.1M    0     0   912k      0  0:00:30  0:00:28  0:00:02  674k"
       ]
      },
      {
       "output_type": "stream",
       "stream": "stdout",
       "text": [
        "\r",
        " 95 27.3M   95 26.0M    0     0   913k      0  0:00:30  0:00:29  0:00:01  739k"
       ]
      },
      {
       "output_type": "stream",
       "stream": "stdout",
       "text": [
        "\r",
        " 97 27.3M   97 26.8M    0     0   908k      0  0:00:30  0:00:30 --:--:--  864k"
       ]
      },
      {
       "output_type": "stream",
       "stream": "stdout",
       "text": [
        "\r",
        "100 27.3M  100 27.3M    0     0   906k      0  0:00:30  0:00:30 --:--:--  978k\r\n"
       ]
      }
     ],
     "prompt_number": 7
    },
    {
     "cell_type": "markdown",
     "metadata": {},
     "source": [
      "Import data in pandas dataframe"
     ]
    },
    {
     "cell_type": "code",
     "collapsed": false,
     "input": [
      "! mv 'beer_reviews.tar.gz' data/"
     ],
     "language": "python",
     "metadata": {},
     "outputs": [],
     "prompt_number": 11
    },
    {
     "cell_type": "markdown",
     "metadata": {},
     "source": [
      "Let's look at the data"
     ]
    },
    {
     "cell_type": "code",
     "collapsed": false,
     "input": [
      "!ls data"
     ],
     "language": "python",
     "metadata": {},
     "outputs": [
      {
       "output_type": "stream",
       "stream": "stdout",
       "text": [
        "2012_nfl_pbp_data.csv         houses_norm.csv               titanic_test.csv\r\n",
        "AAPL.csv                      housing-data.csv              titanic_test_0.51_results.csv\r\n",
        "YHOO.csv                      housing.sqlite                titanic_test_0.8_results.csv\r\n",
        "beer_reviews.tar.gz           iris_data.csv                 titanic_test_results.csv\r\n",
        "enron.db                      \u001b[34mmovielens\u001b[m\u001b[m\r\n",
        "houses.csv                    titanic-train.csv\r\n"
       ]
      }
     ],
     "prompt_number": 12
    },
    {
     "cell_type": "markdown",
     "metadata": {},
     "source": [
      "Let's restrict this to the top 250 beers. Use the value_counts() method"
     ]
    },
    {
     "cell_type": "code",
     "collapsed": false,
     "input": [
      "df = pd.read_csv(\"data/beer_reviews.tar.gz\", compression='gzip')"
     ],
     "language": "python",
     "metadata": {},
     "outputs": [
      {
       "output_type": "stream",
       "stream": "stderr",
       "text": [
        "/Users/ebatraski/anaconda/lib/python2.7/site-packages/pandas/io/parsers.py:1070: DtypeWarning: Columns (0) have mixed types. Specify dtype option on import or set low_memory=False.\n",
        "  data = self._reader.read(nrows)\n"
       ]
      }
     ],
     "prompt_number": 14
    },
    {
     "cell_type": "code",
     "collapsed": false,
     "input": [
      "n = 250\n",
      "top_n = df.beer_name.value_counts().index[:n]\n",
      "df = df[df.beer_name.isin(top_n)]\n",
      "df.head()"
     ],
     "language": "python",
     "metadata": {},
     "outputs": [
      {
       "html": [
        "<div style=\"max-height:1000px;max-width:1500px;overflow:auto;\">\n",
        "<table border=\"1\" class=\"dataframe\">\n",
        "  <thead>\n",
        "    <tr style=\"text-align: right;\">\n",
        "      <th></th>\n",
        "      <th>beer_reviews/</th>\n",
        "      <th>brewery_name</th>\n",
        "      <th>review_time</th>\n",
        "      <th>review_overall</th>\n",
        "      <th>review_aroma</th>\n",
        "      <th>review_appearance</th>\n",
        "      <th>review_profilename</th>\n",
        "      <th>beer_style</th>\n",
        "      <th>review_palate</th>\n",
        "      <th>review_taste</th>\n",
        "      <th>beer_name</th>\n",
        "      <th>beer_abv</th>\n",
        "      <th>beer_beerid</th>\n",
        "    </tr>\n",
        "  </thead>\n",
        "  <tbody>\n",
        "    <tr>\n",
        "      <th>798 </th>\n",
        "      <td>  1075</td>\n",
        "      <td> Caldera Brewing Company</td>\n",
        "      <td> 1212201268</td>\n",
        "      <td> 4.5</td>\n",
        "      <td> 4.5</td>\n",
        "      <td> 4</td>\n",
        "      <td>          grumpy</td>\n",
        "      <td> American Double / Imperial Stout</td>\n",
        "      <td> 4.0</td>\n",
        "      <td> 4.5</td>\n",
        "      <td> Imperial Stout</td>\n",
        "      <td> NaN</td>\n",
        "      <td> 42964</td>\n",
        "    </tr>\n",
        "    <tr>\n",
        "      <th>1559</th>\n",
        "      <td> 11715</td>\n",
        "      <td> Destiny Brewing Company</td>\n",
        "      <td> 1137124057</td>\n",
        "      <td> 4.0</td>\n",
        "      <td> 3.5</td>\n",
        "      <td> 4</td>\n",
        "      <td> blitheringidiot</td>\n",
        "      <td>          American Pale Ale (APA)</td>\n",
        "      <td> 3.5</td>\n",
        "      <td> 3.5</td>\n",
        "      <td>       Pale Ale</td>\n",
        "      <td> 4.5</td>\n",
        "      <td> 26420</td>\n",
        "    </tr>\n",
        "    <tr>\n",
        "      <th>1560</th>\n",
        "      <td> 11715</td>\n",
        "      <td> Destiny Brewing Company</td>\n",
        "      <td> 1129504403</td>\n",
        "      <td> 4.0</td>\n",
        "      <td> 2.5</td>\n",
        "      <td> 4</td>\n",
        "      <td>     NeroFiddled</td>\n",
        "      <td>          American Pale Ale (APA)</td>\n",
        "      <td> 4.0</td>\n",
        "      <td> 3.5</td>\n",
        "      <td>       Pale Ale</td>\n",
        "      <td> 4.5</td>\n",
        "      <td> 26420</td>\n",
        "    </tr>\n",
        "    <tr>\n",
        "      <th>1563</th>\n",
        "      <td> 11715</td>\n",
        "      <td> Destiny Brewing Company</td>\n",
        "      <td> 1137125989</td>\n",
        "      <td> 3.5</td>\n",
        "      <td> 3.0</td>\n",
        "      <td> 4</td>\n",
        "      <td> blitheringidiot</td>\n",
        "      <td>                     American IPA</td>\n",
        "      <td> 4.0</td>\n",
        "      <td> 4.0</td>\n",
        "      <td>            IPA</td>\n",
        "      <td> NaN</td>\n",
        "      <td> 26132</td>\n",
        "    </tr>\n",
        "    <tr>\n",
        "      <th>1564</th>\n",
        "      <td> 11715</td>\n",
        "      <td> Destiny Brewing Company</td>\n",
        "      <td> 1130936611</td>\n",
        "      <td> 3.0</td>\n",
        "      <td> 3.0</td>\n",
        "      <td> 3</td>\n",
        "      <td>          Gavage</td>\n",
        "      <td>                     American IPA</td>\n",
        "      <td> 4.0</td>\n",
        "      <td> 3.5</td>\n",
        "      <td>            IPA</td>\n",
        "      <td> NaN</td>\n",
        "      <td> 26132</td>\n",
        "    </tr>\n",
        "  </tbody>\n",
        "</table>\n",
        "<p>5 rows \u00d7 13 columns</p>\n",
        "</div>"
       ],
       "metadata": {},
       "output_type": "pyout",
       "prompt_number": 27,
       "text": [
        "     beer_reviews/             brewery_name  review_time  review_overall  \\\n",
        "798           1075  Caldera Brewing Company   1212201268             4.5   \n",
        "1559         11715  Destiny Brewing Company   1137124057             4.0   \n",
        "1560         11715  Destiny Brewing Company   1129504403             4.0   \n",
        "1563         11715  Destiny Brewing Company   1137125989             3.5   \n",
        "1564         11715  Destiny Brewing Company   1130936611             3.0   \n",
        "\n",
        "      review_aroma  review_appearance review_profilename  \\\n",
        "798            4.5                  4             grumpy   \n",
        "1559           3.5                  4    blitheringidiot   \n",
        "1560           2.5                  4        NeroFiddled   \n",
        "1563           3.0                  4    blitheringidiot   \n",
        "1564           3.0                  3             Gavage   \n",
        "\n",
        "                            beer_style  review_palate  review_taste  \\\n",
        "798   American Double / Imperial Stout            4.0           4.5   \n",
        "1559           American Pale Ale (APA)            3.5           3.5   \n",
        "1560           American Pale Ale (APA)            4.0           3.5   \n",
        "1563                      American IPA            4.0           4.0   \n",
        "1564                      American IPA            4.0           3.5   \n",
        "\n",
        "           beer_name  beer_abv  beer_beerid  \n",
        "798   Imperial Stout       NaN        42964  \n",
        "1559        Pale Ale       4.5        26420  \n",
        "1560        Pale Ale       4.5        26420  \n",
        "1563             IPA       NaN        26132  \n",
        "1564             IPA       NaN        26132  \n",
        "\n",
        "[5 rows x 13 columns]"
       ]
      }
     ],
     "prompt_number": 27
    },
    {
     "cell_type": "markdown",
     "metadata": {},
     "source": [
      "How big is this dataset?"
     ]
    },
    {
     "cell_type": "code",
     "collapsed": false,
     "input": [
      "df.info()"
     ],
     "language": "python",
     "metadata": {},
     "outputs": [
      {
       "output_type": "stream",
       "stream": "stdout",
       "text": [
        "<class 'pandas.core.frame.DataFrame'>\n",
        "Int64Index: 355275 entries, 798 to 1586564\n",
        "Data columns (total 13 columns):\n",
        "beer_reviews/         355275 non-null object\n",
        "brewery_name          355275 non-null object\n",
        "review_time           355275 non-null float64\n",
        "review_overall        355275 non-null float64\n",
        "review_aroma          355275 non-null float64\n",
        "review_appearance     355275 non-null float64\n",
        "review_profilename    355175 non-null object\n",
        "beer_style            355275 non-null object\n",
        "review_palate         355275 non-null float64\n",
        "review_taste          355275 non-null float64\n",
        "beer_name             355275 non-null object\n",
        "beer_abv              353477 non-null float64\n",
        "beer_beerid           355275 non-null float64\n",
        "dtypes: float64(8), object(5)"
       ]
      }
     ],
     "prompt_number": 29
    },
    {
     "cell_type": "markdown",
     "metadata": {},
     "source": [
      "Aggregate the data in a pivot table using the pivot_table method. Display the mean review_overall for each beer_name aggregating the review_overall values by review_profilename. Use the mean as aggregator."
     ]
    },
    {
     "cell_type": "code",
     "collapsed": false,
     "input": [
      "df_wide = pd.pivot_table(df, values=[\"review_overall\"], # value to create pivot table around\n",
      "                         rows=[\"beer_name\", \"review_profilename\"], # beer name is rows, profile names are columns\n",
      "                         aggfunc=np.mean).unstack()\n",
      "df_wide.shape"
     ],
     "language": "python",
     "metadata": {},
     "outputs": [
      {
       "metadata": {},
       "output_type": "pyout",
       "prompt_number": 30,
       "text": [
        "(250, 22140)"
       ]
      }
     ],
     "prompt_number": 30
    },
    {
     "cell_type": "markdown",
     "metadata": {},
     "source": [
      "Display the head of the pivot table, but only for 5 users (columns are users)"
     ]
    },
    {
     "cell_type": "code",
     "collapsed": false,
     "input": [
      "df_wide.ix[0:10, 0:10]"
     ],
     "language": "python",
     "metadata": {},
     "outputs": [
      {
       "html": [
        "<div style=\"max-height:1000px;max-width:1500px;overflow:auto;\">\n",
        "<table border=\"1\" class=\"dataframe\">\n",
        "  <thead>\n",
        "    <tr>\n",
        "      <th></th>\n",
        "      <th colspan=\"10\" halign=\"left\">review_overall</th>\n",
        "    </tr>\n",
        "    <tr>\n",
        "      <th>review_profilename</th>\n",
        "      <th>0110x011</th>\n",
        "      <th>02maxima</th>\n",
        "      <th>03SVTCobra</th>\n",
        "      <th>05Harley</th>\n",
        "      <th>0Naught0</th>\n",
        "      <th>0beerguy0</th>\n",
        "      <th>0runkp0s</th>\n",
        "      <th>0tt0</th>\n",
        "      <th>1000Bottles</th>\n",
        "      <th>1001111.0</th>\n",
        "    </tr>\n",
        "    <tr>\n",
        "      <th>beer_name</th>\n",
        "      <th></th>\n",
        "      <th></th>\n",
        "      <th></th>\n",
        "      <th></th>\n",
        "      <th></th>\n",
        "      <th></th>\n",
        "      <th></th>\n",
        "      <th></th>\n",
        "      <th></th>\n",
        "      <th></th>\n",
        "    </tr>\n",
        "  </thead>\n",
        "  <tbody>\n",
        "    <tr>\n",
        "      <th>#9</th>\n",
        "      <td> 0.0</td>\n",
        "      <td> 0</td>\n",
        "      <td> 0</td>\n",
        "      <td> 0</td>\n",
        "      <td> 0</td>\n",
        "      <td> 0</td>\n",
        "      <td> 0</td>\n",
        "      <td> 0.0</td>\n",
        "      <td> 0</td>\n",
        "      <td> 0</td>\n",
        "    </tr>\n",
        "    <tr>\n",
        "      <th>120 Minute IPA</th>\n",
        "      <td> 0.0</td>\n",
        "      <td> 0</td>\n",
        "      <td> 0</td>\n",
        "      <td> 4</td>\n",
        "      <td> 0</td>\n",
        "      <td> 0</td>\n",
        "      <td> 0</td>\n",
        "      <td> 1.5</td>\n",
        "      <td> 0</td>\n",
        "      <td> 0</td>\n",
        "    </tr>\n",
        "    <tr>\n",
        "      <th>1554 Enlightened Black Ale</th>\n",
        "      <td> 0.0</td>\n",
        "      <td> 0</td>\n",
        "      <td> 0</td>\n",
        "      <td> 0</td>\n",
        "      <td> 0</td>\n",
        "      <td> 0</td>\n",
        "      <td> 0</td>\n",
        "      <td> 0.0</td>\n",
        "      <td> 0</td>\n",
        "      <td> 0</td>\n",
        "    </tr>\n",
        "    <tr>\n",
        "      <th>60 Minute IPA</th>\n",
        "      <td> 0.0</td>\n",
        "      <td> 0</td>\n",
        "      <td> 0</td>\n",
        "      <td> 0</td>\n",
        "      <td> 0</td>\n",
        "      <td> 0</td>\n",
        "      <td> 0</td>\n",
        "      <td> 0.0</td>\n",
        "      <td> 0</td>\n",
        "      <td> 0</td>\n",
        "    </tr>\n",
        "    <tr>\n",
        "      <th>90 Minute IPA</th>\n",
        "      <td> 5.0</td>\n",
        "      <td> 0</td>\n",
        "      <td> 0</td>\n",
        "      <td> 4</td>\n",
        "      <td> 0</td>\n",
        "      <td> 0</td>\n",
        "      <td> 0</td>\n",
        "      <td> 0.0</td>\n",
        "      <td> 0</td>\n",
        "      <td> 0</td>\n",
        "    </tr>\n",
        "    <tr>\n",
        "      <th>Aecht Schlenkerla Rauchbier M\u00e4rzen</th>\n",
        "      <td> 0.0</td>\n",
        "      <td> 0</td>\n",
        "      <td> 0</td>\n",
        "      <td> 0</td>\n",
        "      <td> 0</td>\n",
        "      <td> 0</td>\n",
        "      <td> 0</td>\n",
        "      <td> 0.0</td>\n",
        "      <td> 0</td>\n",
        "      <td> 0</td>\n",
        "    </tr>\n",
        "    <tr>\n",
        "      <th>AleSmith IPA</th>\n",
        "      <td> 5.0</td>\n",
        "      <td> 0</td>\n",
        "      <td> 0</td>\n",
        "      <td> 4</td>\n",
        "      <td> 0</td>\n",
        "      <td> 0</td>\n",
        "      <td> 0</td>\n",
        "      <td> 0.0</td>\n",
        "      <td> 0</td>\n",
        "      <td> 0</td>\n",
        "    </tr>\n",
        "    <tr>\n",
        "      <th>AleSmith Speedway Stout</th>\n",
        "      <td> 4.5</td>\n",
        "      <td> 0</td>\n",
        "      <td> 0</td>\n",
        "      <td> 4</td>\n",
        "      <td> 0</td>\n",
        "      <td> 0</td>\n",
        "      <td> 0</td>\n",
        "      <td> 0.0</td>\n",
        "      <td> 0</td>\n",
        "      <td> 0</td>\n",
        "    </tr>\n",
        "    <tr>\n",
        "      <th>Allagash White</th>\n",
        "      <td> 0.0</td>\n",
        "      <td> 0</td>\n",
        "      <td> 0</td>\n",
        "      <td> 0</td>\n",
        "      <td> 0</td>\n",
        "      <td> 0</td>\n",
        "      <td> 0</td>\n",
        "      <td> 0.0</td>\n",
        "      <td> 0</td>\n",
        "      <td> 0</td>\n",
        "    </tr>\n",
        "    <tr>\n",
        "      <th>Alpha King Pale Ale</th>\n",
        "      <td> 5.0</td>\n",
        "      <td> 0</td>\n",
        "      <td> 0</td>\n",
        "      <td> 0</td>\n",
        "      <td> 0</td>\n",
        "      <td> 0</td>\n",
        "      <td> 0</td>\n",
        "      <td> 0.0</td>\n",
        "      <td> 0</td>\n",
        "      <td> 0</td>\n",
        "    </tr>\n",
        "  </tbody>\n",
        "</table>\n",
        "<p>10 rows \u00d7 10 columns</p>\n",
        "</div>"
       ],
       "metadata": {},
       "output_type": "pyout",
       "prompt_number": 34,
       "text": [
        "                                    review_overall                        \\\n",
        "review_profilename                        0110x011  02maxima  03SVTCobra   \n",
        "beer_name                                                                  \n",
        "#9                                             0.0         0           0   \n",
        "120 Minute IPA                                 0.0         0           0   \n",
        "1554 Enlightened Black Ale                     0.0         0           0   \n",
        "60 Minute IPA                                  0.0         0           0   \n",
        "90 Minute IPA                                  5.0         0           0   \n",
        "Aecht Schlenkerla Rauchbier M\u00e4rzen             0.0         0           0   \n",
        "AleSmith IPA                                   5.0         0           0   \n",
        "AleSmith Speedway Stout                        4.5         0           0   \n",
        "Allagash White                                 0.0         0           0   \n",
        "Alpha King Pale Ale                            5.0         0           0   \n",
        "\n",
        "                                                                             \\\n",
        "review_profilename                  05Harley  0Naught0  0beerguy0  0runkp0s   \n",
        "beer_name                                                                     \n",
        "#9                                         0         0          0         0   \n",
        "120 Minute IPA                             4         0          0         0   \n",
        "1554 Enlightened Black Ale                 0         0          0         0   \n",
        "60 Minute IPA                              0         0          0         0   \n",
        "90 Minute IPA                              4         0          0         0   \n",
        "Aecht Schlenkerla Rauchbier M\u00e4rzen         0         0          0         0   \n",
        "AleSmith IPA                               4         0          0         0   \n",
        "AleSmith Speedway Stout                    4         0          0         0   \n",
        "Allagash White                             0         0          0         0   \n",
        "Alpha King Pale Ale                        0         0          0         0   \n",
        "\n",
        "                                                                  \n",
        "review_profilename                  0tt0  1000Bottles  1001111.0  \n",
        "beer_name                                                         \n",
        "#9                                   0.0            0          0  \n",
        "120 Minute IPA                       1.5            0          0  \n",
        "1554 Enlightened Black Ale           0.0            0          0  \n",
        "60 Minute IPA                        0.0            0          0  \n",
        "90 Minute IPA                        0.0            0          0  \n",
        "Aecht Schlenkerla Rauchbier M\u00e4rzen   0.0            0          0  \n",
        "AleSmith IPA                         0.0            0          0  \n",
        "AleSmith Speedway Stout              0.0            0          0  \n",
        "Allagash White                       0.0            0          0  \n",
        "Alpha King Pale Ale                  0.0            0          0  \n",
        "\n",
        "[10 rows x 10 columns]"
       ]
      }
     ],
     "prompt_number": 34
    },
    {
     "cell_type": "markdown",
     "metadata": {},
     "source": [
      "### Discussion: what do you notice in this table?"
     ]
    },
    {
     "cell_type": "markdown",
     "metadata": {},
     "source": [
      "Set Nans to zero"
     ]
    },
    {
     "cell_type": "code",
     "collapsed": false,
     "input": [
      "df_wide = df_wide.fillna(0)"
     ],
     "language": "python",
     "metadata": {},
     "outputs": [],
     "prompt_number": 33
    },
    {
     "cell_type": "markdown",
     "metadata": {},
     "source": [
      "Check that columns are users"
     ]
    },
    {
     "cell_type": "code",
     "collapsed": false,
     "input": [
      "df_wide.columns[:10]"
     ],
     "language": "python",
     "metadata": {},
     "outputs": [
      {
       "metadata": {},
       "output_type": "pyout",
       "prompt_number": 35,
       "text": [
        "MultiIndex(levels=[[u'review_overall'], [u'0110x011', u'02maxima', u'03SVTCobra', u'05Harley', u'0Naught0', u'0beerguy0', u'0runkp0s', u'0tt0', u'1000Bottles', u'1001111.0', u'100floods', u'100proof', u'1050Sudz', u'108Dragons', u'1099.0', u'1100.0', u'1121987.0', u'11millsown113', u'11osixBrew', u'11thFloorBrewing', u'1229design', u'12NattiBottles', u'12ouncecurls', u'12percent', u'12vUnion', u'130guy', u'13smurrf', u'160Shillings', u'1759Girl', u'1759dallas', u'17Guinness59', u'18alpha', u'196osh', u'1993Heel', u'1996StrokerKid', u'1Adam12', u'1MiltonWaddams', u'1PA', u'1after909', u'1brbn1sctch1beer', u'1fastz28', u'1morebeer', u'1noa', u'1quiks10', u'1santore', u'1thinmint', u'1whiskey', u'20ozmonkey', u'21mmer', u'220emaple', u'22ozStone', u'2369.0', u'2378GCGTG', u'23fyerfyter', u'2408bwk', u'245Trioxin', u'24Beer92', u'25santurce', u'28Rock', u'2BDChicago', u'2Cruzy', u'2DaMtns', u'2KHokie', u'2LBrew', u'2Shay', u'2Stout4u', u'2beerdogs', u'2cansam', u'2girls1hop', u'2heartedMIKE', u'2late2brew', u'2melow', u'2ndloveofmylife', u'2ndstage', u'2oose', u'2roosters', u'2stepZ', u'2wheeledpirate', u'2xHops', u'311kevin', u'31thadrty1', u'321jeff', u'322wingedfoot', u'32hoss32', u'33nickadams', u'3FaveryRogue', u'3HovsepiansBrews', u'3Vandoo', u'3dudesbeerblog', u'3frog', u'3leggeddub', u'3m3rson', u'3nlightenedfool', u'3rdRowTailgater', u'4000qtrap', u'404UGA', u'40oztofreedom89', u'420.0', u'44ouncer', u'454onbeerss', ...]],\n",
        "           labels=[[0, 0, 0, 0, 0, 0, 0, 0, 0, 0], [0, 1, 2, 3, 4, 5, 6, 7, 8, 9]],\n",
        "           names=[None, u'review_profilename'])"
       ]
      }
     ],
     "prompt_number": 35
    },
    {
     "cell_type": "markdown",
     "metadata": {},
     "source": [
      "Check that rows are beers"
     ]
    },
    {
     "cell_type": "code",
     "collapsed": false,
     "input": [],
     "language": "python",
     "metadata": {},
     "outputs": []
    },
    {
     "cell_type": "markdown",
     "metadata": {},
     "source": [
      "### Calculate distance between beers\n",
      "\n",
      "This is the key. we're going to use cosine_similarity from scikit-learn to compute the distance between all beers"
     ]
    },
    {
     "cell_type": "markdown",
     "metadata": {},
     "source": [
      "Import stuff"
     ]
    },
    {
     "cell_type": "code",
     "collapsed": false,
     "input": [
      "from sklearn.metrics.pairwise import cosine_similarity\n",
      "from sklearn.metrics.pairwise import manhattan_distances\n",
      "from sklearn.metrics.pairwise import euclidean_distances"
     ],
     "language": "python",
     "metadata": {},
     "outputs": [],
     "prompt_number": 36
    },
    {
     "cell_type": "markdown",
     "metadata": {},
     "source": [
      "Apply cosine similarity to df_wide to calculate pairwise distances"
     ]
    },
    {
     "cell_type": "code",
     "collapsed": false,
     "input": [
      "dists = cosine_similarity(df_wide)\n",
      "dists"
     ],
     "language": "python",
     "metadata": {},
     "outputs": [
      {
       "metadata": {},
       "output_type": "pyout",
       "prompt_number": 37,
       "text": [
        "array([[ 1.        ,  0.27540494,  0.27410345, ...,  0.32928048,\n",
        "         0.34805798,  0.31249922],\n",
        "       [ 0.27540494,  1.        ,  0.25151873, ...,  0.2854835 ,\n",
        "         0.23301356,  0.2802485 ],\n",
        "       [ 0.27410345,  0.25151873,  1.        , ...,  0.31629515,\n",
        "         0.22521858,  0.2737628 ],\n",
        "       ..., \n",
        "       [ 0.32928048,  0.2854835 ,  0.31629515, ...,  1.        ,\n",
        "         0.28025764,  0.34504013],\n",
        "       [ 0.34805798,  0.23301356,  0.22521858, ...,  0.28025764,\n",
        "         1.        ,  0.25526913],\n",
        "       [ 0.31249922,  0.2802485 ,  0.2737628 , ...,  0.34504013,\n",
        "         0.25526913,  1.        ]])"
       ]
      }
     ],
     "prompt_number": 37
    },
    {
     "cell_type": "code",
     "collapsed": false,
     "input": [
      "dists_m = manhattan_distances(df_wide)\n",
      "dists_m"
     ],
     "language": "python",
     "metadata": {},
     "outputs": [
      {
       "metadata": {},
       "output_type": "pyout",
       "prompt_number": 39,
       "text": [
        "array([[     0.        ,   8302.33333333,   7114.83333333, ...,\n",
        "          9759.08333333,   7028.83333333,   5978.58333333],\n",
        "       [  8302.33333333,      0.        ,   8189.        , ...,\n",
        "         10996.25      ,   9040.        ,   7125.75      ],\n",
        "       [  7114.83333333,   8189.        ,      0.        , ...,\n",
        "          9499.58333333,   7864.33333333,   5896.25      ],\n",
        "       ..., \n",
        "       [  9759.08333333,  10996.25      ,   9499.58333333, ...,\n",
        "             0.        ,  10558.58333333,   8652.83333333],\n",
        "       [  7028.83333333,   9040.        ,   7864.33333333, ...,\n",
        "         10558.58333333,      0.        ,   6758.25      ],\n",
        "       [  5978.58333333,   7125.75      ,   5896.25      , ...,\n",
        "          8652.83333333,   6758.25      ,      0.        ]])"
       ]
      }
     ],
     "prompt_number": 39
    },
    {
     "cell_type": "markdown",
     "metadata": {},
     "source": [
      "### Discussion: what type of object is dists?"
     ]
    },
    {
     "cell_type": "markdown",
     "metadata": {},
     "source": [
      "Convert dists to a Pandas DataFrame, use the index as column index as well (distances are a square matrix)."
     ]
    },
    {
     "cell_type": "code",
     "collapsed": false,
     "input": [
      "dists = pd.DataFrame(dists, columns=df_wide.index)\n",
      "dists.index = dists.columns\n",
      "dists.ix[0:10, 0:20]"
     ],
     "language": "python",
     "metadata": {},
     "outputs": [
      {
       "html": [
        "<div style=\"max-height:1000px;max-width:1500px;overflow:auto;\">\n",
        "<table border=\"1\" class=\"dataframe\">\n",
        "  <thead>\n",
        "    <tr style=\"text-align: right;\">\n",
        "      <th>beer_name</th>\n",
        "      <th>#9</th>\n",
        "      <th>120 Minute IPA</th>\n",
        "      <th>1554 Enlightened Black Ale</th>\n",
        "      <th>60 Minute IPA</th>\n",
        "      <th>90 Minute IPA</th>\n",
        "      <th>Aecht Schlenkerla Rauchbier M\u00e4rzen</th>\n",
        "      <th>AleSmith IPA</th>\n",
        "      <th>AleSmith Speedway Stout</th>\n",
        "      <th>Allagash White</th>\n",
        "      <th>Alpha King Pale Ale</th>\n",
        "      <th>Anchor Liberty Ale</th>\n",
        "      <th>Anchor Old Foghorn</th>\n",
        "      <th>Anchor Porter</th>\n",
        "      <th>Anchor Steam Beer</th>\n",
        "      <th>ApriHop</th>\n",
        "      <th>Arrogant Bastard Ale</th>\n",
        "      <th>Ayinger Celebrator Doppelbock</th>\n",
        "      <th>Bass Pale Ale</th>\n",
        "      <th>Bell's Expedition Stout</th>\n",
        "      <th>Bell's Hopslam Ale</th>\n",
        "    </tr>\n",
        "    <tr>\n",
        "      <th>beer_name</th>\n",
        "      <th></th>\n",
        "      <th></th>\n",
        "      <th></th>\n",
        "      <th></th>\n",
        "      <th></th>\n",
        "      <th></th>\n",
        "      <th></th>\n",
        "      <th></th>\n",
        "      <th></th>\n",
        "      <th></th>\n",
        "      <th></th>\n",
        "      <th></th>\n",
        "      <th></th>\n",
        "      <th></th>\n",
        "      <th></th>\n",
        "      <th></th>\n",
        "      <th></th>\n",
        "      <th></th>\n",
        "      <th></th>\n",
        "      <th></th>\n",
        "    </tr>\n",
        "  </thead>\n",
        "  <tbody>\n",
        "    <tr>\n",
        "      <th>#9</th>\n",
        "      <td> 1.000000</td>\n",
        "      <td> 0.275405</td>\n",
        "      <td> 0.274103</td>\n",
        "      <td> 0.388364</td>\n",
        "      <td> 0.365175</td>\n",
        "      <td> 0.253841</td>\n",
        "      <td> 0.228479</td>\n",
        "      <td> 0.227612</td>\n",
        "      <td> 0.340681</td>\n",
        "      <td> 0.293315</td>\n",
        "      <td> 0.313646</td>\n",
        "      <td> 0.262691</td>\n",
        "      <td> 0.295606</td>\n",
        "      <td> 0.335229</td>\n",
        "      <td> 0.350554</td>\n",
        "      <td> 0.368407</td>\n",
        "      <td> 0.328744</td>\n",
        "      <td> 0.316909</td>\n",
        "      <td> 0.303229</td>\n",
        "      <td> 0.265054</td>\n",
        "    </tr>\n",
        "    <tr>\n",
        "      <th>120 Minute IPA</th>\n",
        "      <td> 0.275405</td>\n",
        "      <td> 1.000000</td>\n",
        "      <td> 0.251519</td>\n",
        "      <td> 0.378258</td>\n",
        "      <td> 0.410366</td>\n",
        "      <td> 0.262425</td>\n",
        "      <td> 0.315971</td>\n",
        "      <td> 0.337541</td>\n",
        "      <td> 0.282273</td>\n",
        "      <td> 0.336796</td>\n",
        "      <td> 0.276681</td>\n",
        "      <td> 0.297229</td>\n",
        "      <td> 0.267729</td>\n",
        "      <td> 0.294004</td>\n",
        "      <td> 0.365020</td>\n",
        "      <td> 0.358592</td>\n",
        "      <td> 0.348554</td>\n",
        "      <td> 0.220424</td>\n",
        "      <td> 0.360413</td>\n",
        "      <td> 0.327169</td>\n",
        "    </tr>\n",
        "    <tr>\n",
        "      <th>1554 Enlightened Black Ale</th>\n",
        "      <td> 0.274103</td>\n",
        "      <td> 0.251519</td>\n",
        "      <td> 1.000000</td>\n",
        "      <td> 0.319887</td>\n",
        "      <td> 0.314028</td>\n",
        "      <td> 0.252486</td>\n",
        "      <td> 0.266866</td>\n",
        "      <td> 0.261761</td>\n",
        "      <td> 0.260275</td>\n",
        "      <td> 0.307296</td>\n",
        "      <td> 0.307476</td>\n",
        "      <td> 0.285117</td>\n",
        "      <td> 0.317512</td>\n",
        "      <td> 0.324211</td>\n",
        "      <td> 0.283946</td>\n",
        "      <td> 0.334399</td>\n",
        "      <td> 0.335078</td>\n",
        "      <td> 0.266520</td>\n",
        "      <td> 0.313058</td>\n",
        "      <td> 0.272595</td>\n",
        "    </tr>\n",
        "    <tr>\n",
        "      <th>60 Minute IPA</th>\n",
        "      <td> 0.388364</td>\n",
        "      <td> 0.378258</td>\n",
        "      <td> 0.319887</td>\n",
        "      <td> 1.000000</td>\n",
        "      <td> 0.533042</td>\n",
        "      <td> 0.316928</td>\n",
        "      <td> 0.312343</td>\n",
        "      <td> 0.307627</td>\n",
        "      <td> 0.360975</td>\n",
        "      <td> 0.385249</td>\n",
        "      <td> 0.406061</td>\n",
        "      <td> 0.342797</td>\n",
        "      <td> 0.376739</td>\n",
        "      <td> 0.421268</td>\n",
        "      <td> 0.442308</td>\n",
        "      <td> 0.490766</td>\n",
        "      <td> 0.424303</td>\n",
        "      <td> 0.312595</td>\n",
        "      <td> 0.391720</td>\n",
        "      <td> 0.358961</td>\n",
        "    </tr>\n",
        "    <tr>\n",
        "      <th>90 Minute IPA</th>\n",
        "      <td> 0.365175</td>\n",
        "      <td> 0.410366</td>\n",
        "      <td> 0.314028</td>\n",
        "      <td> 0.533042</td>\n",
        "      <td> 1.000000</td>\n",
        "      <td> 0.312861</td>\n",
        "      <td> 0.344218</td>\n",
        "      <td> 0.358754</td>\n",
        "      <td> 0.356804</td>\n",
        "      <td> 0.418582</td>\n",
        "      <td> 0.389612</td>\n",
        "      <td> 0.348332</td>\n",
        "      <td> 0.364219</td>\n",
        "      <td> 0.402399</td>\n",
        "      <td> 0.443081</td>\n",
        "      <td> 0.498216</td>\n",
        "      <td> 0.465868</td>\n",
        "      <td> 0.299219</td>\n",
        "      <td> 0.434390</td>\n",
        "      <td> 0.399492</td>\n",
        "    </tr>\n",
        "    <tr>\n",
        "      <th>Aecht Schlenkerla Rauchbier M\u00e4rzen</th>\n",
        "      <td> 0.253841</td>\n",
        "      <td> 0.262425</td>\n",
        "      <td> 0.252486</td>\n",
        "      <td> 0.316928</td>\n",
        "      <td> 0.312861</td>\n",
        "      <td> 1.000000</td>\n",
        "      <td> 0.244490</td>\n",
        "      <td> 0.246063</td>\n",
        "      <td> 0.297672</td>\n",
        "      <td> 0.263248</td>\n",
        "      <td> 0.349286</td>\n",
        "      <td> 0.312398</td>\n",
        "      <td> 0.310218</td>\n",
        "      <td> 0.345334</td>\n",
        "      <td> 0.284347</td>\n",
        "      <td> 0.323399</td>\n",
        "      <td> 0.364062</td>\n",
        "      <td> 0.275060</td>\n",
        "      <td> 0.306663</td>\n",
        "      <td> 0.230345</td>\n",
        "    </tr>\n",
        "    <tr>\n",
        "      <th>AleSmith IPA</th>\n",
        "      <td> 0.228479</td>\n",
        "      <td> 0.315971</td>\n",
        "      <td> 0.266866</td>\n",
        "      <td> 0.312343</td>\n",
        "      <td> 0.344218</td>\n",
        "      <td> 0.244490</td>\n",
        "      <td> 1.000000</td>\n",
        "      <td> 0.521889</td>\n",
        "      <td> 0.277409</td>\n",
        "      <td> 0.400741</td>\n",
        "      <td> 0.281105</td>\n",
        "      <td> 0.288192</td>\n",
        "      <td> 0.282041</td>\n",
        "      <td> 0.278811</td>\n",
        "      <td> 0.334270</td>\n",
        "      <td> 0.349759</td>\n",
        "      <td> 0.350375</td>\n",
        "      <td> 0.192786</td>\n",
        "      <td> 0.395084</td>\n",
        "      <td> 0.372731</td>\n",
        "    </tr>\n",
        "    <tr>\n",
        "      <th>AleSmith Speedway Stout</th>\n",
        "      <td> 0.227612</td>\n",
        "      <td> 0.337541</td>\n",
        "      <td> 0.261761</td>\n",
        "      <td> 0.307627</td>\n",
        "      <td> 0.358754</td>\n",
        "      <td> 0.246063</td>\n",
        "      <td> 0.521889</td>\n",
        "      <td> 1.000000</td>\n",
        "      <td> 0.273930</td>\n",
        "      <td> 0.420247</td>\n",
        "      <td> 0.272729</td>\n",
        "      <td> 0.301819</td>\n",
        "      <td> 0.280061</td>\n",
        "      <td> 0.276252</td>\n",
        "      <td> 0.331540</td>\n",
        "      <td> 0.348958</td>\n",
        "      <td> 0.384223</td>\n",
        "      <td> 0.195599</td>\n",
        "      <td> 0.438688</td>\n",
        "      <td> 0.403714</td>\n",
        "    </tr>\n",
        "    <tr>\n",
        "      <th>Allagash White</th>\n",
        "      <td> 0.340681</td>\n",
        "      <td> 0.282273</td>\n",
        "      <td> 0.260275</td>\n",
        "      <td> 0.360975</td>\n",
        "      <td> 0.356804</td>\n",
        "      <td> 0.297672</td>\n",
        "      <td> 0.277409</td>\n",
        "      <td> 0.273930</td>\n",
        "      <td> 1.000000</td>\n",
        "      <td> 0.295666</td>\n",
        "      <td> 0.338240</td>\n",
        "      <td> 0.313212</td>\n",
        "      <td> 0.324446</td>\n",
        "      <td> 0.346155</td>\n",
        "      <td> 0.352724</td>\n",
        "      <td> 0.361881</td>\n",
        "      <td> 0.375506</td>\n",
        "      <td> 0.283585</td>\n",
        "      <td> 0.324944</td>\n",
        "      <td> 0.260134</td>\n",
        "    </tr>\n",
        "    <tr>\n",
        "      <th>Alpha King Pale Ale</th>\n",
        "      <td> 0.293315</td>\n",
        "      <td> 0.336796</td>\n",
        "      <td> 0.307296</td>\n",
        "      <td> 0.385249</td>\n",
        "      <td> 0.418582</td>\n",
        "      <td> 0.263248</td>\n",
        "      <td> 0.400741</td>\n",
        "      <td> 0.420247</td>\n",
        "      <td> 0.295666</td>\n",
        "      <td> 1.000000</td>\n",
        "      <td> 0.317454</td>\n",
        "      <td> 0.316504</td>\n",
        "      <td> 0.296382</td>\n",
        "      <td> 0.306550</td>\n",
        "      <td> 0.377889</td>\n",
        "      <td> 0.399099</td>\n",
        "      <td> 0.395592</td>\n",
        "      <td> 0.234142</td>\n",
        "      <td> 0.486399</td>\n",
        "      <td> 0.449031</td>\n",
        "    </tr>\n",
        "  </tbody>\n",
        "</table>\n",
        "<p>10 rows \u00d7 20 columns</p>\n",
        "</div>"
       ],
       "metadata": {},
       "output_type": "pyout",
       "prompt_number": 41,
       "text": [
        "beer_name                                 #9  120 Minute IPA  \\\n",
        "beer_name                                                      \n",
        "#9                                  1.000000        0.275405   \n",
        "120 Minute IPA                      0.275405        1.000000   \n",
        "1554 Enlightened Black Ale          0.274103        0.251519   \n",
        "60 Minute IPA                       0.388364        0.378258   \n",
        "90 Minute IPA                       0.365175        0.410366   \n",
        "Aecht Schlenkerla Rauchbier M\u00e4rzen  0.253841        0.262425   \n",
        "AleSmith IPA                        0.228479        0.315971   \n",
        "AleSmith Speedway Stout             0.227612        0.337541   \n",
        "Allagash White                      0.340681        0.282273   \n",
        "Alpha King Pale Ale                 0.293315        0.336796   \n",
        "\n",
        "beer_name                           1554 Enlightened Black Ale  60 Minute IPA  \\\n",
        "beer_name                                                                       \n",
        "#9                                                    0.274103       0.388364   \n",
        "120 Minute IPA                                        0.251519       0.378258   \n",
        "1554 Enlightened Black Ale                            1.000000       0.319887   \n",
        "60 Minute IPA                                         0.319887       1.000000   \n",
        "90 Minute IPA                                         0.314028       0.533042   \n",
        "Aecht Schlenkerla Rauchbier M\u00e4rzen                    0.252486       0.316928   \n",
        "AleSmith IPA                                          0.266866       0.312343   \n",
        "AleSmith Speedway Stout                               0.261761       0.307627   \n",
        "Allagash White                                        0.260275       0.360975   \n",
        "Alpha King Pale Ale                                   0.307296       0.385249   \n",
        "\n",
        "beer_name                           90 Minute IPA  \\\n",
        "beer_name                                           \n",
        "#9                                       0.365175   \n",
        "120 Minute IPA                           0.410366   \n",
        "1554 Enlightened Black Ale               0.314028   \n",
        "60 Minute IPA                            0.533042   \n",
        "90 Minute IPA                            1.000000   \n",
        "Aecht Schlenkerla Rauchbier M\u00e4rzen       0.312861   \n",
        "AleSmith IPA                             0.344218   \n",
        "AleSmith Speedway Stout                  0.358754   \n",
        "Allagash White                           0.356804   \n",
        "Alpha King Pale Ale                      0.418582   \n",
        "\n",
        "beer_name                           Aecht Schlenkerla Rauchbier M\u00e4rzen  \\\n",
        "beer_name                                                                \n",
        "#9                                                            0.253841   \n",
        "120 Minute IPA                                                0.262425   \n",
        "1554 Enlightened Black Ale                                    0.252486   \n",
        "60 Minute IPA                                                 0.316928   \n",
        "90 Minute IPA                                                 0.312861   \n",
        "Aecht Schlenkerla Rauchbier M\u00e4rzen                            1.000000   \n",
        "AleSmith IPA                                                  0.244490   \n",
        "AleSmith Speedway Stout                                       0.246063   \n",
        "Allagash White                                                0.297672   \n",
        "Alpha King Pale Ale                                           0.263248   \n",
        "\n",
        "beer_name                           AleSmith IPA  AleSmith Speedway Stout  \\\n",
        "beer_name                                                                   \n",
        "#9                                      0.228479                 0.227612   \n",
        "120 Minute IPA                          0.315971                 0.337541   \n",
        "1554 Enlightened Black Ale              0.266866                 0.261761   \n",
        "60 Minute IPA                           0.312343                 0.307627   \n",
        "90 Minute IPA                           0.344218                 0.358754   \n",
        "Aecht Schlenkerla Rauchbier M\u00e4rzen      0.244490                 0.246063   \n",
        "AleSmith IPA                            1.000000                 0.521889   \n",
        "AleSmith Speedway Stout                 0.521889                 1.000000   \n",
        "Allagash White                          0.277409                 0.273930   \n",
        "Alpha King Pale Ale                     0.400741                 0.420247   \n",
        "\n",
        "beer_name                           Allagash White  Alpha King Pale Ale  \\\n",
        "beer_name                                                                 \n",
        "#9                                        0.340681             0.293315   \n",
        "120 Minute IPA                            0.282273             0.336796   \n",
        "1554 Enlightened Black Ale                0.260275             0.307296   \n",
        "60 Minute IPA                             0.360975             0.385249   \n",
        "90 Minute IPA                             0.356804             0.418582   \n",
        "Aecht Schlenkerla Rauchbier M\u00e4rzen        0.297672             0.263248   \n",
        "AleSmith IPA                              0.277409             0.400741   \n",
        "AleSmith Speedway Stout                   0.273930             0.420247   \n",
        "Allagash White                            1.000000             0.295666   \n",
        "Alpha King Pale Ale                       0.295666             1.000000   \n",
        "\n",
        "beer_name                           Anchor Liberty Ale  Anchor Old Foghorn  \\\n",
        "beer_name                                                                    \n",
        "#9                                            0.313646            0.262691   \n",
        "120 Minute IPA                                0.276681            0.297229   \n",
        "1554 Enlightened Black Ale                    0.307476            0.285117   \n",
        "60 Minute IPA                                 0.406061            0.342797   \n",
        "90 Minute IPA                                 0.389612            0.348332   \n",
        "Aecht Schlenkerla Rauchbier M\u00e4rzen            0.349286            0.312398   \n",
        "AleSmith IPA                                  0.281105            0.288192   \n",
        "AleSmith Speedway Stout                       0.272729            0.301819   \n",
        "Allagash White                                0.338240            0.313212   \n",
        "Alpha King Pale Ale                           0.317454            0.316504   \n",
        "\n",
        "beer_name                           Anchor Porter  Anchor Steam Beer  \\\n",
        "beer_name                                                              \n",
        "#9                                       0.295606           0.335229   \n",
        "120 Minute IPA                           0.267729           0.294004   \n",
        "1554 Enlightened Black Ale               0.317512           0.324211   \n",
        "60 Minute IPA                            0.376739           0.421268   \n",
        "90 Minute IPA                            0.364219           0.402399   \n",
        "Aecht Schlenkerla Rauchbier M\u00e4rzen       0.310218           0.345334   \n",
        "AleSmith IPA                             0.282041           0.278811   \n",
        "AleSmith Speedway Stout                  0.280061           0.276252   \n",
        "Allagash White                           0.324446           0.346155   \n",
        "Alpha King Pale Ale                      0.296382           0.306550   \n",
        "\n",
        "beer_name                            ApriHop  Arrogant Bastard Ale  \\\n",
        "beer_name                                                            \n",
        "#9                                  0.350554              0.368407   \n",
        "120 Minute IPA                      0.365020              0.358592   \n",
        "1554 Enlightened Black Ale          0.283946              0.334399   \n",
        "60 Minute IPA                       0.442308              0.490766   \n",
        "90 Minute IPA                       0.443081              0.498216   \n",
        "Aecht Schlenkerla Rauchbier M\u00e4rzen  0.284347              0.323399   \n",
        "AleSmith IPA                        0.334270              0.349759   \n",
        "AleSmith Speedway Stout             0.331540              0.348958   \n",
        "Allagash White                      0.352724              0.361881   \n",
        "Alpha King Pale Ale                 0.377889              0.399099   \n",
        "\n",
        "beer_name                           Ayinger Celebrator Doppelbock  \\\n",
        "beer_name                                                           \n",
        "#9                                                       0.328744   \n",
        "120 Minute IPA                                           0.348554   \n",
        "1554 Enlightened Black Ale                               0.335078   \n",
        "60 Minute IPA                                            0.424303   \n",
        "90 Minute IPA                                            0.465868   \n",
        "Aecht Schlenkerla Rauchbier M\u00e4rzen                       0.364062   \n",
        "AleSmith IPA                                             0.350375   \n",
        "AleSmith Speedway Stout                                  0.384223   \n",
        "Allagash White                                           0.375506   \n",
        "Alpha King Pale Ale                                      0.395592   \n",
        "\n",
        "beer_name                           Bass Pale Ale  Bell's Expedition Stout  \\\n",
        "beer_name                                                                    \n",
        "#9                                       0.316909                 0.303229   \n",
        "120 Minute IPA                           0.220424                 0.360413   \n",
        "1554 Enlightened Black Ale               0.266520                 0.313058   \n",
        "60 Minute IPA                            0.312595                 0.391720   \n",
        "90 Minute IPA                            0.299219                 0.434390   \n",
        "Aecht Schlenkerla Rauchbier M\u00e4rzen       0.275060                 0.306663   \n",
        "AleSmith IPA                             0.192786                 0.395084   \n",
        "AleSmith Speedway Stout                  0.195599                 0.438688   \n",
        "Allagash White                           0.283585                 0.324944   \n",
        "Alpha King Pale Ale                      0.234142                 0.486399   \n",
        "\n",
        "beer_name                           Bell's Hopslam Ale  \n",
        "beer_name                                               \n",
        "#9                                            0.265054  \n",
        "120 Minute IPA                                0.327169  \n",
        "1554 Enlightened Black Ale                    0.272595  \n",
        "60 Minute IPA                                 0.358961  \n",
        "90 Minute IPA                                 0.399492  \n",
        "Aecht Schlenkerla Rauchbier M\u00e4rzen            0.230345  \n",
        "AleSmith IPA                                  0.372731  \n",
        "AleSmith Speedway Stout                       0.403714  \n",
        "Allagash White                                0.260134  \n",
        "Alpha King Pale Ale                           0.449031  \n",
        "\n",
        "[10 rows x 20 columns]"
       ]
      }
     ],
     "prompt_number": 41
    },
    {
     "cell_type": "markdown",
     "metadata": {},
     "source": [
      "Select some beers and look their distances to other beers"
     ]
    },
    {
     "cell_type": "code",
     "collapsed": false,
     "input": [
      "beers_i_like = ['Sierra Nevada Pale Ale', '120 Minute IPA', 'Allagash White',]\n",
      "dists[beers_i_like].head(10)"
     ],
     "language": "python",
     "metadata": {},
     "outputs": [
      {
       "html": [
        "<div style=\"max-height:1000px;max-width:1500px;overflow:auto;\">\n",
        "<table border=\"1\" class=\"dataframe\">\n",
        "  <thead>\n",
        "    <tr style=\"text-align: right;\">\n",
        "      <th>beer_name</th>\n",
        "      <th>Sierra Nevada Pale Ale</th>\n",
        "      <th>120 Minute IPA</th>\n",
        "      <th>Allagash White</th>\n",
        "    </tr>\n",
        "    <tr>\n",
        "      <th>beer_name</th>\n",
        "      <th></th>\n",
        "      <th></th>\n",
        "      <th></th>\n",
        "    </tr>\n",
        "  </thead>\n",
        "  <tbody>\n",
        "    <tr>\n",
        "      <th>#9</th>\n",
        "      <td> 0.373968</td>\n",
        "      <td> 0.275405</td>\n",
        "      <td> 0.340681</td>\n",
        "    </tr>\n",
        "    <tr>\n",
        "      <th>120 Minute IPA</th>\n",
        "      <td> 0.301693</td>\n",
        "      <td> 1.000000</td>\n",
        "      <td> 0.282273</td>\n",
        "    </tr>\n",
        "    <tr>\n",
        "      <th>1554 Enlightened Black Ale</th>\n",
        "      <td> 0.330033</td>\n",
        "      <td> 0.251519</td>\n",
        "      <td> 0.260275</td>\n",
        "    </tr>\n",
        "    <tr>\n",
        "      <th>60 Minute IPA</th>\n",
        "      <td> 0.459641</td>\n",
        "      <td> 0.378258</td>\n",
        "      <td> 0.360975</td>\n",
        "    </tr>\n",
        "    <tr>\n",
        "      <th>90 Minute IPA</th>\n",
        "      <td> 0.441189</td>\n",
        "      <td> 0.410366</td>\n",
        "      <td> 0.356804</td>\n",
        "    </tr>\n",
        "    <tr>\n",
        "      <th>Aecht Schlenkerla Rauchbier M\u00e4rzen</th>\n",
        "      <td> 0.293300</td>\n",
        "      <td> 0.262425</td>\n",
        "      <td> 0.297672</td>\n",
        "    </tr>\n",
        "    <tr>\n",
        "      <th>AleSmith IPA</th>\n",
        "      <td> 0.294067</td>\n",
        "      <td> 0.315971</td>\n",
        "      <td> 0.277409</td>\n",
        "    </tr>\n",
        "    <tr>\n",
        "      <th>AleSmith Speedway Stout</th>\n",
        "      <td> 0.270488</td>\n",
        "      <td> 0.337541</td>\n",
        "      <td> 0.273930</td>\n",
        "    </tr>\n",
        "    <tr>\n",
        "      <th>Allagash White</th>\n",
        "      <td> 0.352512</td>\n",
        "      <td> 0.282273</td>\n",
        "      <td> 1.000000</td>\n",
        "    </tr>\n",
        "    <tr>\n",
        "      <th>Alpha King Pale Ale</th>\n",
        "      <td> 0.344466</td>\n",
        "      <td> 0.336796</td>\n",
        "      <td> 0.295666</td>\n",
        "    </tr>\n",
        "  </tbody>\n",
        "</table>\n",
        "<p>10 rows \u00d7 3 columns</p>\n",
        "</div>"
       ],
       "metadata": {},
       "output_type": "pyout",
       "prompt_number": 44,
       "text": [
        "beer_name                           Sierra Nevada Pale Ale  120 Minute IPA  \\\n",
        "beer_name                                                                    \n",
        "#9                                                0.373968        0.275405   \n",
        "120 Minute IPA                                    0.301693        1.000000   \n",
        "1554 Enlightened Black Ale                        0.330033        0.251519   \n",
        "60 Minute IPA                                     0.459641        0.378258   \n",
        "90 Minute IPA                                     0.441189        0.410366   \n",
        "Aecht Schlenkerla Rauchbier M\u00e4rzen                0.293300        0.262425   \n",
        "AleSmith IPA                                      0.294067        0.315971   \n",
        "AleSmith Speedway Stout                           0.270488        0.337541   \n",
        "Allagash White                                    0.352512        0.282273   \n",
        "Alpha King Pale Ale                               0.344466        0.336796   \n",
        "\n",
        "beer_name                           Allagash White  \n",
        "beer_name                                           \n",
        "#9                                        0.340681  \n",
        "120 Minute IPA                            0.282273  \n",
        "1554 Enlightened Black Ale                0.260275  \n",
        "60 Minute IPA                             0.360975  \n",
        "90 Minute IPA                             0.356804  \n",
        "Aecht Schlenkerla Rauchbier M\u00e4rzen        0.297672  \n",
        "AleSmith IPA                              0.277409  \n",
        "AleSmith Speedway Stout                   0.273930  \n",
        "Allagash White                            1.000000  \n",
        "Alpha King Pale Ale                       0.295666  \n",
        "\n",
        "[10 rows x 3 columns]"
       ]
      }
     ],
     "prompt_number": 44
    },
    {
     "cell_type": "markdown",
     "metadata": {},
     "source": [
      "Sum the distances of my favourite beers by row, to have one distance from each beer in the sample"
     ]
    },
    {
     "cell_type": "code",
     "collapsed": false,
     "input": [
      "# beers_summed = dists[beers_i_like].apply(lambda row: np.sum(row), axis=1)\n",
      "beers_summed = np.sum(dists[beers_i_like], axis=1)"
     ],
     "language": "python",
     "metadata": {},
     "outputs": [],
     "prompt_number": 67
    },
    {
     "cell_type": "code",
     "collapsed": false,
     "input": [
      "% timeit dists[beers_i_like].apply(lambda row: np.sum(row), axis=1)"
     ],
     "language": "python",
     "metadata": {},
     "outputs": [
      {
       "output_type": "stream",
       "stream": "stdout",
       "text": [
        "100 loops, best of 3: 11.2 ms per loop\n"
       ]
      }
     ],
     "prompt_number": 68
    },
    {
     "cell_type": "code",
     "collapsed": false,
     "input": [
      "% timeit np.sum(dists[beers_i_like], axis=1)"
     ],
     "language": "python",
     "metadata": {},
     "outputs": [
      {
       "output_type": "stream",
       "stream": "stdout",
       "text": [
        "1000 loops, best of 3: 554 \u00b5s per loop\n"
       ]
      }
     ],
     "prompt_number": 69
    },
    {
     "cell_type": "markdown",
     "metadata": {},
     "source": [
      "Optional: which one is faster? use ```%timeit``` to check"
     ]
    },
    {
     "cell_type": "markdown",
     "metadata": {},
     "source": [
      "Sort summed beers from best to worse"
     ]
    },
    {
     "cell_type": "code",
     "collapsed": false,
     "input": [
      "beers_summed = beers_summed.order(ascending=False)\n",
      "beers_summed"
     ],
     "language": "python",
     "metadata": {},
     "outputs": [
      {
       "metadata": {},
       "output_type": "pyout",
       "prompt_number": 70,
       "text": [
        "beer_name\n",
        "Sierra Nevada Pale Ale                        1.654205\n",
        "Allagash White                                1.634784\n",
        "120 Minute IPA                                1.583966\n",
        "HopDevil Ale                                  1.224217\n",
        "Sierra Nevada Celebration Ale                 1.215156\n",
        "90 Minute IPA                                 1.208359\n",
        "60 Minute IPA                                 1.198874\n",
        "Stone Ruination IPA                           1.194210\n",
        "Stone IPA (India Pale Ale)                    1.193193\n",
        "Storm King Stout                              1.192405\n",
        "Arrogant Bastard Ale                          1.189981\n",
        "Sierra Nevada Bigfoot Barleywine Style Ale    1.178245\n",
        "Prima Pils                                    1.178093\n",
        "Brooklyn Black Chocolate Stout                1.156365\n",
        "Ayinger Celebrator Doppelbock                 1.148356\n",
        "...\n",
        "Budweiser                                   0.758390\n",
        "Furious                                     0.757417\n",
        "New Holland Dragon's Milk Oak Barrel Ale    0.756746\n",
        "Raging Bitch Belgian-Style IPA              0.752031\n",
        "Terrapin Coffee Oatmeal Imperial Stout      0.750240\n",
        "Hobgoblin                                   0.748117\n",
        "Shiner Bock                                 0.739454\n",
        "The Abyss                                   0.723008\n",
        "Miller Lite                                 0.716208\n",
        "Leinenkugel's Sunset Wheat                  0.710691\n",
        "Bud Light                                   0.710377\n",
        "Corona Extra                                0.682882\n",
        "Miller High Life                            0.682360\n",
        "Coors Light                                 0.670167\n",
        "Vanilla Porter                              0.664363\n",
        "Length: 250, dtype: float64"
       ]
      }
     ],
     "prompt_number": 70
    },
    {
     "cell_type": "markdown",
     "metadata": {},
     "source": [
      "Filter out the beers used as input and transform to list"
     ]
    },
    {
     "cell_type": "code",
     "collapsed": false,
     "input": [
      "ranked_beers = beers_summed.index[beers_summed.index.isin(beers_i_like)==False].iloc[3:].index\n",
      "ranked_beers = ranked_beers.tolist()\n",
      "ranked_beers[:5]"
     ],
     "language": "python",
     "metadata": {},
     "outputs": [
      {
       "ename": "AttributeError",
       "evalue": "'Index' object has no attribute 'iloc'",
       "output_type": "pyerr",
       "traceback": [
        "\u001b[0;31m---------------------------------------------------------------------------\u001b[0m\n\u001b[0;31mAttributeError\u001b[0m                            Traceback (most recent call last)",
        "\u001b[0;32m<ipython-input-71-f00dae090cff>\u001b[0m in \u001b[0;36m<module>\u001b[0;34m()\u001b[0m\n\u001b[0;32m----> 1\u001b[0;31m \u001b[0mranked_beers\u001b[0m \u001b[0;34m=\u001b[0m \u001b[0mbeers_summed\u001b[0m\u001b[0;34m.\u001b[0m\u001b[0mindex\u001b[0m\u001b[0;34m[\u001b[0m\u001b[0mbeers_summed\u001b[0m\u001b[0;34m.\u001b[0m\u001b[0mindex\u001b[0m\u001b[0;34m.\u001b[0m\u001b[0misin\u001b[0m\u001b[0;34m(\u001b[0m\u001b[0mbeers_i_like\u001b[0m\u001b[0;34m)\u001b[0m\u001b[0;34m==\u001b[0m\u001b[0mFalse\u001b[0m\u001b[0;34m]\u001b[0m\u001b[0;34m.\u001b[0m\u001b[0miloc\u001b[0m\u001b[0;34m[\u001b[0m\u001b[0;36m3\u001b[0m\u001b[0;34m:\u001b[0m\u001b[0;34m]\u001b[0m\u001b[0;34m.\u001b[0m\u001b[0mindex\u001b[0m\u001b[0;34m\u001b[0m\u001b[0m\n\u001b[0m\u001b[1;32m      2\u001b[0m \u001b[0mranked_beers\u001b[0m \u001b[0;34m=\u001b[0m \u001b[0mranked_beers\u001b[0m\u001b[0;34m.\u001b[0m\u001b[0mtolist\u001b[0m\u001b[0;34m(\u001b[0m\u001b[0;34m)\u001b[0m\u001b[0;34m\u001b[0m\u001b[0m\n\u001b[1;32m      3\u001b[0m \u001b[0mranked_beers\u001b[0m\u001b[0;34m[\u001b[0m\u001b[0;34m:\u001b[0m\u001b[0;36m5\u001b[0m\u001b[0;34m]\u001b[0m\u001b[0;34m\u001b[0m\u001b[0m\n",
        "\u001b[0;31mAttributeError\u001b[0m: 'Index' object has no attribute 'iloc'"
       ]
      }
     ],
     "prompt_number": 71
    },
    {
     "cell_type": "markdown",
     "metadata": {},
     "source": [
      "Define a function that does what we just did for an arbitrary input list of beers. it should also receive the maximum number of beers requested n as optional parameter."
     ]
    },
    {
     "cell_type": "code",
     "collapsed": false,
     "input": [
      "def get_similar(beers, n=None):\n",
      "    \"\"\"\n",
      "    calculates which beers are most similar to the beers provided. Des not return the beers that were provided\n",
      "    \n",
      "    Parameters\n",
      "    -----------\n",
      "    beers: lists\n",
      "        some beers!\n",
      "        \n",
      "    Returns\n",
      "    --------\n",
      "    ranked_beers: list\n",
      "        ranked ordered beers\n",
      "        \n",
      "    \"\"\"\n",
      "    beers = [beer for beer in beers if beer in dists.columns]\n",
      "    beers_summed = np.sum(dists[beers_i_like], axis=1)\n",
      "    beers_summed = beers_summed.order(ascending=False)\n",
      "    ranked_beers = beers_summed.index[beers_summed.index.isin(beers)==False]\n",
      "    ranked_beers = ranked_beers.tolist()\n",
      "    if n is None:\n",
      "        return ranked_beers\n",
      "    else:\n",
      "        return ranked_beers[:n]\n"
     ],
     "language": "python",
     "metadata": {},
     "outputs": [],
     "prompt_number": 72
    },
    {
     "cell_type": "markdown",
     "metadata": {},
     "source": [
      "Test your function. Find the 10 beers most similar to \"120 Minute IPA\""
     ]
    },
    {
     "cell_type": "code",
     "collapsed": false,
     "input": [
      "for beer in get_similar([\"120 Minute IPA\"], 10):\n",
      "    print beer"
     ],
     "language": "python",
     "metadata": {},
     "outputs": [
      {
       "output_type": "stream",
       "stream": "stdout",
       "text": [
        "Sierra Nevada Pale Ale\n",
        "Allagash White\n",
        "HopDevil Ale\n",
        "Sierra Nevada Celebration Ale\n",
        "90 Minute IPA\n",
        "60 Minute IPA\n",
        "Stone Ruination IPA\n",
        "Stone IPA (India Pale Ale)\n",
        "Storm King Stout\n",
        "Arrogant Bastard Ale\n"
       ]
      }
     ],
     "prompt_number": 73
    },
    {
     "cell_type": "markdown",
     "metadata": {},
     "source": [
      "Cool, let's try again with the 10 beers most similar to [\"Coors Light\", \"Bud Light\", \"Amstel Light\"]"
     ]
    },
    {
     "cell_type": "code",
     "collapsed": false,
     "input": [
      "for i, beer in enumerate(get_similar([\"Coors Light\", \"Bud Light\", \"Amstel Light\"], 10)):\n",
      "    print \"%d) %s\" % (i+1, beer)"
     ],
     "language": "python",
     "metadata": {},
     "outputs": [
      {
       "output_type": "stream",
       "stream": "stdout",
       "text": [
        "1) Sierra Nevada Pale Ale\n",
        "2) Allagash White\n",
        "3) 120 Minute IPA\n",
        "4) HopDevil Ale\n",
        "5) Sierra Nevada Celebration Ale\n",
        "6) 90 Minute IPA\n",
        "7) 60 Minute IPA\n",
        "8) Stone Ruination IPA\n",
        "9) Stone IPA (India Pale Ale)\n",
        "10) Storm King Stout\n"
       ]
      }
     ],
     "prompt_number": 74
    },
    {
     "cell_type": "markdown",
     "metadata": {},
     "source": [
      "Optional: register an account on yhat and deploy your model following the instructions [here](https://docs.yhathq.com/python/examples/beer-recommender)"
     ]
    },
    {
     "cell_type": "markdown",
     "metadata": {},
     "source": [
      "## Recsys\n",
      "\n",
      "A python library for implementing a recommender system"
     ]
    },
    {
     "cell_type": "markdown",
     "metadata": {},
     "source": [
      "Load recsys.algotihm, set VERBOSE = True import SVD class"
     ]
    },
    {
     "cell_type": "code",
     "collapsed": false,
     "input": [
      "import recsys.algorithm\n",
      "recsys.algorithm.VERBOSE = True\n",
      "from recsys.algorithim.factorize import SVD"
     ],
     "language": "python",
     "metadata": {},
     "outputs": [
      {
       "ename": "ImportError",
       "evalue": "No module named recsys.algorithm",
       "output_type": "pyerr",
       "traceback": [
        "\u001b[0;31m---------------------------------------------------------------------------\u001b[0m\n\u001b[0;31mImportError\u001b[0m                               Traceback (most recent call last)",
        "\u001b[0;32m<ipython-input-76-2898e36a2e90>\u001b[0m in \u001b[0;36m<module>\u001b[0;34m()\u001b[0m\n\u001b[0;32m----> 1\u001b[0;31m \u001b[0;32mimport\u001b[0m \u001b[0mrecsys\u001b[0m\u001b[0;34m.\u001b[0m\u001b[0malgorithm\u001b[0m\u001b[0;34m\u001b[0m\u001b[0m\n\u001b[0m\u001b[1;32m      2\u001b[0m \u001b[0mrecsys\u001b[0m\u001b[0;34m.\u001b[0m\u001b[0malgorithm\u001b[0m\u001b[0;34m.\u001b[0m\u001b[0mVERBOSE\u001b[0m \u001b[0;34m=\u001b[0m \u001b[0mTrue\u001b[0m\u001b[0;34m\u001b[0m\u001b[0m\n\u001b[1;32m      3\u001b[0m \u001b[0;32mfrom\u001b[0m \u001b[0mrecsys\u001b[0m\u001b[0;34m.\u001b[0m\u001b[0malgorithim\u001b[0m\u001b[0;34m.\u001b[0m\u001b[0mfactorize\u001b[0m \u001b[0;32mimport\u001b[0m \u001b[0mSVD\u001b[0m\u001b[0;34m\u001b[0m\u001b[0m\n",
        "\u001b[0;31mImportError\u001b[0m: No module named recsys.algorithm"
       ]
      }
     ],
     "prompt_number": 76
    },
    {
     "cell_type": "markdown",
     "metadata": {},
     "source": [
      "Let's look at the files"
     ]
    },
    {
     "cell_type": "code",
     "collapsed": false,
     "input": [],
     "language": "python",
     "metadata": {},
     "outputs": [],
     "prompt_number": 1
    },
    {
     "cell_type": "markdown",
     "metadata": {},
     "source": [
      "look at movies dataframe"
     ]
    },
    {
     "cell_type": "code",
     "collapsed": false,
     "input": [],
     "language": "python",
     "metadata": {},
     "outputs": [],
     "prompt_number": 1
    },
    {
     "cell_type": "code",
     "collapsed": false,
     "input": [],
     "language": "python",
     "metadata": {},
     "outputs": [],
     "prompt_number": 1
    },
    {
     "cell_type": "code",
     "collapsed": false,
     "input": [],
     "language": "python",
     "metadata": {},
     "outputs": [],
     "prompt_number": 1
    },
    {
     "cell_type": "code",
     "collapsed": false,
     "input": [],
     "language": "python",
     "metadata": {},
     "outputs": [],
     "prompt_number": 1
    },
    {
     "cell_type": "markdown",
     "metadata": {},
     "source": [
      "Initialize an SVD instance"
     ]
    },
    {
     "cell_type": "code",
     "collapsed": false,
     "input": [],
     "language": "python",
     "metadata": {},
     "outputs": [],
     "prompt_number": 1
    },
    {
     "cell_type": "markdown",
     "metadata": {},
     "source": [
      "Populate it with the data from the ratings dataset, using the built in load_data method"
     ]
    },
    {
     "cell_type": "code",
     "collapsed": false,
     "input": [],
     "language": "python",
     "metadata": {},
     "outputs": [],
     "prompt_number": 1
    },
    {
     "cell_type": "markdown",
     "metadata": {},
     "source": [
      "Compute SVD\n",
      "\n",
      "$M=U \\Sigma V^T$:"
     ]
    },
    {
     "cell_type": "code",
     "collapsed": false,
     "input": [],
     "language": "python",
     "metadata": {},
     "outputs": [],
     "prompt_number": 1
    },
    {
     "cell_type": "markdown",
     "metadata": {},
     "source": [
      "you can also save the output SVD model (in a zip file)"
     ]
    },
    {
     "cell_type": "code",
     "collapsed": false,
     "input": [],
     "language": "python",
     "metadata": {},
     "outputs": [],
     "prompt_number": 1
    },
    {
     "cell_type": "markdown",
     "metadata": {},
     "source": [
      "Reload a saved model:"
     ]
    },
    {
     "cell_type": "code",
     "collapsed": false,
     "input": [],
     "language": "python",
     "metadata": {},
     "outputs": [],
     "prompt_number": 1
    },
    {
     "cell_type": "markdown",
     "metadata": {},
     "source": [
      "Compute similarity between two movies"
     ]
    },
    {
     "cell_type": "code",
     "collapsed": false,
     "input": [],
     "language": "python",
     "metadata": {},
     "outputs": [],
     "prompt_number": 1
    },
    {
     "cell_type": "code",
     "collapsed": false,
     "input": [],
     "language": "python",
     "metadata": {},
     "outputs": [],
     "prompt_number": 1
    },
    {
     "cell_type": "code",
     "collapsed": false,
     "input": [],
     "language": "python",
     "metadata": {},
     "outputs": [],
     "prompt_number": 1
    },
    {
     "cell_type": "markdown",
     "metadata": {},
     "source": [
      "Get movies similar to Toy Story"
     ]
    },
    {
     "cell_type": "code",
     "collapsed": false,
     "input": [],
     "language": "python",
     "metadata": {},
     "outputs": [],
     "prompt_number": 1
    },
    {
     "cell_type": "markdown",
     "metadata": {},
     "source": [
      "Predict rating for a given user and movie, $\\hat{r}_{ui}$"
     ]
    },
    {
     "cell_type": "code",
     "collapsed": false,
     "input": [],
     "language": "python",
     "metadata": {},
     "outputs": [],
     "prompt_number": 1
    },
    {
     "cell_type": "code",
     "collapsed": false,
     "input": [],
     "language": "python",
     "metadata": {},
     "outputs": [],
     "prompt_number": 1
    },
    {
     "cell_type": "markdown",
     "metadata": {},
     "source": [
      "Recommend non rated movies to a user"
     ]
    },
    {
     "cell_type": "code",
     "collapsed": false,
     "input": [],
     "language": "python",
     "metadata": {},
     "outputs": [],
     "prompt_number": 1
    },
    {
     "cell_type": "markdown",
     "metadata": {},
     "source": [
      "Which users should see Toy Story? (e.g. which users -that have not rated Toy Story- would give it a high rating?)"
     ]
    },
    {
     "cell_type": "code",
     "collapsed": false,
     "input": [],
     "language": "python",
     "metadata": {},
     "outputs": [],
     "prompt_number": 1
    },
    {
     "cell_type": "markdown",
     "metadata": {},
     "source": [
      "For large datasets (say more than 10M tuples), it might be better to run SVDLIBC directly (divisi2 -that also uses SVDLIBC- is way too slow creating the matrix and computing SVD):"
     ]
    },
    {
     "cell_type": "code",
     "collapsed": false,
     "input": [],
     "language": "python",
     "metadata": {},
     "outputs": [],
     "prompt_number": 1
    },
    {
     "cell_type": "code",
     "collapsed": false,
     "input": [],
     "language": "python",
     "metadata": {},
     "outputs": []
    },
    {
     "cell_type": "markdown",
     "metadata": {},
     "source": [
      "Find out more here: [https://github.com/ocelma/python-recsys](https://github.com/ocelma/python-recsys)"
     ]
    },
    {
     "cell_type": "code",
     "collapsed": false,
     "input": [
      "from yhat import Yhat, YhatModel , preprocess"
     ],
     "language": "python",
     "metadata": {},
     "outputs": [],
     "prompt_number": 82
    },
    {
     "cell_type": "code",
     "collapsed": false,
     "input": [],
     "language": "python",
     "metadata": {},
     "outputs": [],
     "prompt_number": 83
    },
    {
     "cell_type": "code",
     "collapsed": false,
     "input": [],
     "language": "python",
     "metadata": {},
     "outputs": [
      {
       "name": "stdout",
       "output_type": "stream",
       "stream": "stdout",
       "text": [
        "Are you sure you want to deploy? (y/N): y\n"
       ]
      },
      {
       "metadata": {},
       "output_type": "pyout",
       "prompt_number": 85,
       "text": [
        "{u'lang': u'python',\n",
        " u'message': u'Your model had been uploaded and is currently being built. You can check the status by loggining into your Yhat account and viewing: /model/BeerRecommender/',\n",
        " u'model_endpoint': u'/batraski@gmail.com/models/BeerRecommender/',\n",
        " u'modelname': u'BeerRecommender',\n",
        " u'status': u'success',\n",
        " u'timestamp': 1397535749718,\n",
        " u'version': 1}"
       ]
      }
     ],
     "prompt_number": 85
    },
    {
     "cell_type": "code",
     "collapsed": false,
     "input": [
      "def get_sims(products):\n",
      "    \"\"\"\n",
      "    get_top10 takes a distance matrix an a productid (assumed to be integer)\n",
      "    and will calculate the 10 most similar products to product based on the\n",
      "    distance matrix\n",
      "\n",
      "    dists - a distance matrix\n",
      "    product - a product id (integer)\n",
      "    \"\"\"\n",
      "    p = dists[products].apply(lambda row: np.sum(row), axis=1)\n",
      "    p = p.order(ascending=False)\n",
      "    return p.index[p.index.isin(products)==False]\n",
      "\n",
      "get_sims([\"Sierra Nevada Pale Ale\", \"120 Minute IPA120 Minute IPA\", \"Coors Light\"])"
     ],
     "language": "python",
     "metadata": {},
     "outputs": [
      {
       "metadata": {},
       "output_type": "pyout",
       "prompt_number": 86,
       "text": [
        "Index([u'Samuel Adams Boston Lager', u'Sierra Nevada Celebration Ale', u'90 Minute IPA', u'Arrogant Bastard Ale', u'Stone IPA (India Pale Ale)', u'60 Minute IPA', u'HopDevil Ale', u'Stone Ruination IPA', u'Sierra Nevada Bigfoot Barleywine Style Ale', u'Storm King Stout', u'Samuel Adams Winter Lager', u'Samuel Adams Summer Ale', u'Prima Pils', u'Anchor Steam Beer', u'Old Rasputin Russian Imperial Stout', u'Samuel Adams Octoberfest', u'La Fin Du Monde', u'Brooklyn Black Chocolate Stout', u'Ayinger Celebrator Doppelbock', u'Dead Guy Ale', u'Hop Rod Rye', u'Double Bastard Ale', u'Duvel', u'Two Hearted Ale', u'Hop Wallop', u'Samuel Smith's Oatmeal Stout', u'Guinness Draught', u'Oaked Arrogant Bastard Ale', u'India Pale Ale', u'St. Bernardus Abt 12', u'Stone Smoked Porter', u'Stone Imperial Russian Stout', u'Chocolate Stout', u'Hennepin (Farmhouse Saison)', u'Schneider Aventinus', u'Anchor Liberty Ale', u'Samuel Adams Black Lager', u'Racer 5 India Pale Ale', u'Indian Brown Ale', u'Weihenstephaner Hefeweissbier', u'Shakespeare Oatmeal Stout', u'Samuel Smith's Imperial Stout', u'Sierra Nevada Summerfest Lager', u'Chimay Grande R\u00e9serve (Blue)', u'Young's Double Chocolate Stout', u'Trois Pistoles', u'Raison D'etre', u'Sierra Nevada Porter', u'ApriHop', u'Samuel Adams Old Fezziwig Ale', u'Maudite', u'Sierra Nevada Torpedo Extra IPA', u'Punkin Ale', u'Three Philosophers Belgian Style Blend (Quadrupel)', u'Fat Tire Amber Ale', u'Heineken Lager Beer', u'Blue Moon Belgian White', u'Golden Monkey', u'Sierra Nevada Stout', u'Chimay Premi\u00e8re (Red)', u'World Wide Stout', u'Samuel Adams Boston Ale (Stock Ale)', u'Trappistes Rochefort 10', u'Chimay Tripel (White)', u'Franziskaner Hefe-Weisse', u'Samuel Adams Holiday Porter', u'Hercules Double IPA', u'Northern Hemisphere Harvest Wet Hop Ale', u'Pale Ale', u'Bud Light', u'Budweiser', u'Stella Artois', u'Midas Touch Golden Elixir', u'Yeti Imperial Stout', u'Orval Trappist Ale', u'#9', u'Dale's Pale Ale', u'Bass Pale Ale', u'Anchor Porter', u'Stone Sublimely Self-Righteous Ale', u'Maharaja', u'Smuttynose IPA \"Finest Kind\"', u'Long Hammer IPA', u'Snake Dog IPA', u'Newcastle Brown Ale', u'India Pale Ale (IPA)', u'Hoegaarden Original White Ale', u'Trappistes Rochefort 8', u'Ommegang (Abbey Ale)', u'Titan IPA', u'Samuel Smith's Nut Brown Ale', u'Miller Lite', u'Bell's Expedition Stout', u'Fuller's ESB', u'Imperial Stout', u'Samuel Adams Noble Pils', u'Palo Santo Marron', u'Guinness Extra Stout (Original)', u'Gonzo Imperial Porter', u'Santa's Private Reserve Ale', ...], dtype='object')"
       ]
      }
     ],
     "prompt_number": 86
    },
    {
     "cell_type": "code",
     "collapsed": false,
     "input": [
      "class BeerRecommender(YhatModel):\n",
      "    @preprocess(in_type=dict, out_type=dict) \n",
      "    def execute(self, data):\n",
      "        beers = data.get(\"beers\")\n",
      "        suggested_beers = get_sims(beers)\n",
      "        result = []\n",
      "        for beer in suggested_beers:\n",
      "            result.append({\"beer\": beer})\n",
      "        return result"
     ],
     "language": "python",
     "metadata": {},
     "outputs": [],
     "prompt_number": 87
    },
    {
     "cell_type": "code",
     "collapsed": false,
     "input": [
      "yh = Yhat(\"batraski@gmail.com\", \"f3ebb9e7e9f03d854755c01012143480\", \"http://cloud.yhathq.com/\")\n",
      "yh.deploy (\"BeerRecommender\", BeerRecommender, globals())\n",
      "# {\"status\": \"success\"}"
     ],
     "language": "python",
     "metadata": {},
     "outputs": [
      {
       "name": "stdout",
       "output_type": "stream",
       "stream": "stdout",
       "text": [
        "Are you sure you want to deploy? (y/N): y\n"
       ]
      },
      {
       "metadata": {},
       "output_type": "pyout",
       "prompt_number": 88,
       "text": [
        "{u'lang': u'python',\n",
        " u'message': u'Your model had been uploaded and is currently being built. You can check the status by loggining into your Yhat account and viewing: /model/BeerRecommender/',\n",
        " u'model_endpoint': u'/batraski@gmail.com/models/BeerRecommender/',\n",
        " u'modelname': u'BeerRecommender',\n",
        " u'status': u'success',\n",
        " u'timestamp': 1397535896754,\n",
        " u'version': 2}"
       ]
      }
     ],
     "prompt_number": 88
    },
    {
     "cell_type": "code",
     "collapsed": false,
     "input": [
      "! git clone https://github.com/yhat/Yhat.js.git"
     ],
     "language": "python",
     "metadata": {},
     "outputs": [
      {
       "output_type": "stream",
       "stream": "stdout",
       "text": [
        "Cloning into 'Yhat.js'...\r\n"
       ]
      },
      {
       "output_type": "stream",
       "stream": "stdout",
       "text": [
        "remote: Counting objects: 40, done.\u001b[K\r\n",
        "remote: Compressing objects:   4% (1/22)   \u001b[K\r",
        "remote: Compressing objects:   9% (2/22)   \u001b[K\r",
        "remote: Compressing objects:  13% (3/22)   \u001b[K\r",
        "remote: Compressing objects:  18% (4/22)   \u001b[K\r",
        "remote: Compressing objects:  22% (5/22)   \u001b[K\r",
        "remote: Compressing objects:  27% (6/22)   \u001b[K\r",
        "remote: Compressing objects:  31% (7/22)   \u001b[K\r",
        "remote: Compressing objects:  36% (8/22)   \u001b[K\r",
        "remote: Compressing objects:  40% (9/22)   \u001b[K\r",
        "remote: Compressing objects:  45% (10/22)   \u001b[K\r",
        "remote: Compressing objects:  50% (11/22)   \u001b[K\r",
        "remote: Compressing objects:  54% (12/22)   \u001b[K\r",
        "remote: Compressing objects:  59% (13/22)   \u001b[K\r",
        "remote: Compressing objects:  63% (14/22)   \u001b[K\r",
        "remote: Compressing objects:  68% (15/22)   \u001b[K\r",
        "remote: Compressing objects:  72% (16/22)   \u001b[K\r",
        "remote: Compressing objects:  77% (17/22)   \u001b[K\r",
        "remote: Compressing objects:  81% (18/22)   \u001b[K\r",
        "remote: Compressing objects:  86% (19/22)   \u001b[K\r",
        "remote: Compressing objects:  90% (20/22)   \u001b[K\r",
        "remote: Compressing objects:  95% (21/22)   \u001b[K\r",
        "remote: Compressing objects: 100% (22/22)   \u001b[K\r",
        "remote: Compressing objects: 100% (22/22), done.\u001b[K\r\n"
       ]
      },
      {
       "output_type": "stream",
       "stream": "stdout",
       "text": [
        "Unpacking objects:   2% (1/40)   \r",
        "Unpacking objects:   5% (2/40)   \r",
        "Unpacking objects:   7% (3/40)   \r",
        "Unpacking objects:  10% (4/40)   \r",
        "Unpacking objects:  12% (5/40)   \r",
        "Unpacking objects:  15% (6/40)   \r",
        "Unpacking objects:  17% (7/40)   \r",
        "Unpacking objects:  20% (8/40)   \r",
        "Unpacking objects:  22% (9/40)   \r",
        "Unpacking objects:  25% (10/40)   \r",
        "Unpacking objects:  27% (11/40)   \r",
        "Unpacking objects:  30% (12/40)   \r",
        "Unpacking objects:  32% (13/40)   \r",
        "Unpacking objects:  35% (14/40)   \r",
        "Unpacking objects:  37% (15/40)   \r",
        "Unpacking objects:  40% (16/40)   \r",
        "Unpacking objects:  42% (17/40)   \r",
        "Unpacking objects:  45% (18/40)   \r"
       ]
      },
      {
       "output_type": "stream",
       "stream": "stdout",
       "text": [
        "remote: Total 40 (delta 12), reused 40 (delta 12)\u001b[K\r\n",
        "Unpacking objects:  47% (19/40)   \r",
        "Unpacking objects:  50% (20/40)   \r",
        "Unpacking objects:  52% (21/40)   \r",
        "Unpacking objects:  55% (22/40)   \r",
        "Unpacking objects:  57% (23/40)   \r",
        "Unpacking objects:  60% (24/40)   \r",
        "Unpacking objects:  62% (25/40)   \r",
        "Unpacking objects:  65% (26/40)   \r",
        "Unpacking objects:  67% (27/40)   \r",
        "Unpacking objects:  70% (28/40)   \r",
        "Unpacking objects:  72% (29/40)   \r",
        "Unpacking objects:  75% (30/40)   \r",
        "Unpacking objects:  77% (31/40)   \r",
        "Unpacking objects:  80% (32/40)   \r",
        "Unpacking objects:  82% (33/40)   \r",
        "Unpacking objects:  85% (34/40)   \r",
        "Unpacking objects:  87% (35/40)   \r",
        "Unpacking objects:  90% (36/40)   \r",
        "Unpacking objects:  92% (37/40)   \r",
        "Unpacking objects:  95% (38/40)   \r",
        "Unpacking objects:  97% (39/40)   \r",
        "Unpacking objects: 100% (40/40)   \r",
        "Unpacking objects: 100% (40/40), done.\r\n",
        "Checking connectivity... done\r\n"
       ]
      }
     ],
     "prompt_number": 93
    },
    {
     "cell_type": "code",
     "collapsed": false,
     "input": [
      "! var yhat = new Yhat('batraski@gmail.com', 'f3ebb9e7e9f03d854755c01012143480');"
     ],
     "language": "python",
     "metadata": {},
     "outputs": [
      {
       "output_type": "stream",
       "stream": "stdout",
       "text": [
        "/bin/sh: -c: line 0: syntax error near unexpected token `('\r\n",
        "/bin/sh: -c: line 0: ` var yhat = new Yhat('batraski@gmail.com', 'f3ebb9e7e9f03d854755c01012143480');'\r\n"
       ]
      }
     ],
     "prompt_number": 95
    },
    {
     "cell_type": "code",
     "collapsed": false,
     "input": [
      "! yhat.send({\"beer\": \"Sierra Nevada Pale Ale\"});"
     ],
     "language": "python",
     "metadata": {},
     "outputs": [
      {
       "output_type": "stream",
       "stream": "stdout",
       "text": [
        "/bin/sh: -c: line 0: syntax error near unexpected token `{\"beer\":'\r\n",
        "/bin/sh: -c: line 0: ` yhat.send({\"beer\": \"Sierra Nevada Pale Ale\"});'\r\n"
       ]
      }
     ],
     "prompt_number": 97
    },
    {
     "cell_type": "code",
     "collapsed": false,
     "input": [],
     "language": "python",
     "metadata": {},
     "outputs": [
      {
       "ename": "IndentationError",
       "evalue": "unexpected indent (<ipython-input-99-20ee573bdf76>, line 2)",
       "output_type": "pyerr",
       "traceback": [
        "\u001b[0;36m  File \u001b[0;32m\"<ipython-input-99-20ee573bdf76>\"\u001b[0;36m, line \u001b[0;32m2\u001b[0m\n\u001b[0;31m    (/, this, is, the, function, run, when, a, message, comes, back)\u001b[0m\n\u001b[0m    ^\u001b[0m\n\u001b[0;31mIndentationError\u001b[0m\u001b[0;31m:\u001b[0m unexpected indent\n"
       ]
      }
     ],
     "prompt_number": 99
    },
    {
     "cell_type": "code",
     "collapsed": false,
     "input": [],
     "language": "python",
     "metadata": {},
     "outputs": []
    }
   ],
   "metadata": {}
  }
 ]
}