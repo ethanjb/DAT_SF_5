{
 "metadata": {
  "name": ""
 },
 "nbformat": 3,
 "nbformat_minor": 0,
 "worksheets": [
  {
   "cells": [
    {
     "cell_type": "code",
     "collapsed": false,
     "input": [
      "%matplotlib inline\n",
      "import matplotlib.pyplot as plt\n",
      "import numpy as np\n",
      "import pandas as pd\n",
      "import sklearn.linear_model as LM\n",
      "from pandas import read_csv\n",
      "from sklearn import datasets as DS\n",
      "from sklearn.cross_validation import train_test_split\n",
      "from sklearn.preprocessing import Imputer\n",
      "import pprint\n",
      "pp = pprint.PrettyPrinter(indent=4)"
     ],
     "language": "python",
     "metadata": {},
     "outputs": [],
     "prompt_number": 699
    },
    {
     "cell_type": "heading",
     "level": 3,
     "metadata": {},
     "source": [
      "HOMEWORK QUESTION 1: LOAD DATE & IMPUTE MISSING VALUES FOR AGE"
     ]
    },
    {
     "cell_type": "heading",
     "level": 4,
     "metadata": {},
     "source": [
      "1. Importng data, converting NaN to blank fields\n"
     ]
    },
    {
     "cell_type": "code",
     "collapsed": false,
     "input": [
      "# Importng data, converting NaN to blank fields\n",
      "data = pd.io.parsers.read_csv('data/titanic-train.csv', index_col=False, na_values = 'Unknown', keep_default_na=False)"
     ],
     "language": "python",
     "metadata": {},
     "outputs": [],
     "prompt_number": 700
    },
    {
     "cell_type": "code",
     "collapsed": false,
     "input": [
      "# Viewing the dtypes of the data set to decide which columns need to be converted from objects to floats\n",
      "data.info()"
     ],
     "language": "python",
     "metadata": {},
     "outputs": [
      {
       "output_type": "stream",
       "stream": "stdout",
       "text": [
        "<class 'pandas.core.frame.DataFrame'>\n",
        "Int64Index: 891 entries, 0 to 890\n",
        "Data columns (total 12 columns):\n",
        "PassengerId    891 non-null int64\n",
        "Survived       891 non-null int64\n",
        "Pclass         891 non-null int64\n",
        "Name           891 non-null object\n",
        "Sex            891 non-null object\n",
        "Age            891 non-null object\n",
        "SibSp          891 non-null int64\n",
        "Parch          891 non-null int64\n",
        "Ticket         891 non-null object\n",
        "Fare           891 non-null float64\n",
        "Cabin          891 non-null object\n",
        "Embarked       891 non-null object\n",
        "dtypes: float64(1), int64(5), object(6)"
       ]
      }
     ],
     "prompt_number": 701
    },
    {
     "cell_type": "code",
     "collapsed": false,
     "input": [
      "# Reference info\n",
      "#Survival_rate = data['Survived'].mean()\n",
      "#number_of_males = len(data[data['Sex']== 'male'])\n",
      "#male_survival_rate = data[data['Sex']== 'male']['Survived'].mean()\n",
      "# average_age = data['Age'].mean()\n",
      "#average_age_survived = data[data['Survived'] == 1]['Age'].mean()\n",
      "#average_age_not_survived = data[data['Survived'] == 0]['Age'].mean()\n",
      "#passenger_per_class_dict = {pclass: len(data[data['Pclass'] == pclass]) for pclass in unique(data.Pclass)}\n",
      "#survival_rate_per_class = {pclass: data[data['Pclass'] == pclass]['Survived'].mean() for pclass in unique(data.Pclass)}"
     ],
     "language": "python",
     "metadata": {},
     "outputs": [],
     "prompt_number": 702
    },
    {
     "cell_type": "code",
     "collapsed": false,
     "input": [
      "survival_rate_per_class = {pclass: data[data['Pclass'] == pclass]['Survived'].mean() for pclass in unique(data.Pclass)}\n",
      "print survival_rate_per_class"
     ],
     "language": "python",
     "metadata": {},
     "outputs": [
      {
       "output_type": "stream",
       "stream": "stdout",
       "text": [
        "{1: 0.62962962962962965, 2: 0.47282608695652173, 3: 0.24236252545824846}\n"
       ]
      }
     ],
     "prompt_number": 703
    },
    {
     "cell_type": "code",
     "collapsed": false,
     "input": [
      "# from pandas.tools.plotting import scatter_matrix\n",
      "# scat = scatter_matrix(data, figsize = (15,15))"
     ],
     "language": "python",
     "metadata": {},
     "outputs": [],
     "prompt_number": 704
    },
    {
     "cell_type": "code",
     "collapsed": false,
     "input": [
      "# men with an age who survived -- testing synatx\n",
      "mean_males_age_not_survived = data[(data.Age <> '') & (data.Sex == 'male') & (data.Survived == 0)]['Age'].astype(float).mean()\n",
      "print mean_males_age_not_survived"
     ],
     "language": "python",
     "metadata": {},
     "outputs": [
      {
       "output_type": "stream",
       "stream": "stdout",
       "text": [
        "31.6180555556\n"
       ]
      }
     ],
     "prompt_number": 705
    },
    {
     "cell_type": "heading",
     "level": 4,
     "metadata": {},
     "source": [
      "2. Calculating the mean age of groups based on: Pclass, Sex, and Survived Status"
     ]
    },
    {
     "cell_type": "code",
     "collapsed": false,
     "input": [
      "mean_age_survived_by_class_gender = {}\n",
      "for pclass in set(data.Pclass):\n",
      "    for sex in set(data.Sex):\n",
      "        for survived in set(data.Survived):\n",
      "            mean_age_survived_by_class_gender[(pclass, sex, survived)] = data[(data.Age <> '') & (data.Pclass == pclass) & (data.Sex == sex) & (data.Survived == survived)]['Age'].astype(float).mean()\n",
      "        \n",
      "pp.pprint(mean_age_survived_by_class_gender)"
     ],
     "language": "python",
     "metadata": {},
     "outputs": [
      {
       "output_type": "stream",
       "stream": "stdout",
       "text": [
        "{   (1, 'female', 0): 25.666666666666668,\n",
        "    (1, 'female', 1): 34.939024390243901,\n",
        "    (1, 'male', 0): 44.581967213114751,\n",
        "    (1, 'male', 1): 36.248000000000005,\n",
        "    (2, 'female', 0): 36.0,\n",
        "    (2, 'female', 1): 28.080882352941178,\n",
        "    (2, 'male', 0): 33.36904761904762,\n",
        "    (2, 'male', 1): 16.021999999999998,\n",
        "    (3, 'female', 0): 23.818181818181817,\n",
        "    (3, 'female', 1): 19.329787234042552,\n",
        "    (3, 'male', 0): 27.255813953488371,\n",
        "    (3, 'male', 1): 22.274210526315787}\n"
       ]
      }
     ],
     "prompt_number": 706
    },
    {
     "cell_type": "heading",
     "level": 4,
     "metadata": {},
     "source": [
      "3. Replaced all NaN with the mean ages of of those in the same Pclass, gender, and survival status"
     ]
    },
    {
     "cell_type": "code",
     "collapsed": false,
     "input": [
      "# replace all NaN with the mean ages of people in the same gender, class, and survived status\n",
      "data.Age.loc[(data.Pclass == 1) & (data.Sex == 'female') & (data.Survived == 0) & (data.Age == '')] = 26\n",
      "data.Age.loc[(data.Pclass == 1) & (data.Sex == 'female') & (data.Survived == 1) & (data.Age == '')] = 35\n",
      "data.Age.loc[(data.Pclass == 1) & (data.Sex == 'male') & (data.Survived == 0) & (data.Age == '')] = 44\n",
      "data.Age.loc[(data.Pclass == 1) & (data.Sex == 'male') & (data.Survived == 1) & (data.Age == '')] = 36\n",
      "data.Age.loc[(data.Pclass == 2) & (data.Sex == 'female') & (data.Survived == 0) & (data.Age == '')] = 36\n",
      "data.Age.loc[(data.Pclass == 2) & (data.Sex == 'female') & (data.Survived == 1) & (data.Age == '')] = 28\n",
      "data.Age.loc[(data.Pclass == 2) & (data.Sex == 'male') & (data.Survived == 0) & (data.Age == '')] = 33\n",
      "data.Age.loc[(data.Pclass == 2) & (data.Sex == 'male') & (data.Survived == 1) & (data.Age == '')] = 16\n",
      "data.Age.loc[(data.Pclass == 3) & (data.Sex == 'female') & (data.Survived == 0) & (data.Age == '')] = 23\n",
      "data.Age.loc[(data.Pclass == 3) & (data.Sex == 'female') & (data.Survived == 1) & (data.Age == '')] = 19\n",
      "data.Age.loc[(data.Pclass == 3) & (data.Sex == 'male') & (data.Survived == 0) & (data.Age == '')] = 27\n",
      "data.Age.loc[(data.Pclass == 3) & (data.Sex == 'male') & (data.Survived == 1) & (data.Age == '')] = 22"
     ],
     "language": "python",
     "metadata": {},
     "outputs": [],
     "prompt_number": 707
    },
    {
     "cell_type": "heading",
     "level": 4,
     "metadata": {},
     "source": [
      "3A. Easier way to replace the empty ages based on the discreet group mean ages"
     ]
    },
    {
     "cell_type": "code",
     "collapsed": false,
     "input": [
      "# easier method to replace the above ages using tuples dict\n",
      "for tuple_key, float_age in mean_age_survived_by_class_gender.items():\n",
      "    data.Age.loc[(data.Pclass == tuple_key[0]) & (data.Sex == tuple_key[1]) & (data.Survived == tuple_key[2]) & (data.Age == '')] = int(float_age)"
     ],
     "language": "python",
     "metadata": {},
     "outputs": [],
     "prompt_number": 708
    },
    {
     "cell_type": "heading",
     "level": 3,
     "metadata": {},
     "source": [
      "HOMEWORK QUESTION 2: RUN LOGSTIC REGRESSION"
     ]
    },
    {
     "cell_type": "heading",
     "level": 4,
     "metadata": {},
     "source": [
      "1. Converting all Sex entries to floats with values of '1' and '2'"
     ]
    },
    {
     "cell_type": "code",
     "collapsed": false,
     "input": [
      "# Converting all male entries to a float value of '1'\n",
      "data.Sex.loc[(data.Sex == 'male')] = 1"
     ],
     "language": "python",
     "metadata": {},
     "outputs": [],
     "prompt_number": 709
    },
    {
     "cell_type": "code",
     "collapsed": false,
     "input": [
      "# Converting all female entries to a float value of '2'\n",
      "data.Sex.loc[(data.Sex == 'female')] = 2"
     ],
     "language": "python",
     "metadata": {},
     "outputs": [],
     "prompt_number": 710
    },
    {
     "cell_type": "heading",
     "level": 4,
     "metadata": {},
     "source": [
      "2. Creating feature & label sets"
     ]
    },
    {
     "cell_type": "code",
     "collapsed": false,
     "input": [
      "X = data[['Pclass', 'Sex', 'Age', 'SibSp', 'Parch']].values.astype(float)\n",
      "y = ravel(data[['Survived']].values).astype(float)"
     ],
     "language": "python",
     "metadata": {},
     "outputs": [],
     "prompt_number": 711
    },
    {
     "cell_type": "code",
     "collapsed": false,
     "input": [
      "data.head(10)"
     ],
     "language": "python",
     "metadata": {},
     "outputs": [
      {
       "html": [
        "<div style=\"max-height:1000px;max-width:1500px;overflow:auto;\">\n",
        "<table border=\"1\" class=\"dataframe\">\n",
        "  <thead>\n",
        "    <tr style=\"text-align: right;\">\n",
        "      <th></th>\n",
        "      <th>PassengerId</th>\n",
        "      <th>Survived</th>\n",
        "      <th>Pclass</th>\n",
        "      <th>Name</th>\n",
        "      <th>Sex</th>\n",
        "      <th>Age</th>\n",
        "      <th>SibSp</th>\n",
        "      <th>Parch</th>\n",
        "      <th>Ticket</th>\n",
        "      <th>Fare</th>\n",
        "      <th>Cabin</th>\n",
        "      <th>Embarked</th>\n",
        "    </tr>\n",
        "  </thead>\n",
        "  <tbody>\n",
        "    <tr>\n",
        "      <th>0</th>\n",
        "      <td>  1</td>\n",
        "      <td> 0</td>\n",
        "      <td> 3</td>\n",
        "      <td>                           Braund, Mr. Owen Harris</td>\n",
        "      <td> 1</td>\n",
        "      <td> 22</td>\n",
        "      <td> 1</td>\n",
        "      <td> 0</td>\n",
        "      <td>        A/5 21171</td>\n",
        "      <td>  7.2500</td>\n",
        "      <td>     </td>\n",
        "      <td> S</td>\n",
        "    </tr>\n",
        "    <tr>\n",
        "      <th>1</th>\n",
        "      <td>  2</td>\n",
        "      <td> 1</td>\n",
        "      <td> 1</td>\n",
        "      <td> Cumings, Mrs. John Bradley (Florence Briggs Th...</td>\n",
        "      <td> 2</td>\n",
        "      <td> 38</td>\n",
        "      <td> 1</td>\n",
        "      <td> 0</td>\n",
        "      <td>         PC 17599</td>\n",
        "      <td> 71.2833</td>\n",
        "      <td>  C85</td>\n",
        "      <td> C</td>\n",
        "    </tr>\n",
        "    <tr>\n",
        "      <th>2</th>\n",
        "      <td>  3</td>\n",
        "      <td> 1</td>\n",
        "      <td> 3</td>\n",
        "      <td>                            Heikkinen, Miss. Laina</td>\n",
        "      <td> 2</td>\n",
        "      <td> 26</td>\n",
        "      <td> 0</td>\n",
        "      <td> 0</td>\n",
        "      <td> STON/O2. 3101282</td>\n",
        "      <td>  7.9250</td>\n",
        "      <td>     </td>\n",
        "      <td> S</td>\n",
        "    </tr>\n",
        "    <tr>\n",
        "      <th>3</th>\n",
        "      <td>  4</td>\n",
        "      <td> 1</td>\n",
        "      <td> 1</td>\n",
        "      <td>      Futrelle, Mrs. Jacques Heath (Lily May Peel)</td>\n",
        "      <td> 2</td>\n",
        "      <td> 35</td>\n",
        "      <td> 1</td>\n",
        "      <td> 0</td>\n",
        "      <td>           113803</td>\n",
        "      <td> 53.1000</td>\n",
        "      <td> C123</td>\n",
        "      <td> S</td>\n",
        "    </tr>\n",
        "    <tr>\n",
        "      <th>4</th>\n",
        "      <td>  5</td>\n",
        "      <td> 0</td>\n",
        "      <td> 3</td>\n",
        "      <td>                          Allen, Mr. William Henry</td>\n",
        "      <td> 1</td>\n",
        "      <td> 35</td>\n",
        "      <td> 0</td>\n",
        "      <td> 0</td>\n",
        "      <td>           373450</td>\n",
        "      <td>  8.0500</td>\n",
        "      <td>     </td>\n",
        "      <td> S</td>\n",
        "    </tr>\n",
        "    <tr>\n",
        "      <th>5</th>\n",
        "      <td>  6</td>\n",
        "      <td> 0</td>\n",
        "      <td> 3</td>\n",
        "      <td>                                  Moran, Mr. James</td>\n",
        "      <td> 1</td>\n",
        "      <td> 27</td>\n",
        "      <td> 0</td>\n",
        "      <td> 0</td>\n",
        "      <td>           330877</td>\n",
        "      <td>  8.4583</td>\n",
        "      <td>     </td>\n",
        "      <td> Q</td>\n",
        "    </tr>\n",
        "    <tr>\n",
        "      <th>6</th>\n",
        "      <td>  7</td>\n",
        "      <td> 0</td>\n",
        "      <td> 1</td>\n",
        "      <td>                           McCarthy, Mr. Timothy J</td>\n",
        "      <td> 1</td>\n",
        "      <td> 54</td>\n",
        "      <td> 0</td>\n",
        "      <td> 0</td>\n",
        "      <td>            17463</td>\n",
        "      <td> 51.8625</td>\n",
        "      <td>  E46</td>\n",
        "      <td> S</td>\n",
        "    </tr>\n",
        "    <tr>\n",
        "      <th>7</th>\n",
        "      <td>  8</td>\n",
        "      <td> 0</td>\n",
        "      <td> 3</td>\n",
        "      <td>                    Palsson, Master. Gosta Leonard</td>\n",
        "      <td> 1</td>\n",
        "      <td>  2</td>\n",
        "      <td> 3</td>\n",
        "      <td> 1</td>\n",
        "      <td>           349909</td>\n",
        "      <td> 21.0750</td>\n",
        "      <td>     </td>\n",
        "      <td> S</td>\n",
        "    </tr>\n",
        "    <tr>\n",
        "      <th>8</th>\n",
        "      <td>  9</td>\n",
        "      <td> 1</td>\n",
        "      <td> 3</td>\n",
        "      <td> Johnson, Mrs. Oscar W (Elisabeth Vilhelmina Berg)</td>\n",
        "      <td> 2</td>\n",
        "      <td> 27</td>\n",
        "      <td> 0</td>\n",
        "      <td> 2</td>\n",
        "      <td>           347742</td>\n",
        "      <td> 11.1333</td>\n",
        "      <td>     </td>\n",
        "      <td> S</td>\n",
        "    </tr>\n",
        "    <tr>\n",
        "      <th>9</th>\n",
        "      <td> 10</td>\n",
        "      <td> 1</td>\n",
        "      <td> 2</td>\n",
        "      <td>               Nasser, Mrs. Nicholas (Adele Achem)</td>\n",
        "      <td> 2</td>\n",
        "      <td> 14</td>\n",
        "      <td> 1</td>\n",
        "      <td> 0</td>\n",
        "      <td>           237736</td>\n",
        "      <td> 30.0708</td>\n",
        "      <td>     </td>\n",
        "      <td> C</td>\n",
        "    </tr>\n",
        "  </tbody>\n",
        "</table>\n",
        "<p>10 rows \u00d7 12 columns</p>\n",
        "</div>"
       ],
       "metadata": {},
       "output_type": "pyout",
       "prompt_number": 712,
       "text": [
        "   PassengerId  Survived  Pclass  \\\n",
        "0            1         0       3   \n",
        "1            2         1       1   \n",
        "2            3         1       3   \n",
        "3            4         1       1   \n",
        "4            5         0       3   \n",
        "5            6         0       3   \n",
        "6            7         0       1   \n",
        "7            8         0       3   \n",
        "8            9         1       3   \n",
        "9           10         1       2   \n",
        "\n",
        "                                                Name Sex Age  SibSp  Parch  \\\n",
        "0                            Braund, Mr. Owen Harris   1  22      1      0   \n",
        "1  Cumings, Mrs. John Bradley (Florence Briggs Th...   2  38      1      0   \n",
        "2                             Heikkinen, Miss. Laina   2  26      0      0   \n",
        "3       Futrelle, Mrs. Jacques Heath (Lily May Peel)   2  35      1      0   \n",
        "4                           Allen, Mr. William Henry   1  35      0      0   \n",
        "5                                   Moran, Mr. James   1  27      0      0   \n",
        "6                            McCarthy, Mr. Timothy J   1  54      0      0   \n",
        "7                     Palsson, Master. Gosta Leonard   1   2      3      1   \n",
        "8  Johnson, Mrs. Oscar W (Elisabeth Vilhelmina Berg)   2  27      0      2   \n",
        "9                Nasser, Mrs. Nicholas (Adele Achem)   2  14      1      0   \n",
        "\n",
        "             Ticket     Fare Cabin Embarked  \n",
        "0         A/5 21171   7.2500              S  \n",
        "1          PC 17599  71.2833   C85        C  \n",
        "2  STON/O2. 3101282   7.9250              S  \n",
        "3            113803  53.1000  C123        S  \n",
        "4            373450   8.0500              S  \n",
        "5            330877   8.4583              Q  \n",
        "6             17463  51.8625   E46        S  \n",
        "7            349909  21.0750              S  \n",
        "8            347742  11.1333              S  \n",
        "9            237736  30.0708              C  \n",
        "\n",
        "[10 rows x 12 columns]"
       ]
      }
     ],
     "prompt_number": 712
    },
    {
     "cell_type": "heading",
     "level": 4,
     "metadata": {},
     "source": [
      "3. Creating & running Logistic Regression model on the feature & label data"
     ]
    },
    {
     "cell_type": "code",
     "collapsed": false,
     "input": [
      "clf = LM.LogisticRegression(C=1.0, penalty='l1')"
     ],
     "language": "python",
     "metadata": {},
     "outputs": [],
     "prompt_number": 668
    },
    {
     "cell_type": "code",
     "collapsed": false,
     "input": [
      "trained_model = clf.fit(X[:-1], y[:-1])"
     ],
     "language": "python",
     "metadata": {},
     "outputs": [],
     "prompt_number": 669
    },
    {
     "cell_type": "heading",
     "level": 4,
     "metadata": {},
     "source": [
      "4. Testing the accuracy and predictions of the model with C=1\n"
     ]
    },
    {
     "cell_type": "code",
     "collapsed": false,
     "input": [
      "# testing the accuracy and predictions of the model with C=1\n",
      "train_model_score =  trained_model.predict_proba([1.,   2.,  38., 0, 1])\n",
      "\n",
      "print train_model_score"
     ],
     "language": "python",
     "metadata": {},
     "outputs": [
      {
       "output_type": "stream",
       "stream": "stdout",
       "text": [
        "[[ 0.07764492  0.92235508]]\n"
       ]
      }
     ],
     "prompt_number": 670
    },
    {
     "cell_type": "heading",
     "level": 4,
     "metadata": {},
     "source": [
      "5. Optimizing for the best C penalty regularization value"
     ]
    },
    {
     "cell_type": "code",
     "collapsed": false,
     "input": [
      "# optimize for the best C penalty value\n",
      "int_max_C = 150\n",
      "int_best_C = 1\n",
      "best_clf = clf\n",
      "float_max_score = 0.0\n",
      "list_crossvalidation_scores = []\n",
      "list_train, list_test = create_train_test_temporal(X,y,0.7)\n",
      "for int_index in range(150):\n",
      "    int_C = int_index + 1\n",
      "    clf = LM.LogisticRegression(C=float(int_C), penalty='l1')\n",
      "    trained_model = clf.fit(list_train[0], list_train[1])\n",
      "    float_score = trained_model.score(list_test[0], list_test[1]) \n",
      "    \n",
      "    # print float_score -  # prints scores for each of the C values\n",
      "    \n",
      "    if float_score > float_max_score:\n",
      "        int_best_C = int_C\n",
      "        float_max_score = float_score\n",
      "        best_clf = clf\n",
      "    list_crossvalidation_scores.append(float_score)\n",
      "\n",
      "print int_best_C, float_max_score "
     ],
     "language": "python",
     "metadata": {},
     "outputs": [
      {
       "output_type": "stream",
       "stream": "stdout",
       "text": [
        "2 0.808988764045\n"
       ]
      }
     ],
     "prompt_number": 671
    },
    {
     "cell_type": "code",
     "collapsed": false,
     "input": [
      "# train the model on segments of the dataset\n",
      "def create_train_test_temporal(np_data_features, np_data_labels, float_train_ratio):\n",
      "    int_data_points = len(np_data_labels)\n",
      "    int_last_index = int(float(int_data_points)*float_train_ratio)\n",
      "    return [np_data_features[:int_last_index], np_data_labels[:int_last_index]],[np_data_features[int_last_index:-1], np_data_labels[int_last_index:-1]]"
     ],
     "language": "python",
     "metadata": {},
     "outputs": [],
     "prompt_number": 672
    },
    {
     "cell_type": "code",
     "collapsed": false,
     "input": [
      "list_train, list_test = create_train_test_temporal(X,y,0.7)"
     ],
     "language": "python",
     "metadata": {},
     "outputs": [],
     "prompt_number": 673
    },
    {
     "cell_type": "heading",
     "level": 4,
     "metadata": {},
     "source": [
      "6. Testing the accuracy and predictions of the model with optimized C value"
     ]
    },
    {
     "cell_type": "code",
     "collapsed": false,
     "input": [
      "# Testing the accuracy and predictions of the model with optimized C value\n",
      "test_score =  best_clf.predict_proba([1.,   2.,  38., 0., 1.])\n",
      "print test_score"
     ],
     "language": "python",
     "metadata": {},
     "outputs": [
      {
       "output_type": "stream",
       "stream": "stdout",
       "text": [
        "[[ 0.08788637  0.91211363]]\n"
       ]
      }
     ],
     "prompt_number": 674
    },
    {
     "cell_type": "heading",
     "level": 4,
     "metadata": {},
     "source": [
      "7. Generating Logit Regression Results using Statsmodel.api"
     ]
    },
    {
     "cell_type": "code",
     "collapsed": false,
     "input": [
      "# statsmodel APIs\n",
      "import statsmodels.api as sm\n",
      "import statsmodels.formula.api as smf\n",
      "\n",
      "feature_data = sm.add_constant(X, prepend=True)\n",
      "results = sm.Logit(y, feature_data).fit()\n",
      "results.summary()"
     ],
     "language": "python",
     "metadata": {},
     "outputs": [
      {
       "output_type": "stream",
       "stream": "stdout",
       "text": [
        "Optimization terminated successfully.\n",
        "         Current function value: 0.433101\n",
        "         Iterations 6\n"
       ]
      },
      {
       "html": [
        "<table class=\"simpletable\">\n",
        "<caption>Logit Regression Results</caption>\n",
        "<tr>\n",
        "  <th>Dep. Variable:</th>         <td>y</td>        <th>  No. Observations:  </th>  <td>   891</td>  \n",
        "</tr>\n",
        "<tr>\n",
        "  <th>Model:</th>               <td>Logit</td>      <th>  Df Residuals:      </th>  <td>   885</td>  \n",
        "</tr>\n",
        "<tr>\n",
        "  <th>Method:</th>               <td>MLE</td>       <th>  Df Model:          </th>  <td>     5</td>  \n",
        "</tr>\n",
        "<tr>\n",
        "  <th>Date:</th>          <td>Mon, 14 Apr 2014</td> <th>  Pseudo R-squ.:     </th>  <td>0.3496</td>  \n",
        "</tr>\n",
        "<tr>\n",
        "  <th>Time:</th>              <td>11:54:22</td>     <th>  Log-Likelihood:    </th> <td> -385.89</td> \n",
        "</tr>\n",
        "<tr>\n",
        "  <th>converged:</th>           <td>True</td>       <th>  LL-Null:           </th> <td> -593.33</td> \n",
        "</tr>\n",
        "<tr>\n",
        "  <th> </th>                      <td> </td>        <th>  LLR p-value:       </th> <td>1.850e-87</td>\n",
        "</tr>\n",
        "</table>\n",
        "<table class=\"simpletable\">\n",
        "<tr>\n",
        "    <td></td>       <th>coef</th>     <th>std err</th>      <th>z</th>      <th>P>|z|</th> <th>[95.0% Conf. Int.]</th> \n",
        "</tr>\n",
        "<tr>\n",
        "  <th>const</th> <td>    0.5469</td> <td>    0.502</td> <td>    1.090</td> <td> 0.276</td> <td>   -0.436     1.530</td>\n",
        "</tr>\n",
        "<tr>\n",
        "  <th>x1</th>    <td>   -1.3507</td> <td>    0.131</td> <td>  -10.311</td> <td> 0.000</td> <td>   -1.607    -1.094</td>\n",
        "</tr>\n",
        "<tr>\n",
        "  <th>x2</th>    <td>    2.7333</td> <td>    0.201</td> <td>   13.621</td> <td> 0.000</td> <td>    2.340     3.127</td>\n",
        "</tr>\n",
        "<tr>\n",
        "  <th>x3</th>    <td>   -0.0536</td> <td>    0.008</td> <td>   -6.478</td> <td> 0.000</td> <td>   -0.070    -0.037</td>\n",
        "</tr>\n",
        "<tr>\n",
        "  <th>x4</th>    <td>   -0.3806</td> <td>    0.111</td> <td>   -3.417</td> <td> 0.001</td> <td>   -0.599    -0.162</td>\n",
        "</tr>\n",
        "<tr>\n",
        "  <th>x5</th>    <td>   -0.0755</td> <td>    0.118</td> <td>   -0.638</td> <td> 0.524</td> <td>   -0.307     0.156</td>\n",
        "</tr>\n",
        "</table>"
       ],
       "metadata": {},
       "output_type": "pyout",
       "prompt_number": 675,
       "text": [
        "<class 'statsmodels.iolib.summary.Summary'>\n",
        "\"\"\"\n",
        "                           Logit Regression Results                           \n",
        "==============================================================================\n",
        "Dep. Variable:                      y   No. Observations:                  891\n",
        "Model:                          Logit   Df Residuals:                      885\n",
        "Method:                           MLE   Df Model:                            5\n",
        "Date:                Mon, 14 Apr 2014   Pseudo R-squ.:                  0.3496\n",
        "Time:                        11:54:22   Log-Likelihood:                -385.89\n",
        "converged:                       True   LL-Null:                       -593.33\n",
        "                                        LLR p-value:                 1.850e-87\n",
        "==============================================================================\n",
        "                 coef    std err          z      P>|z|      [95.0% Conf. Int.]\n",
        "------------------------------------------------------------------------------\n",
        "const          0.5469      0.502      1.090      0.276        -0.436     1.530\n",
        "x1            -1.3507      0.131    -10.311      0.000        -1.607    -1.094\n",
        "x2             2.7333      0.201     13.621      0.000         2.340     3.127\n",
        "x3            -0.0536      0.008     -6.478      0.000        -0.070    -0.037\n",
        "x4            -0.3806      0.111     -3.417      0.001        -0.599    -0.162\n",
        "x5            -0.0755      0.118     -0.638      0.524        -0.307     0.156\n",
        "==============================================================================\n",
        "\"\"\""
       ]
      }
     ],
     "prompt_number": 675
    },
    {
     "cell_type": "code",
     "collapsed": false,
     "input": [
      "coef_l1_LR = best_clf.coef_.ravel()\n",
      "print coef_l1_LR"
     ],
     "language": "python",
     "metadata": {},
     "outputs": [
      {
       "output_type": "stream",
       "stream": "stdout",
       "text": [
        "[-1.32694439  2.66636331 -0.05327226 -0.2736174  -0.07057924]\n"
       ]
      }
     ],
     "prompt_number": 765
    },
    {
     "cell_type": "heading",
     "level": 3,
     "metadata": {},
     "source": [
      "HOMEWORK QUESTION 3: Implement cross-validation for your logistic regression"
     ]
    },
    {
     "cell_type": "code",
     "collapsed": false,
     "input": [
      "# Cross validation\n",
      "from sklearn.cross_validation import KFold\n",
      "\n",
      "# generic cross validation function\n",
      "def cross_validate(X, y, classifier, k_fold):\n",
      "    \n",
      "    #derive a set of (random) training and testing indices\n",
      "    k_fold_indices = KFold(len(X), n_folds=k_fold,\n",
      "                           indices=True, shuffle=True,\n",
      "                           random_state=0)\n",
      "    \n",
      "    k_score_total = 0\n",
      "    # for each training and testing slices run the classifier, and score the results\n",
      "    for train_slice, test_slice in k_fold_indices :\n",
      "        \n",
      "        model = classifier(X[[ train_slice ]],\n",
      "                           y[[ train_slice]])\n",
      "        \n",
      "        k_score = model.score(X[[ test_slice ]],\n",
      "                              y[[ test_slice ]])\n",
      "        \n",
      "        k_score_total += k_score\n",
      "                        \n",
      "            \n",
      "    # return the average accuracy\n",
      "    return k_score_total/k_fold"
     ],
     "language": "python",
     "metadata": {},
     "outputs": [],
     "prompt_number": 676
    },
    {
     "cell_type": "heading",
     "level": 4,
     "metadata": {},
     "source": [
      "1. Setting folds to 10"
     ]
    },
    {
     "cell_type": "code",
     "collapsed": false,
     "input": [
      "# currently set to 10 folds\n",
      "cross_validate(X, y, best_clf.fit,10)"
     ],
     "language": "python",
     "metadata": {},
     "outputs": [
      {
       "metadata": {},
       "output_type": "pyout",
       "prompt_number": 678,
       "text": [
        "0.81143570536828968"
       ]
      }
     ],
     "prompt_number": 678
    },
    {
     "cell_type": "heading",
     "level": 4,
     "metadata": {},
     "source": [
      "2. Determining accuracy and range"
     ]
    },
    {
     "cell_type": "code",
     "collapsed": false,
     "input": [
      "from sklearn import cross_validation\n",
      "scores = cross_validation.cross_val_score(\n",
      "                                          clf, X, y, cv =5)\n",
      "print(\"Accuracy: %0.2f (+/- %0.2f)\" % (scores.mean(), scores.std() * 2))"
     ],
     "language": "python",
     "metadata": {},
     "outputs": [
      {
       "output_type": "stream",
       "stream": "stdout",
       "text": [
        "Accuracy: 0.82 (+/- 0.02)\n"
       ]
      }
     ],
     "prompt_number": 679
    },
    {
     "cell_type": "heading",
     "level": 4,
     "metadata": {},
     "source": [
      "3. Plotting accuracy vs folds"
     ]
    },
    {
     "cell_type": "code",
     "collapsed": false,
     "input": [
      "res = []\n",
      "for f in xrange(1,151):\n",
      "    res.append(cross_validate(X, y, best_clf.fit,6))"
     ],
     "language": "python",
     "metadata": {},
     "outputs": [],
     "prompt_number": 680
    },
    {
     "cell_type": "code",
     "collapsed": false,
     "input": [
      "f_max = argmax(res)\n",
      "f_max_score = res[k_max]\n",
      "print \"The maximum score of this LM is %f \" % (f_max_score)"
     ],
     "language": "python",
     "metadata": {},
     "outputs": [
      {
       "output_type": "stream",
       "stream": "stdout",
       "text": [
        "The maximum score of this LM is 0.813690 \n"
       ]
      }
     ],
     "prompt_number": 681
    },
    {
     "cell_type": "code",
     "collapsed": false,
     "input": [
      "fig = plt.figure(figsize = (8, 6))\n",
      "ax = fig.add_subplot(111)\n",
      "ax.plot(res)\n",
      "ax.plot(f_max, f_max_score, 'or')\n",
      "plt.title('Cross Validation Score VS # folds')\n",
      "plt.xlabel('Number of folds: f')\n",
      "plt.ylabel('Cross Validation Score')\n",
      "\n",
      "\n",
      "plt.show()"
     ],
     "language": "python",
     "metadata": {},
     "outputs": [
      {
       "metadata": {},
       "output_type": "display_data",
       "png": "[encoded data removed]",
       "text": [
        "<matplotlib.figure.Figure at 0x10cb28350>"
       ]
      }
     ],
     "prompt_number": 682
    },
    {
     "cell_type": "heading",
     "level": 3,
     "metadata": {},
     "source": [
      "HOMEWORK QUESTION 4: Create an ROC curve for your logistic regression"
     ]
    },
    {
     "cell_type": "code",
     "collapsed": false,
     "input": [
      "from sklearn.utils import shuffle\n",
      "from sklearn.metrics import roc_curve, auc\n",
      "import pylab as pl\n",
      "probas_ = best_clf.fit(X,y).predict_proba(X)"
     ],
     "language": "python",
     "metadata": {},
     "outputs": [],
     "prompt_number": 683
    },
    {
     "cell_type": "heading",
     "level": 4,
     "metadata": {},
     "source": [
      "ROC curve using the models data"
     ]
    },
    {
     "cell_type": "code",
     "collapsed": false,
     "input": [
      "# Compute ROC curve and area the curve\n",
      "fpr, tpr, thresholds = roc_curve(y, probas_[:, -1])\n",
      "roc_auc = auc(fpr, tpr)\n",
      "print \"Area under the ROC curve : %f\" % roc_auc\n",
      "\n",
      "# Plot ROC curve\n",
      "pl.clf()\n",
      "pl.plot(fpr, tpr, label='ROC curve (area = %0.2f)' % roc_auc)\n",
      "pl.plot([0, 1], [0, 1], 'k--')\n",
      "pl.xlim([0.0, 1.0])\n",
      "pl.ylim([0.0, 1.0])\n",
      "pl.xlabel('False Positive Rate')\n",
      "pl.ylabel('True Positive Rate')\n",
      "pl.title('Receiver operating characteristic curve')\n",
      "pl.legend(loc=\"lower right\")\n",
      "pl.show()"
     ],
     "language": "python",
     "metadata": {},
     "outputs": [
      {
       "output_type": "stream",
       "stream": "stdout",
       "text": [
        "Area under the ROC curve : 0.862198\n"
       ]
      },
      {
       "metadata": {},
       "output_type": "display_data",
       "png": "[encoded data removed]",
       "text": [
        "<matplotlib.figure.Figure at 0x10a10a3d0>"
       ]
      }
     ],
     "prompt_number": 684
    },
    {
     "cell_type": "heading",
     "level": 4,
     "metadata": {},
     "source": [
      "ROC curve using test/train data"
     ]
    },
    {
     "cell_type": "code",
     "collapsed": false,
     "input": [
      "probas_test_data = best_clf.fit(list_train[0],list_train[1]).predict_proba(list_test[0])"
     ],
     "language": "python",
     "metadata": {},
     "outputs": [],
     "prompt_number": 685
    },
    {
     "cell_type": "code",
     "collapsed": false,
     "input": [
      "# Compute ROC curve and area the curve\n",
      "fpr, tpr, thresholds = roc_curve(list_test[1], probas_test_data[:, -1])\n",
      "roc_auc = auc(fpr, tpr)\n",
      "print \"Area under the ROC curve : %f\" % roc_auc\n",
      "\n",
      "# Plot ROC curve\n",
      "pl.clf()\n",
      "pl.plot(fpr, tpr, label='ROC curve (area = %0.2f)' % roc_auc)\n",
      "pl.plot([0, 1], [0, 1], 'k--')\n",
      "pl.xlim([0.0, 1.0])\n",
      "pl.ylim([0.0, 1.0])\n",
      "pl.xlabel('False Positive Rate')\n",
      "pl.ylabel('True Positive Rate')\n",
      "pl.title('Receiver operating characteristic curve')\n",
      "pl.legend(loc=\"lower right\")\n",
      "pl.show()"
     ],
     "language": "python",
     "metadata": {},
     "outputs": [
      {
       "output_type": "stream",
       "stream": "stdout",
       "text": [
        "Area under the ROC curve : 0.870218\n"
       ]
      },
      {
       "metadata": {},
       "output_type": "display_data",
       "png": "[encoded data removed]",
       "text": [
        "<matplotlib.figure.Figure at 0x10a0dd8d0>"
       ]
      }
     ],
     "prompt_number": 686
    },
    {
     "cell_type": "code",
     "collapsed": false,
     "input": [],
     "language": "python",
     "metadata": {},
     "outputs": [],
     "prompt_number": 686
    },
    {
     "cell_type": "heading",
     "level": 4,
     "metadata": {},
     "source": [
      "Just for fun: ROC Curve with Cross Validation Folds"
     ]
    },
    {
     "cell_type": "code",
     "collapsed": false,
     "input": [
      "from sklearn.cross_validation import StratifiedKFold\n",
      "from sklearn import svm\n",
      "\n",
      "# Classification and ROC analysis\n",
      "\n",
      "# Run classifier with crossvalidation and plot ROC curves\n",
      "cv = StratifiedKFold(y, n_folds=6)\n",
      "classifier = best_clf.fit(X,y)\n",
      "\n",
      "mean_tpr = 0.0\n",
      "mean_fpr = np.linspace(0, 1, 100)\n",
      "all_tpr = []\n",
      "\n",
      "for i, (train, test) in enumerate(cv):\n",
      "    probas_1 = classifier.fit(X[train], y[train]).predict_proba(X[test])\n",
      "    \n",
      "    # Compute ROC curve and area the curve\n",
      "    fpr, tpr, thresholds = roc_curve(y[test], probas_1[:, 1])\n",
      "    mean_tpr += interp(mean_fpr, fpr, tpr)\n",
      "    mean_tpr[0] = 0.0\n",
      "    roc_auc = auc(fpr, tpr)\n",
      "    pl.plot(fpr, tpr, lw=1, label='ROC fold %d (area = %0.2f)' % (i, roc_auc))\n",
      "\n",
      "pl.plot([0, 1], [0, 1], '--', color=(0.6, 0.6, 0.6), label='Luck')\n",
      "\n",
      "mean_tpr /= len(cv)\n",
      "mean_tpr[-1] = 1.0\n",
      "mean_auc = auc(mean_fpr, mean_tpr)\n",
      "pl.plot(mean_fpr, mean_tpr, 'k--',\n",
      "        label='Mean ROC (area = %0.2f)' % mean_auc, lw=2)\n",
      "\n",
      "pl.xlim([-0.05, 1.05])\n",
      "pl.ylim([-0.05, 1.05])\n",
      "pl.xlabel('False Positive Rate')\n",
      "pl.ylabel('True Positive Rate')\n",
      "pl.title('Receiver operating characteristic with cross-fold validation')\n",
      "pl.legend(loc=\"lower right\")\n",
      "pl.show()"
     ],
     "language": "python",
     "metadata": {},
     "outputs": [
      {
       "metadata": {},
       "output_type": "display_data",
       "png": "[encoded data removed]",
       "text": [
        "<matplotlib.figure.Figure at 0x10a10a9d0>"
       ]
      }
     ],
     "prompt_number": 687
    },
    {
     "cell_type": "heading",
     "level": 3,
     "metadata": {},
     "source": [
      "Q2.D: New data set -- import data, imputed age, ran model, added threshold, wrote to csv - SEE:titanic_test_0.XX_results.csv"
     ]
    },
    {
     "cell_type": "code",
     "collapsed": false,
     "input": [
      "# Importng data, converting NaN to blank fields\n",
      "data_test = pd.io.parsers.read_csv('data/titanic_test.csv', index_col=False, na_values = 'Unknown', keep_default_na=False)"
     ],
     "language": "python",
     "metadata": {},
     "outputs": [],
     "prompt_number": 646
    },
    {
     "cell_type": "code",
     "collapsed": false,
     "input": [
      "# imputing ages based on available dataset\n",
      "mean_age_survived_by_class_gender_test = {}\n",
      "for pclass in set(data_test.Pclass):\n",
      "    for sex in set(data_test.Sex):\n",
      "            mean_age_survived_by_class_gender_test[(pclass, sex)] = data_test[(data_test.Age <> '') & (data_test.Pclass == pclass) & (data_test.Sex == sex)]['Age'].astype(float).mean()\n",
      "        \n",
      "pp.pprint(mean_age_survived_by_class_gender_test)"
     ],
     "language": "python",
     "metadata": {},
     "outputs": [
      {
       "output_type": "stream",
       "stream": "stdout",
       "text": [
        "{   (1, 1): 40.520000000000003,\n",
        "    (1, 2): 41.333333333333336,\n",
        "    (2, 1): 30.940677966101696,\n",
        "    (2, 2): 24.376551724137933,\n",
        "    (3, 1): 24.525104166666665,\n",
        "    (3, 2): 23.073400000000003}\n"
       ]
      }
     ],
     "prompt_number": 692
    },
    {
     "cell_type": "code",
     "collapsed": false,
     "input": [
      "# Converting all male entries to a float value of '1'\n",
      "data_test.Sex.loc[(data_test.Sex == 'male')] = 1\n",
      "\n",
      "# Converting all female entries to a float value of '2'\n",
      "data_test.Sex.loc[(data_test.Sex == 'female')] = 2"
     ],
     "language": "python",
     "metadata": {},
     "outputs": [],
     "prompt_number": 689
    },
    {
     "cell_type": "code",
     "collapsed": false,
     "input": [
      "# easier method to replace the above ages using tuples dict\n",
      "for tuple_key, float_age in mean_age_survived_by_class_gender_test.items():\n",
      "    data_test.Age.loc[(data_test.Pclass == tuple_key[0]) & (data_test.Sex == tuple_key[1]) & (data_test.Age == '')] = int(float_age)"
     ],
     "language": "python",
     "metadata": {},
     "outputs": [],
     "prompt_number": 697
    },
    {
     "cell_type": "code",
     "collapsed": false,
     "input": [
      "data_test.head(5)"
     ],
     "language": "python",
     "metadata": {},
     "outputs": [
      {
       "html": [
        "<div style=\"max-height:1000px;max-width:1500px;overflow:auto;\">\n",
        "<table border=\"1\" class=\"dataframe\">\n",
        "  <thead>\n",
        "    <tr style=\"text-align: right;\">\n",
        "      <th></th>\n",
        "      <th>PassengerId</th>\n",
        "      <th>Pclass</th>\n",
        "      <th>Name</th>\n",
        "      <th>Sex</th>\n",
        "      <th>Age</th>\n",
        "      <th>SibSp</th>\n",
        "      <th>Parch</th>\n",
        "      <th>Ticket</th>\n",
        "      <th>Fare</th>\n",
        "      <th>Cabin</th>\n",
        "      <th>Embarked</th>\n",
        "    </tr>\n",
        "  </thead>\n",
        "  <tbody>\n",
        "    <tr>\n",
        "      <th>0</th>\n",
        "      <td> 892</td>\n",
        "      <td> 3</td>\n",
        "      <td>                             Kelly, Mr. James</td>\n",
        "      <td> 1</td>\n",
        "      <td> 34.5</td>\n",
        "      <td> 0</td>\n",
        "      <td> 0</td>\n",
        "      <td>  330911</td>\n",
        "      <td>  7.8292</td>\n",
        "      <td> </td>\n",
        "      <td> Q</td>\n",
        "    </tr>\n",
        "    <tr>\n",
        "      <th>1</th>\n",
        "      <td> 893</td>\n",
        "      <td> 3</td>\n",
        "      <td>             Wilkes, Mrs. James (Ellen Needs)</td>\n",
        "      <td> 2</td>\n",
        "      <td>   47</td>\n",
        "      <td> 1</td>\n",
        "      <td> 0</td>\n",
        "      <td>  363272</td>\n",
        "      <td>       7</td>\n",
        "      <td> </td>\n",
        "      <td> S</td>\n",
        "    </tr>\n",
        "    <tr>\n",
        "      <th>2</th>\n",
        "      <td> 894</td>\n",
        "      <td> 2</td>\n",
        "      <td>                    Myles, Mr. Thomas Francis</td>\n",
        "      <td> 1</td>\n",
        "      <td>   62</td>\n",
        "      <td> 0</td>\n",
        "      <td> 0</td>\n",
        "      <td>  240276</td>\n",
        "      <td>  9.6875</td>\n",
        "      <td> </td>\n",
        "      <td> Q</td>\n",
        "    </tr>\n",
        "    <tr>\n",
        "      <th>3</th>\n",
        "      <td> 895</td>\n",
        "      <td> 3</td>\n",
        "      <td>                             Wirz, Mr. Albert</td>\n",
        "      <td> 1</td>\n",
        "      <td>   27</td>\n",
        "      <td> 0</td>\n",
        "      <td> 0</td>\n",
        "      <td>  315154</td>\n",
        "      <td>  8.6625</td>\n",
        "      <td> </td>\n",
        "      <td> S</td>\n",
        "    </tr>\n",
        "    <tr>\n",
        "      <th>4</th>\n",
        "      <td> 896</td>\n",
        "      <td> 3</td>\n",
        "      <td> Hirvonen, Mrs. Alexander (Helga E Lindqvist)</td>\n",
        "      <td> 2</td>\n",
        "      <td>   22</td>\n",
        "      <td> 1</td>\n",
        "      <td> 1</td>\n",
        "      <td> 3101298</td>\n",
        "      <td> 12.2875</td>\n",
        "      <td> </td>\n",
        "      <td> S</td>\n",
        "    </tr>\n",
        "  </tbody>\n",
        "</table>\n",
        "<p>5 rows \u00d7 11 columns</p>\n",
        "</div>"
       ],
       "metadata": {},
       "output_type": "pyout",
       "prompt_number": 713,
       "text": [
        "   PassengerId  Pclass                                          Name Sex  \\\n",
        "0          892       3                              Kelly, Mr. James   1   \n",
        "1          893       3              Wilkes, Mrs. James (Ellen Needs)   2   \n",
        "2          894       2                     Myles, Mr. Thomas Francis   1   \n",
        "3          895       3                              Wirz, Mr. Albert   1   \n",
        "4          896       3  Hirvonen, Mrs. Alexander (Helga E Lindqvist)   2   \n",
        "\n",
        "    Age  SibSp  Parch   Ticket     Fare Cabin Embarked  \n",
        "0  34.5      0      0   330911   7.8292              Q  \n",
        "1    47      1      0   363272        7              S  \n",
        "2    62      0      0   240276   9.6875              Q  \n",
        "3    27      0      0   315154   8.6625              S  \n",
        "4    22      1      1  3101298  12.2875              S  \n",
        "\n",
        "[5 rows x 11 columns]"
       ]
      }
     ],
     "prompt_number": 713
    },
    {
     "cell_type": "code",
     "collapsed": false,
     "input": [
      "data_test.columns"
     ],
     "language": "python",
     "metadata": {},
     "outputs": [
      {
       "metadata": {},
       "output_type": "pyout",
       "prompt_number": 714,
       "text": [
        "Index([u'PassengerId', u'Pclass', u'Name', u'Sex', u'Age', u'SibSp', u'Parch', u'Ticket', u'Fare', u'Cabin', u'Embarked'], dtype='object')"
       ]
      }
     ],
     "prompt_number": 714
    },
    {
     "cell_type": "code",
     "collapsed": false,
     "input": [
      "X_test = data_test[['Pclass', 'Sex', 'Age', 'SibSp', 'Parch']].values.astype(float)"
     ],
     "language": "python",
     "metadata": {},
     "outputs": [],
     "prompt_number": 715
    },
    {
     "cell_type": "code",
     "collapsed": false,
     "input": [
      "Survived_Test_proba = best_clf.predict_proba(X_test) # we get the probabilities of survival\n",
      "\n",
      "# we now apply a threshold to decide what probability of survuval is assumed to guarantee survival\n",
      "float_survival_threshold = 0.51\n",
      "\n",
      "# we generate a dictionary with PassengerId as keym and (survival_proba, survival) as values\n",
      "dic_ID_survival = {}\n",
      "\n",
      "for int_index in range(len(data_test)): #creating an index using the length of data_test\n",
      "    PassengerId = data_test.loc[int_index][0] # going row by row starting with row 0 and getting passenger iD\n",
      "    Survived_Test = [Survived_Test_proba[int_index][1]] # append the probability of survival\n",
      "    if Survived_Test_proba[int_index][1] > float_survival_threshold: # if probability of survival is greater than the threshold\n",
      "        Survived_Test.append(1) # append 1\n",
      "    else:\n",
      "        Survived_Test.append(0) # otherwise append 0\n",
      "    \n",
      "    dic_ID_survival[PassengerId] = Survived_Test # entry in the dictionary that corresponds to PassengerID is the probability of survival & the survival\n"
     ],
     "language": "python",
     "metadata": {},
     "outputs": [],
     "prompt_number": 762
    },
    {
     "cell_type": "code",
     "collapsed": false,
     "input": [
      "import csv\n",
      "\n",
      "str_path = 'data/titanic_test_'+str(float_survival_threshold)+'_results.csv'   # absolute path to the file with the results\n",
      "                                                                               # we added the value of the threshold for clarity\n",
      "file_out_data = open(str_path, 'wb')\n",
      "data_writer = csv.writer(file_out_data)\n",
      "\n",
      "header_row = ['Probability Survival', 'Survival', 'PassengerId', 'Pclass', 'Name', 'Sex', 'Age', 'SibSp', 'Parch', 'Ticket', 'Fare', 'Cabin', 'Embarked']\n",
      "data_writer.writerow(header_row)\n",
      "\n",
      "for int_index in range(len(data_test)):\n",
      "    PassengerId = data_test.loc[int_index][0] # going row by row starting with row 0 and getting passenger iD\n",
      "    Survived_Test = dic_ID_survival[PassengerId]\n",
      "    out_row = Survived_Test + list(data_test.loc[int_index])\n",
      "    data_writer.writerow(out_row)\n",
      "\n",
      "file_out_data.close()    "
     ],
     "language": "python",
     "metadata": {},
     "outputs": [],
     "prompt_number": 763
    },
    {
     "cell_type": "code",
     "collapsed": false,
     "input": [
      "list(data_test.loc[1])"
     ],
     "language": "python",
     "metadata": {},
     "outputs": [
      {
       "metadata": {},
       "output_type": "pyout",
       "prompt_number": 759,
       "text": [
        "[893,\n",
        " 3,\n",
        " 'Wilkes, Mrs. James (Ellen Needs)',\n",
        " 2,\n",
        " '47',\n",
        " 1,\n",
        " 0,\n",
        " '363272',\n",
        " '7',\n",
        " '',\n",
        " 'S']"
       ]
      }
     ],
     "prompt_number": 759
    },
    {
     "cell_type": "code",
     "collapsed": false,
     "input": [
      "Survived_Test_proba"
     ],
     "language": "python",
     "metadata": {},
     "outputs": [
      {
       "metadata": {},
       "output_type": "pyout",
       "prompt_number": 757,
       "text": [
        "array([[ 0.9328385 ,  0.0671615 ],\n",
        "       [ 0.71183014,  0.28816986],\n",
        "       [ 0.94098717,  0.05901283],\n",
        "       [ 0.90305066,  0.09694934],\n",
        "       [ 0.41170101,  0.58829899],\n",
        "       [ 0.82332668,  0.17667332],\n",
        "       [ 0.43169068,  0.56830932],\n",
        "       [ 0.76773578,  0.23226422],\n",
        "       [ 0.28613634,  0.71386366],\n",
        "       [ 0.921231  ,  0.078769  ],\n",
        "       [ 0.88812927,  0.11187073],\n",
        "       [ 0.64333626,  0.35666374],\n",
        "       [ 0.04617095,  0.95382905],\n",
        "       [ 0.95673011,  0.04326989],\n",
        "       [ 0.14809771,  0.85190229],\n",
        "       [ 0.16139067,  0.83860933],\n",
        "       [ 0.79097685,  0.20902315],\n",
        "       [ 0.87123879,  0.12876121],\n",
        "       [ 0.459798  ,  0.540202  ],\n",
        "       [ 0.62811236,  0.37188764],\n",
        "       [ 0.7929733 ,  0.2070267 ],\n",
        "       [ 0.79302696,  0.20697304],\n",
        "       [ 0.08763573,  0.91236427],\n",
        "       [ 0.33819394,  0.66180606],\n",
        "       [ 0.18473519,  0.81526481],\n",
        "       [ 0.97658007,  0.02341993],\n",
        "       [ 0.03610872,  0.96389128],\n",
        "       [ 0.87994029,  0.12005971],\n",
        "       [ 0.58018011,  0.41981989],\n",
        "       [ 0.93207493,  0.06792507],\n",
        "       [ 0.9170957 ,  0.0829043 ],\n",
        "       [ 0.78449628,  0.21550372],\n",
        "       [ 0.57435356,  0.42564644],\n",
        "       [ 0.44199079,  0.55800921],\n",
        "       [ 0.50278382,  0.49721618],\n",
        "       [ 0.85554564,  0.14445436],\n",
        "       [ 0.34347142,  0.65652858],\n",
        "       [ 0.31986184,  0.68013816],\n",
        "       [ 0.89331374,  0.10668626],\n",
        "       [ 0.88812927,  0.11187073],\n",
        "       [ 0.94985718,  0.05014282],\n",
        "       [ 0.56715196,  0.43284804],\n",
        "       [ 0.9515427 ,  0.0484573 ],\n",
        "       [ 0.1677161 ,  0.8322839 ],\n",
        "       [ 0.13515313,  0.86484687],\n",
        "       [ 0.89331374,  0.10668626],\n",
        "       [ 0.63102156,  0.36897844],\n",
        "       [ 0.88812927,  0.11187073],\n",
        "       [ 0.2090473 ,  0.7909527 ],\n",
        "       [ 0.54632563,  0.45367437],\n",
        "       [ 0.42348137,  0.57651863],\n",
        "       [ 0.71190325,  0.28809675],\n",
        "       [ 0.17993183,  0.82006817],\n",
        "       [ 0.11171128,  0.88828872],\n",
        "       [ 0.74354239,  0.25645761],\n",
        "       [ 0.92350922,  0.07649078],\n",
        "       [ 0.93448816,  0.06551184],\n",
        "       [ 0.89331374,  0.10668626],\n",
        "       [ 0.91256715,  0.08743285],\n",
        "       [ 0.06854791,  0.93145209],\n",
        "       [ 0.84538676,  0.15461324],\n",
        "       [ 0.76332697,  0.23667303],\n",
        "       [ 0.85222248,  0.14777752],\n",
        "       [ 0.33156073,  0.66843927],\n",
        "       [ 0.38231894,  0.61768106],\n",
        "       [ 0.12769055,  0.87230945],\n",
        "       [ 0.28613634,  0.71386366],\n",
        "       [ 0.65546435,  0.34453565],\n",
        "       [ 0.4478875 ,  0.5521125 ],\n",
        "       [ 0.31545394,  0.68454606],\n",
        "       [ 0.35558238,  0.64441762],\n",
        "       [ 0.87123879,  0.12876121],\n",
        "       [ 0.41867165,  0.58132835],\n",
        "       [ 0.41522894,  0.58477106],\n",
        "       [ 0.06522372,  0.93477628],\n",
        "       [ 0.46771962,  0.53228038],\n",
        "       [ 0.88812927,  0.11187073],\n",
        "       [ 0.25926272,  0.74073728],\n",
        "       [ 0.74354239,  0.25645761],\n",
        "       [ 0.35558238,  0.64441762],\n",
        "       [ 0.81108402,  0.18891598],\n",
        "       [ 0.87891643,  0.12108357],\n",
        "       [ 0.67911133,  0.32088867],\n",
        "       [ 0.88812927,  0.11187073],\n",
        "       [ 0.74354239,  0.25645761],\n",
        "       [ 0.91256715,  0.08743285],\n",
        "       [ 0.39298709,  0.60701291],\n",
        "       [ 0.28613634,  0.71386366],\n",
        "       [ 0.34347142,  0.65652858],\n",
        "       [ 0.47927086,  0.52072914],\n",
        "       [ 0.39471937,  0.60528063],\n",
        "       [ 0.88812927,  0.11187073],\n",
        "       [ 0.06453197,  0.93546803],\n",
        "       [ 0.88812927,  0.11187073],\n",
        "       [ 0.37078672,  0.62921328],\n",
        "       [ 0.89331374,  0.10668626],\n",
        "       [ 0.44900192,  0.55099808],\n",
        "       [ 0.91198646,  0.08801354],\n",
        "       [ 0.30838529,  0.69161471],\n",
        "       [ 0.92765567,  0.07234433],\n",
        "       [ 0.12317638,  0.87682362],\n",
        "       [ 0.76463535,  0.23536465],\n",
        "       [ 0.88812927,  0.11187073],\n",
        "       [ 0.89828547,  0.10171453],\n",
        "       [ 0.33702695,  0.66297305],\n",
        "       [ 0.90761556,  0.09238444],\n",
        "       [ 0.87123879,  0.12876121],\n",
        "       [ 0.88812927,  0.11187073],\n",
        "       [ 0.88812927,  0.11187073],\n",
        "       [ 0.61107459,  0.38892541],\n",
        "       [ 0.83895283,  0.16104717],\n",
        "       [ 0.34347142,  0.65652858],\n",
        "       [ 0.06854791,  0.93145209],\n",
        "       [ 0.29160794,  0.70839206],\n",
        "       [ 0.28961729,  0.71038271],\n",
        "       [ 0.883475  ,  0.116525  ],\n",
        "       [ 0.88812927,  0.11187073],\n",
        "       [ 0.18608456,  0.81391544],\n",
        "       [ 0.514284  ,  0.485716  ],\n",
        "       [ 0.20075925,  0.79924075],\n",
        "       [ 0.07170417,  0.92829583],\n",
        "       [ 0.91256715,  0.08743285],\n",
        "       [ 0.08402562,  0.91597438],\n",
        "       [ 0.90761556,  0.09238444],\n",
        "       [ 0.88812927,  0.11187073],\n",
        "       [ 0.28968455,  0.71031545],\n",
        "       [ 0.87709771,  0.12290229],\n",
        "       [ 0.47486433,  0.52513567],\n",
        "       [ 0.8460212 ,  0.1539788 ],\n",
        "       [ 0.88812927,  0.11187073],\n",
        "       [ 0.92399807,  0.07600193],\n",
        "       [ 0.72367804,  0.27632196],\n",
        "       [ 0.40961786,  0.59038214],\n",
        "       [ 0.91256715,  0.08743285],\n",
        "       [ 0.95622566,  0.04377434],\n",
        "       [ 0.88812927,  0.11187073],\n",
        "       [ 0.90069349,  0.09930651],\n",
        "       [ 0.70085516,  0.29914484],\n",
        "       [ 0.34347142,  0.65652858],\n",
        "       [ 0.97394696,  0.02605304],\n",
        "       [ 0.54211097,  0.45788903],\n",
        "       [ 0.05902094,  0.94097906],\n",
        "       [ 0.86695654,  0.13304346],\n",
        "       [ 0.72270474,  0.27729526],\n",
        "       [ 0.59309747,  0.40690253],\n",
        "       [ 0.96322721,  0.03677279],\n",
        "       [ 0.56715196,  0.43284804],\n",
        "       [ 0.87709771,  0.12290229],\n",
        "       [ 0.56715196,  0.43284804],\n",
        "       [ 0.80355435,  0.19644565],\n",
        "       [ 0.03800938,  0.96199062],\n",
        "       [ 0.88812927,  0.11187073],\n",
        "       [ 0.98229789,  0.01770211],\n",
        "       [ 0.54632563,  0.45367437],\n",
        "       [ 0.93827804,  0.06172196],\n",
        "       [ 0.88812927,  0.11187073],\n",
        "       [ 0.04824031,  0.95175969],\n",
        "       [ 0.34347142,  0.65652858],\n",
        "       [ 0.59309747,  0.40690253],\n",
        "       [ 0.41413751,  0.58586249],\n",
        "       [ 0.34347142,  0.65652858],\n",
        "       [ 0.81911182,  0.18088818],\n",
        "       [ 0.14003613,  0.85996387],\n",
        "       [ 0.88812927,  0.11187073],\n",
        "       [ 0.83895283,  0.16104717],\n",
        "       [ 0.46409966,  0.53590034],\n",
        "       [ 0.66739325,  0.33260675],\n",
        "       [ 0.91986639,  0.08013361],\n",
        "       [ 0.08763573,  0.91236427],\n",
        "       [ 0.33156073,  0.66843927],\n",
        "       [ 0.88812927,  0.11187073],\n",
        "       [ 0.90305066,  0.09694934],\n",
        "       [ 0.90822218,  0.09177782],\n",
        "       [ 0.88812927,  0.11187073],\n",
        "       [ 0.97209487,  0.02790513],\n",
        "       [ 0.09450524,  0.90549476],\n",
        "       [ 0.10577687,  0.89422313],\n",
        "       [ 0.78409125,  0.21590875],\n",
        "       [ 0.25530237,  0.74469763],\n",
        "       [ 0.2736007 ,  0.7263993 ],\n",
        "       [ 0.74354239,  0.25645761],\n",
        "       [ 0.61173722,  0.38826278],\n",
        "       [ 0.03576053,  0.96423947],\n",
        "       [ 0.88812927,  0.11187073],\n",
        "       [ 0.06039998,  0.93960002],\n",
        "       [ 0.83162458,  0.16837542],\n",
        "       [ 0.11807657,  0.88192343],\n",
        "       [ 0.90431379,  0.09568621],\n",
        "       [ 0.84320031,  0.15679969],\n",
        "       [ 0.83162458,  0.16837542],\n",
        "       [ 0.82508248,  0.17491752],\n",
        "       [ 0.56715196,  0.43284804],\n",
        "       [ 0.85196122,  0.14803878],\n",
        "       [ 0.93795851,  0.06204149],\n",
        "       [ 0.50840703,  0.49159297],\n",
        "       [ 0.92765567,  0.07234433],\n",
        "       [ 0.19783871,  0.80216129],\n",
        "       [ 0.28613634,  0.71386366],\n",
        "       [ 0.66631311,  0.33368689],\n",
        "       [ 0.34347142,  0.65652858],\n",
        "       [ 0.34347142,  0.65652858],\n",
        "       [ 0.72151269,  0.27848731],\n",
        "       [ 0.71438224,  0.28561776],\n",
        "       [ 0.08093624,  0.91906376],\n",
        "       [ 0.68956815,  0.31043185],\n",
        "       [ 0.56715196,  0.43284804],\n",
        "       [ 0.4978512 ,  0.5021488 ],\n",
        "       [ 0.67805089,  0.32194911],\n",
        "       [ 0.05902094,  0.94097906],\n",
        "       [ 0.89331374,  0.10668626],\n",
        "       [ 0.92399807,  0.07600193],\n",
        "       [ 0.88812927,  0.11187073],\n",
        "       [ 0.59192358,  0.40807642],\n",
        "       [ 0.56706446,  0.43293554],\n",
        "       [ 0.80008883,  0.19991117],\n",
        "       [ 0.59309747,  0.40690253],\n",
        "       [ 0.34347142,  0.65652858],\n",
        "       [ 0.82054813,  0.17945187],\n",
        "       [ 0.17957883,  0.82042117],\n",
        "       [ 0.88812927,  0.11187073],\n",
        "       [ 0.20944343,  0.79055657],\n",
        "       [ 0.87123879,  0.12876121],\n",
        "       [ 0.11628619,  0.88371381],\n",
        "       [ 0.87123879,  0.12876121],\n",
        "       [ 0.15399783,  0.84600217],\n",
        "       [ 0.37596655,  0.62403345],\n",
        "       [ 0.88272592,  0.11727408],\n",
        "       [ 0.34347142,  0.65652858],\n",
        "       [ 0.95029965,  0.04970035],\n",
        "       [ 0.79964802,  0.20035198],\n",
        "       [ 0.55282867,  0.44717133],\n",
        "       [ 0.03203721,  0.96796279],\n",
        "       [ 0.89894654,  0.10105346],\n",
        "       [ 0.88812927,  0.11187073],\n",
        "       [ 0.6202444 ,  0.3797556 ],\n",
        "       [ 0.86514351,  0.13485649],\n",
        "       [ 0.86085291,  0.13914709],\n",
        "       [ 0.86514351,  0.13485649],\n",
        "       [ 0.13045164,  0.86954836],\n",
        "       [ 0.15494555,  0.84505445],\n",
        "       [ 0.16839587,  0.83160413],\n",
        "       [ 0.34036713,  0.65963287],\n",
        "       [ 0.70698766,  0.29301234],\n",
        "       [ 0.88812927,  0.11187073],\n",
        "       [ 0.92319347,  0.07680653],\n",
        "       [ 0.64499947,  0.35500053],\n",
        "       [ 0.11628619,  0.88371381],\n",
        "       [ 0.8857379 ,  0.1142621 ],\n",
        "       [ 0.20075925,  0.79924075],\n",
        "       [ 0.4075157 ,  0.5924843 ],\n",
        "       [ 0.06086607,  0.93913393],\n",
        "       [ 0.86514351,  0.13485649],\n",
        "       [ 0.46289798,  0.53710202],\n",
        "       [ 0.88812927,  0.11187073],\n",
        "       [ 0.92584762,  0.07415238],\n",
        "       [ 0.88812927,  0.11187073],\n",
        "       [ 0.88812927,  0.11187073],\n",
        "       [ 0.90761556,  0.09238444],\n",
        "       [ 0.10084274,  0.89915726],\n",
        "       [ 0.87123879,  0.12876121],\n",
        "       [ 0.95308175,  0.04691825],\n",
        "       [ 0.87123879,  0.12876121],\n",
        "       [ 0.18034458,  0.81965542],\n",
        "       [ 0.18608456,  0.81391544],\n",
        "       [ 0.74354239,  0.25645761],\n",
        "       [ 0.88812927,  0.11187073],\n",
        "       [ 0.56715196,  0.43284804],\n",
        "       [ 0.88812927,  0.11187073],\n",
        "       [ 0.34347142,  0.65652858],\n",
        "       [ 0.84538676,  0.15461324],\n",
        "       [ 0.64333626,  0.35666374],\n",
        "       [ 0.88812927,  0.11187073],\n",
        "       [ 0.05374218,  0.94625782],\n",
        "       [ 0.4075157 ,  0.5924843 ],\n",
        "       [ 0.88812927,  0.11187073],\n",
        "       [ 0.13458583,  0.86541417],\n",
        "       [ 0.72270474,  0.27729526],\n",
        "       [ 0.86655109,  0.13344891],\n",
        "       [ 0.79217399,  0.20782601],\n",
        "       [ 0.65436553,  0.34563447],\n",
        "       [ 0.34347142,  0.65652858],\n",
        "       [ 0.76447819,  0.23552181],\n",
        "       [ 0.34347142,  0.65652858],\n",
        "       [ 0.2593255 ,  0.7406745 ],\n",
        "       [ 0.19428827,  0.80571173],\n",
        "       [ 0.93767497,  0.06232503],\n",
        "       [ 0.88812927,  0.11187073],\n",
        "       [ 0.42348137,  0.57651863],\n",
        "       [ 0.88812927,  0.11187073],\n",
        "       [ 0.88812927,  0.11187073],\n",
        "       [ 0.56715196,  0.43284804],\n",
        "       [ 0.43169068,  0.56830932],\n",
        "       [ 0.88812927,  0.11187073],\n",
        "       [ 0.78700678,  0.21299322],\n",
        "       [ 0.93767497,  0.06232503],\n",
        "       [ 0.89828547,  0.10171453],\n",
        "       [ 0.06111014,  0.93888986],\n",
        "       [ 0.93207493,  0.06792507],\n",
        "       [ 0.43475368,  0.56524632],\n",
        "       [ 0.91198646,  0.08801354],\n",
        "       [ 0.92399807,  0.07600193],\n",
        "       [ 0.74354239,  0.25645761],\n",
        "       [ 0.8614733 ,  0.1385267 ],\n",
        "       [ 0.88812927,  0.11187073],\n",
        "       [ 0.34347142,  0.65652858],\n",
        "       [ 0.31574581,  0.68425419],\n",
        "       [ 0.53800006,  0.46199994],\n",
        "       [ 0.71259776,  0.28740224],\n",
        "       [ 0.80432071,  0.19567929],\n",
        "       [ 0.68949185,  0.31050815],\n",
        "       [ 0.85222248,  0.14777752],\n",
        "       [ 0.87709771,  0.12290229],\n",
        "       [ 0.88812927,  0.11187073],\n",
        "       [ 0.52446776,  0.47553224],\n",
        "       [ 0.16839587,  0.83160413],\n",
        "       [ 0.27537992,  0.72462008],\n",
        "       [ 0.80991936,  0.19008064],\n",
        "       [ 0.61738595,  0.38261405],\n",
        "       [ 0.90305066,  0.09694934],\n",
        "       [ 0.76593871,  0.23406129],\n",
        "       [ 0.89828547,  0.10171453],\n",
        "       [ 0.89331374,  0.10668626],\n",
        "       [ 0.70085516,  0.29914484],\n",
        "       [ 0.47435621,  0.52564379],\n",
        "       [ 0.0794828 ,  0.9205172 ],\n",
        "       [ 0.88272592,  0.11727408],\n",
        "       [ 0.12532002,  0.87467998],\n",
        "       [ 0.64333626,  0.35666374],\n",
        "       [ 0.78326702,  0.21673298],\n",
        "       [ 0.64221987,  0.35778013],\n",
        "       [ 0.37710793,  0.62289207],\n",
        "       [ 0.55403029,  0.44596971],\n",
        "       [ 0.88812927,  0.11187073],\n",
        "       [ 0.37361141,  0.62638859],\n",
        "       [ 0.90305066,  0.09694934],\n",
        "       [ 0.43475368,  0.56524632],\n",
        "       [ 0.76332697,  0.23667303],\n",
        "       [ 0.95311401,  0.04688599],\n",
        "       [ 0.68956815,  0.31043185],\n",
        "       [ 0.88812927,  0.11187073],\n",
        "       [ 0.60472578,  0.39527422],\n",
        "       [ 0.92399807,  0.07600193],\n",
        "       [ 0.95169014,  0.04830986],\n",
        "       [ 0.20316278,  0.79683722],\n",
        "       [ 0.91803701,  0.08196299],\n",
        "       [ 0.26487781,  0.73512219],\n",
        "       [ 0.70085516,  0.29914484],\n",
        "       [ 0.5377335 ,  0.4622665 ],\n",
        "       [ 0.67805089,  0.32194911],\n",
        "       [ 0.17528442,  0.82471558],\n",
        "       [ 0.11312785,  0.88687215],\n",
        "       [ 0.68956815,  0.31043185],\n",
        "       [ 0.60472578,  0.39527422],\n",
        "       [ 0.92353751,  0.07646249],\n",
        "       [ 0.19011055,  0.80988945],\n",
        "       [ 0.69060796,  0.30939204],\n",
        "       [ 0.30222707,  0.69777293],\n",
        "       [ 0.88812927,  0.11187073],\n",
        "       [ 0.88812927,  0.11187073],\n",
        "       [ 0.49966522,  0.50033478],\n",
        "       [ 0.98007755,  0.01992245],\n",
        "       [ 0.17117285,  0.82882715],\n",
        "       [ 0.17528442,  0.82471558],\n",
        "       [ 0.90305066,  0.09694934],\n",
        "       [ 0.05109659,  0.94890341],\n",
        "       [ 0.5648743 ,  0.4351257 ],\n",
        "       [ 0.91256715,  0.08743285],\n",
        "       [ 0.33156073,  0.66843927],\n",
        "       [ 0.11312785,  0.88687215],\n",
        "       [ 0.733253  ,  0.266747  ],\n",
        "       [ 0.70237424,  0.29762576],\n",
        "       [ 0.05337437,  0.94662563],\n",
        "       [ 0.67911133,  0.32088867],\n",
        "       [ 0.85939498,  0.14060502],\n",
        "       [ 0.21313775,  0.78686225],\n",
        "       [ 0.10623764,  0.89376236],\n",
        "       [ 0.46160082,  0.53839918],\n",
        "       [ 0.64221987,  0.35778013],\n",
        "       [ 0.74446841,  0.25553159],\n",
        "       [ 0.90848109,  0.09151891],\n",
        "       [ 0.88812927,  0.11187073],\n",
        "       [ 0.89828547,  0.10171453],\n",
        "       [ 0.34347142,  0.65652858],\n",
        "       [ 0.35724681,  0.64275319],\n",
        "       [ 0.74354239,  0.25645761],\n",
        "       [ 0.18141967,  0.81858033],\n",
        "       [ 0.88812927,  0.11187073],\n",
        "       [ 0.92433881,  0.07566119],\n",
        "       [ 0.87123879,  0.12876121],\n",
        "       [ 0.88124824,  0.11875176],\n",
        "       [ 0.34628988,  0.65371012],\n",
        "       [ 0.14937027,  0.85062973],\n",
        "       [ 0.8357496 ,  0.1642504 ],\n",
        "       [ 0.87762086,  0.12237914],\n",
        "       [ 0.96193186,  0.03806814],\n",
        "       [ 0.03576053,  0.96423947],\n",
        "       [ 0.88812927,  0.11187073],\n",
        "       [ 0.16441367,  0.83558633],\n",
        "       [ 0.87709771,  0.12290229],\n",
        "       [ 0.92017147,  0.07982853],\n",
        "       [ 0.05074592,  0.94925408],\n",
        "       [ 0.85374212,  0.14625788],\n",
        "       [ 0.03610872,  0.96389128],\n",
        "       [ 0.27787612,  0.72212388],\n",
        "       [ 0.669002  ,  0.330998  ],\n",
        "       [ 0.62988881,  0.37011119],\n",
        "       [ 0.72415653,  0.27584347],\n",
        "       [ 0.75899175,  0.24100825],\n",
        "       [ 0.34347142,  0.65652858],\n",
        "       [ 0.20276355,  0.79723645],\n",
        "       [ 0.34347142,  0.65652858],\n",
        "       [ 0.09259766,  0.90740234],\n",
        "       [ 0.40576492,  0.59423508],\n",
        "       [ 0.88812927,  0.11187073],\n",
        "       [ 0.0794828 ,  0.9205172 ],\n",
        "       [ 0.94501919,  0.05498081],\n",
        "       [ 0.88812927,  0.11187073],\n",
        "       [ 0.91803701,  0.08196299]])"
       ]
      }
     ],
     "prompt_number": 757
    },
    {
     "cell_type": "code",
     "collapsed": false,
     "input": [],
     "language": "python",
     "metadata": {},
     "outputs": []
    }
   ],
   "metadata": {}
  }
 ]
}