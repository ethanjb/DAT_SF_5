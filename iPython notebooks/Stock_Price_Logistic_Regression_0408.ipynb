{
 "metadata": {
  "name": ""
 },
 "nbformat": 3,
 "nbformat_minor": 0,
 "worksheets": [
  {
   "cells": [
    {
     "cell_type": "code",
     "collapsed": false,
     "input": [
      "%matplotlib inline\n",
      "import matplotlib.pyplot as plt\n",
      "import numpy as np\n",
      "import pandas as pd\n",
      "import sklearn.linear_model as LM\n",
      "from pandas import read_csv\n",
      "from sklearn import datasets as DS\n",
      "from sklearn.neighbors import KNeighborsClassifier\n",
      "from sklearn.cross_validation import train_test_split\n",
      "from sklearn.preprocessing import Imputer"
     ],
     "language": "python",
     "metadata": {},
     "outputs": [],
     "prompt_number": 220
    },
    {
     "cell_type": "code",
     "collapsed": false,
     "input": [
      "tsla_data = pd.io.parsers.read_csv('/Users/ebatraski/Desktop/data_test_tsla_simple.csv', index_col=False)"
     ],
     "language": "python",
     "metadata": {},
     "outputs": [],
     "prompt_number": 221
    },
    {
     "cell_type": "code",
     "collapsed": false,
     "input": [
      "tsla_data.columns"
     ],
     "language": "python",
     "metadata": {},
     "outputs": [
      {
       "metadata": {},
       "output_type": "pyout",
       "prompt_number": 222,
       "text": [
        "Index([u'price_increase', u'date', u'open', u'high', u'low', u'close', u'volume', u'adj_close', u'emafast', u'rsi', u'emaslow', u'macd', u'ma20', u'p_volume', u'ma200'], dtype='object')"
       ]
      }
     ],
     "prompt_number": 222
    },
    {
     "cell_type": "code",
     "collapsed": false,
     "input": [
      "X = tsla_data[['open', 'high', 'low', 'close',\t'volume', 'adj_close', 'emafast', 'rsi', 'emaslow',\t'macd',\t'ma20',\t'p_volume',\t'ma200']].values\n",
      "y = ravel(tsla_data[['price_increase']].values)"
     ],
     "language": "python",
     "metadata": {},
     "outputs": [],
     "prompt_number": 223
    },
    {
     "cell_type": "code",
     "collapsed": false,
     "input": [
      "clf = LM.LogisticRegression(C=11.0, penalty='l1')"
     ],
     "language": "python",
     "metadata": {},
     "outputs": [],
     "prompt_number": 255
    },
    {
     "cell_type": "code",
     "collapsed": false,
     "input": [
      "trained_model = clf.fit(X[:-1], y[:-1])"
     ],
     "language": "python",
     "metadata": {},
     "outputs": [],
     "prompt_number": 256
    },
    {
     "cell_type": "code",
     "collapsed": false,
     "input": [
      "# retrain to find the best penalty value\n",
      "int_max_C = 150\n",
      "int_best_C = 1\n",
      "best_clf = clf\n",
      "float_max_score = 0.0\n",
      "list_crossvalidation_scores = []\n",
      "list_train, list_test = create_train_test_temporal(X,y,0.7)\n",
      "for int_index in range(150):\n",
      "    int_C = int_index + 1\n",
      "    clf = LM.LogisticRegression(C=float(int_C), penalty='l1')\n",
      "    trained_model = clf.fit(list_train[0], list_train[1])\n",
      "    float_score = trained_model.score(list_test[0], list_test[1]) \n",
      "    \n",
      "    # print float_score -  # prints scores for each of the C values\n",
      "    \n",
      "    if float_score > float_max_score:\n",
      "        int_best_C = int_C\n",
      "        float_max_score = float_score\n",
      "        best_clf = clf\n",
      "    list_crossvalidation_scores.append(float_score)\n",
      "\n",
      "print int_best_C, float_max_score \n",
      "    "
     ],
     "language": "python",
     "metadata": {},
     "outputs": [
      {
       "output_type": "stream",
       "stream": "stdout",
       "text": [
        "7 0.806818181818\n"
       ]
      }
     ],
     "prompt_number": 296
    },
    {
     "cell_type": "code",
     "collapsed": false,
     "input": [
      "# testing the accuracy and predictions of the model\n",
      "test_score = best_clf.predict_proba([37.73, 38.65,     36.88,     38.23,     1158300,     38.23,     35.89025478,     53.90098196,     37.52779222,     -1.637537441,     36.971,     44.281809,     106.9151])\n",
      "print test_score"
     ],
     "language": "python",
     "metadata": {},
     "outputs": [
      {
       "output_type": "stream",
       "stream": "stdout",
       "text": [
        "[[ 0.29046054  0.70953946]]\n"
       ]
      }
     ],
     "prompt_number": 297
    },
    {
     "cell_type": "code",
     "collapsed": false,
     "input": [
      "def create_train_test_temporal(np_data_features, np_data_labels, float_train_ratio):\n",
      "    int_data_points = len(np_data_labels)\n",
      "    int_last_index = int(float(int_data_points)*float_train_ratio)\n",
      "    return [np_data_features[:int_last_index], np_data_labels[:int_last_index]],[np_data_features[int_last_index:-1], np_data_labels[int_last_index:-1]]"
     ],
     "language": "python",
     "metadata": {},
     "outputs": [],
     "prompt_number": 291
    },
    {
     "cell_type": "code",
     "collapsed": false,
     "input": [
      "list_train, list_test = create_train_test_temporal(X,y,0.7)"
     ],
     "language": "python",
     "metadata": {},
     "outputs": [],
     "prompt_number": 292
    },
    {
     "cell_type": "code",
     "collapsed": false,
     "input": [],
     "language": "python",
     "metadata": {},
     "outputs": [
      {
       "metadata": {},
       "output_type": "pyout",
       "prompt_number": 298,
       "text": [
        "array([[   38.4     ,    38.42    ,    37.59    , ...,    37.0945  ,\n",
        "           42.57072 ,   106.9151  ],\n",
        "       [   38.      ,    38.65    ,    37.68    , ...,    37.0945  ,\n",
        "           49.957926,   106.9151  ],\n",
        "       [   38.18    ,    39.39    ,    37.9     , ...,    37.0945  ,\n",
        "           74.156644,   106.9151  ],\n",
        "       ..., \n",
        "       [  230.3     ,   235.73    ,   222.      , ...,   227.887   ,\n",
        "         2459.4521  ,   165.30565 ],\n",
        "       [  226.01    ,   228.27    ,   211.25    , ...,   226.188   ,\n",
        "         2402.889283,   165.8434  ],\n",
        "       [  205.81    ,   216.2     ,   203.51    , ...,   224.622   ,\n",
        "         2040.9592  ,   166.37775 ]])"
       ]
      }
     ],
     "prompt_number": 298
    },
    {
     "cell_type": "code",
     "collapsed": false,
     "input": [],
     "language": "python",
     "metadata": {},
     "outputs": []
    }
   ],
   "metadata": {}
  }
 ]
}