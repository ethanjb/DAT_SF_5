{
 "metadata": {
  "name": ""
 },
 "nbformat": 3,
 "nbformat_minor": 0,
 "worksheets": [
  {
   "cells": [
    {
     "cell_type": "code",
     "collapsed": false,
     "input": [
      "%matplotlib inline\n",
      "import matplotlib.pyplot as plt\n",
      "import numpy as np\n",
      "import pandas as pd\n",
      "import sklearn.linear_model as LM\n",
      "from pandas import read_csv\n",
      "from sklearn import datasets as DS\n",
      "from sklearn.neighbors import KNeighborsClassifier\n",
      "from sklearn.cross_validation import train_test_split\n",
      "from sklearn.preprocessing import Imputer"
     ],
     "language": "python",
     "metadata": {},
     "outputs": [],
     "prompt_number": 1022
    },
    {
     "cell_type": "code",
     "collapsed": false,
     "input": [
      "data = pd.io.parsers.read_csv('/Users/ebatraski/Desktop/MSFT_data_0415-chaikin-MA.csv', index_col=False)"
     ],
     "language": "python",
     "metadata": {},
     "outputs": [],
     "prompt_number": 1023
    },
    {
     "cell_type": "code",
     "collapsed": false,
     "input": [
      "data.columns"
     ],
     "language": "python",
     "metadata": {},
     "outputs": [
      {
       "metadata": {},
       "output_type": "pyout",
       "prompt_number": 1024,
       "text": [
        "Index([u'next_day_price_increase', u'chaikin', u'price_increase', u'date', u'open', u'high', u'low', u'close', u'volume', u'adj_close', u'ma50', u'emafast', u'macd', u'ma20', u'rsi', u'ma40', u'p_volume', u'emaslow', u'ma32'], dtype='object')"
       ]
      }
     ],
     "prompt_number": 1024
    },
    {
     "cell_type": "code",
     "collapsed": false,
     "input": [
      "X = data[['chaikin', u'price_increase', u'open', u'high', u'low', u'close', u'volume', u'adj_close', u'ma50', u'emafast', u'macd', u'ma20', u'rsi', u'ma40', u'p_volume', u'emaslow', u'ma32']].values\n",
      "y = ravel(data[['next_day_price_increase']].values)"
     ],
     "language": "python",
     "metadata": {},
     "outputs": [],
     "prompt_number": 1025
    },
    {
     "cell_type": "code",
     "collapsed": false,
     "input": [
      "clf = LM.LogisticRegression(C=1.0, penalty='l1')"
     ],
     "language": "python",
     "metadata": {},
     "outputs": [],
     "prompt_number": 1026
    },
    {
     "cell_type": "code",
     "collapsed": false,
     "input": [
      "trained_model = clf.fit(X[:-1], y[:-1])"
     ],
     "language": "python",
     "metadata": {},
     "outputs": [],
     "prompt_number": 1027
    },
    {
     "cell_type": "code",
     "collapsed": false,
     "input": [
      "# retrain to find the best penalty value\n",
      "int_max_C = 150\n",
      "int_best_C = 1\n",
      "best_clf = clf\n",
      "float_max_score = 0.0\n",
      "list_crossvalidation_scores = []\n",
      "list_train, list_test = create_train_test_temporal(X,y,0.7)\n",
      "for int_index in range(150):\n",
      "    int_C = int_index + 1\n",
      "    clf = LM.LogisticRegression(C=float(int_C), penalty='l1')\n",
      "    trained_model = clf.fit(list_train[0], list_train[1])\n",
      "    float_score = trained_model.score(list_test[0], list_test[1]) \n",
      "    \n",
      "    # print float_score -  # prints scores for each of the C values\n",
      "    \n",
      "    if float_score > float_max_score:\n",
      "        int_best_C = int_C\n",
      "        float_max_score = float_score\n",
      "        best_clf = clf\n",
      "    list_crossvalidation_scores.append(float_score)\n",
      "\n",
      "print int_best_C, float_max_score \n",
      "    "
     ],
     "language": "python",
     "metadata": {},
     "outputs": [
      {
       "output_type": "stream",
       "stream": "stdout",
       "text": [
        "119 0.488294314381\n"
       ]
      }
     ],
     "prompt_number": 1028
    },
    {
     "cell_type": "code",
     "collapsed": false,
     "input": [
      "trained_model.predict_proba(X[0:10])"
     ],
     "language": "python",
     "metadata": {},
     "outputs": [
      {
       "metadata": {},
       "output_type": "pyout",
       "prompt_number": 1029,
       "text": [
        "array([[ 0.61494095,  0.38505905],\n",
        "       [ 0.63262525,  0.36737475],\n",
        "       [ 0.60543388,  0.39456612],\n",
        "       [ 0.61825269,  0.38174731],\n",
        "       [ 0.58893265,  0.41106735],\n",
        "       [ 0.65782172,  0.34217828],\n",
        "       [ 0.62744301,  0.37255699],\n",
        "       [ 0.73694002,  0.26305998],\n",
        "       [ 0.7869508 ,  0.2130492 ],\n",
        "       [ 0.6788627 ,  0.3211373 ]])"
       ]
      }
     ],
     "prompt_number": 1029
    },
    {
     "cell_type": "code",
     "collapsed": false,
     "input": [
      "# testing the accuracy and predictions of the model - 4/9\n",
      "test_score = best_clf.predict_proba(X[0:10])\n",
      "print test_score"
     ],
     "language": "python",
     "metadata": {},
     "outputs": [
      {
       "output_type": "stream",
       "stream": "stdout",
       "text": [
        "[[ 0.63180446  0.36819554]\n",
        " [ 0.64807825  0.35192175]\n",
        " [ 0.61759941  0.38240059]\n",
        " [ 0.63083325  0.36916675]\n",
        " [ 0.59738448  0.40261552]\n",
        " [ 0.67196669  0.32803331]\n",
        " [ 0.63650044  0.36349956]\n",
        " [ 0.75094257  0.24905743]\n",
        " [ 0.80060245  0.19939755]\n",
        " [ 0.68902306  0.31097694]]\n"
       ]
      }
     ],
     "prompt_number": 1030
    },
    {
     "cell_type": "code",
     "collapsed": false,
     "input": [
      "# function to generate train/test split\n",
      "def create_train_test_temporal(np_data_features, np_data_labels, float_train_ratio):\n",
      "    int_data_points = len(np_data_labels)\n",
      "    int_last_index = int(float(int_data_points)*float_train_ratio)\n",
      "    return [np_data_features[:int_last_index], np_data_labels[:int_last_index]],[np_data_features[int_last_index:-1], np_data_labels[int_last_index:-1]]"
     ],
     "language": "python",
     "metadata": {},
     "outputs": [],
     "prompt_number": 1031
    },
    {
     "cell_type": "code",
     "collapsed": false,
     "input": [
      "list_train, list_test = create_train_test_temporal(X,y,0.75)"
     ],
     "language": "python",
     "metadata": {},
     "outputs": [],
     "prompt_number": 1038
    },
    {
     "cell_type": "heading",
     "level": 4,
     "metadata": {},
     "source": [
      "Using best clf fit"
     ]
    },
    {
     "cell_type": "code",
     "collapsed": false,
     "input": [
      "from sklearn.utils import shuffle\n",
      "from sklearn.metrics import roc_curve, auc\n",
      "import pylab as pl\n",
      "probas_ = best_clf.fit(list_train[0],list_train[1]).predict_proba(list_test[0])\n",
      "probas_nontest = best_clf.fit(X,y).predict_proba(X)\n",
      "probas_trained_model = trained_model.fit(list_train[0],list_train[1]).predict_proba(list_test[0])"
     ],
     "language": "python",
     "metadata": {},
     "outputs": [],
     "prompt_number": 1039
    },
    {
     "cell_type": "code",
     "collapsed": false,
     "input": [
      "# Compute ROC curve and area the curve with BEST CLF\n",
      "fpr, tpr, thresholds = roc_curve(list_test[1], probas_[:, -1])\n",
      "roc_auc = auc(fpr, tpr)\n",
      "print \"Area under the ROC curve : %f\" % roc_auc\n",
      "\n",
      "# Plot ROC curve\n",
      "pl.clf()\n",
      "pl.plot(fpr, tpr, label='ROC curve (area = %0.2f)' % roc_auc)\n",
      "pl.plot([0, 1], [0, 1], 'k--')\n",
      "pl.xlim([0.0, 1.0])\n",
      "pl.ylim([0.0, 1.0])\n",
      "pl.xlabel('False Positive Rate')\n",
      "pl.ylabel('True Positive Rate')\n",
      "pl.title('Receiver operating characteristic curve')\n",
      "pl.legend(loc=\"lower right\")\n",
      "pl.show()"
     ],
     "language": "python",
     "metadata": {},
     "outputs": [
      {
       "output_type": "stream",
       "stream": "stdout",
       "text": [
        "Area under the ROC curve : 0.630996\n"
       ]
      },
      {
       "metadata": {},
       "output_type": "display_data",
       "png": "[encoded data removed]",
       "text": [
        "<matplotlib.figure.Figure at 0x106c588d0>"
       ]
      }
     ],
     "prompt_number": 1040
    },
    {
     "cell_type": "code",
     "collapsed": false,
     "input": [
      "# Compute ROC curve and area the curve with TRAINED MODEL\n",
      "fpr, tpr, thresholds = roc_curve(list_test[1], probas_trained_model[:, -1])\n",
      "roc_auc = auc(fpr, tpr)\n",
      "print \"Area under the ROC curve : %f\" % roc_auc\n",
      "\n",
      "# Plot ROC curve\n",
      "pl.clf()\n",
      "pl.plot(fpr, tpr, label='ROC curve (area = %0.2f)' % roc_auc)\n",
      "pl.plot([0, 1], [0, 1], 'k--')\n",
      "pl.xlim([0.0, 1.0])\n",
      "pl.ylim([0.0, 1.0])\n",
      "pl.xlabel('False Positive Rate')\n",
      "pl.ylabel('True Positive Rate')\n",
      "pl.title('Receiver operating characteristic curve')\n",
      "pl.legend(loc=\"lower right\")\n",
      "pl.show()"
     ],
     "language": "python",
     "metadata": {},
     "outputs": [
      {
       "output_type": "stream",
       "stream": "stdout",
       "text": [
        "Area under the ROC curve : 0.630023\n"
       ]
      },
      {
       "metadata": {},
       "output_type": "display_data",
       "png": "[encoded data removed]",
       "text": [
        "<matplotlib.figure.Figure at 0x10ad076d0>"
       ]
      }
     ],
     "prompt_number": 1041
    },
    {
     "cell_type": "code",
     "collapsed": false,
     "input": [
      "from sklearn.metrics import precision_recall_curve\n",
      "\n",
      "precision, recall, thresholds = precision_recall_curve(list_test[1], probas_[:, 1])\n",
      "area = auc(recall, precision)\n",
      "print \"Area Under Curve: %0.2f\" % area\n",
      "\n",
      "pl.clf()\n",
      "pl.plot(recall, precision, label='Precision-Recall curve')\n",
      "pl.xlabel('Recall')\n",
      "pl.ylabel('Precision')\n",
      "pl.ylim([0.0, 1.05])\n",
      "pl.xlim([0.0, 1.0])\n",
      "pl.title('Precision-Recall example: AUC=%0.2f' % area)\n",
      "pl.legend(loc=\"lower left\")\n",
      "pl.show()"
     ],
     "language": "python",
     "metadata": {},
     "outputs": [
      {
       "output_type": "stream",
       "stream": "stdout",
       "text": [
        "Area Under Curve: 0.64\n"
       ]
      },
      {
       "metadata": {},
       "output_type": "display_data",
       "png": "[encoded data removed]",
       "text": [
        "<matplotlib.figure.Figure at 0x106c58a90>"
       ]
      }
     ],
     "prompt_number": 1042
    },
    {
     "cell_type": "code",
     "collapsed": false,
     "input": [
      "from sklearn.cross_validation import StratifiedKFold\n",
      "from sklearn import svm\n",
      "\n",
      "# Classification and ROC analysis\n",
      "\n",
      "# Run classifier with crossvalidation and plot ROC curves\n",
      "cv = StratifiedKFold(y, n_folds=4)\n",
      "classifier = best_clf.fit(X,y)\n",
      "\n",
      "mean_tpr = 0.0\n",
      "mean_fpr = np.linspace(0, 1, 100)\n",
      "all_tpr = []\n",
      "\n",
      "for i, (train, test) in enumerate(cv):\n",
      "    probas_1 = classifier.fit(X[train], y[train]).predict_proba(X[test])\n",
      "    \n",
      "    # Compute ROC curve and area the curve\n",
      "    fpr, tpr, thresholds = roc_curve(y[test], probas_1[:, 1])\n",
      "    mean_tpr += interp(mean_fpr, fpr, tpr)\n",
      "    mean_tpr[0] = 0.0\n",
      "    roc_auc = auc(fpr, tpr)\n",
      "    pl.plot(fpr, tpr, lw=1, label='ROC fold %d (area = %0.2f)' % (i, roc_auc))\n",
      "\n",
      "pl.plot([0, 1], [0, 1], '--', color=(0.6, 0.6, 0.6), label='Luck')\n",
      "\n",
      "mean_tpr /= len(cv)\n",
      "mean_tpr[-1] = 1.0\n",
      "mean_auc = auc(mean_fpr, mean_tpr)\n",
      "pl.plot(mean_fpr, mean_tpr, 'k--',\n",
      "        label='Mean ROC (area = %0.2f)' % mean_auc, lw=2)\n",
      "\n",
      "pl.xlim([-0.05, 1.05])\n",
      "pl.ylim([-0.05, 1.05])\n",
      "pl.xlabel('False Positive Rate')\n",
      "pl.ylabel('True Positive Rate')\n",
      "pl.title('Receiver operating characteristic with cross-fold validation')\n",
      "pl.legend(loc=\"lower right\")\n",
      "pl.show()"
     ],
     "language": "python",
     "metadata": {},
     "outputs": [
      {
       "metadata": {},
       "output_type": "display_data",
       "png": "[encoded data removed]",
       "text": [
        "<matplotlib.figure.Figure at 0x10ad53050>"
       ]
      }
     ],
     "prompt_number": 1016
    },
    {
     "cell_type": "code",
     "collapsed": false,
     "input": [],
     "language": "python",
     "metadata": {},
     "outputs": [],
     "prompt_number": 1016
    },
    {
     "cell_type": "code",
     "collapsed": false,
     "input": [
      "# currently set to 10 folds\n",
      "# cross_validate(X, y, best_clf.fit,10)"
     ],
     "language": "python",
     "metadata": {},
     "outputs": [],
     "prompt_number": 1017
    },
    {
     "cell_type": "code",
     "collapsed": false,
     "input": [
      "# statsmodel APIs\n",
      "import statsmodels.api as sm\n",
      "import statsmodels.formula.api as smf\n",
      "\n",
      "feature_data = X\n",
      "results = sm.Logit(y, feature_data).fit()\n",
      "results.summary()"
     ],
     "language": "python",
     "metadata": {},
     "outputs": [
      {
       "output_type": "stream",
       "stream": "stdout",
       "text": [
        "Warning: Maximum number of iterations has been exceeded.\n",
        "         Current function value: 0.681219\n",
        "         Iterations: 35\n"
       ]
      },
      {
       "html": [
        "<table class=\"simpletable\">\n",
        "<caption>Logit Regression Results</caption>\n",
        "<tr>\n",
        "  <th>Dep. Variable:</th>         <td>y</td>        <th>  No. Observations:  </th>  <td>   998</td> \n",
        "</tr>\n",
        "<tr>\n",
        "  <th>Model:</th>               <td>Logit</td>      <th>  Df Residuals:      </th>  <td>   982</td> \n",
        "</tr>\n",
        "<tr>\n",
        "  <th>Method:</th>               <td>MLE</td>       <th>  Df Model:          </th>  <td>    15</td> \n",
        "</tr>\n",
        "<tr>\n",
        "  <th>Date:</th>          <td>Tue, 15 Apr 2014</td> <th>  Pseudo R-squ.:     </th>  <td>0.01698</td>\n",
        "</tr>\n",
        "<tr>\n",
        "  <th>Time:</th>              <td>17:23:15</td>     <th>  Log-Likelihood:    </th> <td> -679.86</td>\n",
        "</tr>\n",
        "<tr>\n",
        "  <th>converged:</th>           <td>False</td>      <th>  LL-Null:           </th> <td> -691.60</td>\n",
        "</tr>\n",
        "<tr>\n",
        "  <th> </th>                      <td> </td>        <th>  LLR p-value:       </th>  <td>0.07438</td>\n",
        "</tr>\n",
        "</table>\n",
        "<table class=\"simpletable\">\n",
        "<tr>\n",
        "   <td></td>      <th>coef</th>     <th>std err</th>      <th>z</th>      <th>P>|z|</th> <th>[95.0% Conf. Int.]</th> \n",
        "</tr>\n",
        "<tr>\n",
        "  <th>x1</th>  <td>   -0.0068</td> <td>    0.030</td> <td>   -0.224</td> <td> 0.823</td> <td>   -0.066     0.053</td>\n",
        "</tr>\n",
        "<tr>\n",
        "  <th>x2</th>  <td>   -0.2266</td> <td>    0.176</td> <td>   -1.288</td> <td> 0.198</td> <td>   -0.572     0.118</td>\n",
        "</tr>\n",
        "<tr>\n",
        "  <th>x3</th>  <td>   -0.4402</td> <td>    0.417</td> <td>   -1.057</td> <td> 0.291</td> <td>   -1.257     0.376</td>\n",
        "</tr>\n",
        "<tr>\n",
        "  <th>x4</th>  <td>    0.1303</td> <td>    0.454</td> <td>    0.287</td> <td> 0.774</td> <td>   -0.761     1.021</td>\n",
        "</tr>\n",
        "<tr>\n",
        "  <th>x5</th>  <td>    0.2572</td> <td>    0.495</td> <td>    0.520</td> <td> 0.603</td> <td>   -0.712     1.226</td>\n",
        "</tr>\n",
        "<tr>\n",
        "  <th>x6</th>  <td>   -0.5147</td> <td>    0.544</td> <td>   -0.946</td> <td> 0.344</td> <td>   -1.582     0.552</td>\n",
        "</tr>\n",
        "<tr>\n",
        "  <th>x7</th>  <td> 3.525e-08</td> <td> 1.92e-08</td> <td>    1.838</td> <td> 0.066</td> <td>-2.35e-09  7.28e-08</td>\n",
        "</tr>\n",
        "<tr>\n",
        "  <th>x8</th>  <td>    0.3667</td> <td>    0.132</td> <td>    2.768</td> <td> 0.006</td> <td>    0.107     0.626</td>\n",
        "</tr>\n",
        "<tr>\n",
        "  <th>x9</th>  <td>    0.1777</td> <td>    0.366</td> <td>    0.486</td> <td> 0.627</td> <td>   -0.539     0.894</td>\n",
        "</tr>\n",
        "<tr>\n",
        "  <th>x10</th> <td>    0.2033</td> <td> 1.45e+05</td> <td>  1.4e-06</td> <td> 1.000</td> <td>-2.84e+05  2.84e+05</td>\n",
        "</tr>\n",
        "<tr>\n",
        "  <th>x11</th> <td>    0.3540</td> <td> 1.45e+05</td> <td> 2.44e-06</td> <td> 1.000</td> <td>-2.84e+05  2.84e+05</td>\n",
        "</tr>\n",
        "<tr>\n",
        "  <th>x12</th> <td>   -0.5200</td> <td>    0.509</td> <td>   -1.022</td> <td> 0.307</td> <td>   -1.518     0.478</td>\n",
        "</tr>\n",
        "<tr>\n",
        "  <th>x13</th> <td>    0.0230</td> <td>    0.018</td> <td>    1.243</td> <td> 0.214</td> <td>   -0.013     0.059</td>\n",
        "</tr>\n",
        "<tr>\n",
        "  <th>x14</th> <td>    0.0146</td> <td>    0.817</td> <td>    0.018</td> <td> 0.986</td> <td>   -1.586     1.615</td>\n",
        "</tr>\n",
        "<tr>\n",
        "  <th>x15</th> <td>   -0.0014</td> <td>    0.001</td> <td>   -2.105</td> <td> 0.035</td> <td>   -0.003 -9.88e-05</td>\n",
        "</tr>\n",
        "<tr>\n",
        "  <th>x16</th> <td>    0.9686</td> <td> 1.45e+05</td> <td> 6.69e-06</td> <td> 1.000</td> <td>-2.84e+05  2.84e+05</td>\n",
        "</tr>\n",
        "<tr>\n",
        "  <th>x17</th> <td>   -0.6498</td> <td>    0.983</td> <td>   -0.661</td> <td> 0.509</td> <td>   -2.577     1.277</td>\n",
        "</tr>\n",
        "</table>"
       ],
       "metadata": {},
       "output_type": "pyout",
       "prompt_number": 1043,
       "text": [
        "<class 'statsmodels.iolib.summary.Summary'>\n",
        "\"\"\"\n",
        "                           Logit Regression Results                           \n",
        "==============================================================================\n",
        "Dep. Variable:                      y   No. Observations:                  998\n",
        "Model:                          Logit   Df Residuals:                      982\n",
        "Method:                           MLE   Df Model:                           15\n",
        "Date:                Tue, 15 Apr 2014   Pseudo R-squ.:                 0.01698\n",
        "Time:                        17:23:15   Log-Likelihood:                -679.86\n",
        "converged:                      False   LL-Null:                       -691.60\n",
        "                                        LLR p-value:                   0.07438\n",
        "==============================================================================\n",
        "                 coef    std err          z      P>|z|      [95.0% Conf. Int.]\n",
        "------------------------------------------------------------------------------\n",
        "x1            -0.0068      0.030     -0.224      0.823        -0.066     0.053\n",
        "x2            -0.2266      0.176     -1.288      0.198        -0.572     0.118\n",
        "x3            -0.4402      0.417     -1.057      0.291        -1.257     0.376\n",
        "x4             0.1303      0.454      0.287      0.774        -0.761     1.021\n",
        "x5             0.2572      0.495      0.520      0.603        -0.712     1.226\n",
        "x6            -0.5147      0.544     -0.946      0.344        -1.582     0.552\n",
        "x7          3.525e-08   1.92e-08      1.838      0.066     -2.35e-09  7.28e-08\n",
        "x8             0.3667      0.132      2.768      0.006         0.107     0.626\n",
        "x9             0.1777      0.366      0.486      0.627        -0.539     0.894\n",
        "x10            0.2033   1.45e+05    1.4e-06      1.000     -2.84e+05  2.84e+05\n",
        "x11            0.3540   1.45e+05   2.44e-06      1.000     -2.84e+05  2.84e+05\n",
        "x12           -0.5200      0.509     -1.022      0.307        -1.518     0.478\n",
        "x13            0.0230      0.018      1.243      0.214        -0.013     0.059\n",
        "x14            0.0146      0.817      0.018      0.986        -1.586     1.615\n",
        "x15           -0.0014      0.001     -2.105      0.035        -0.003 -9.88e-05\n",
        "x16            0.9686   1.45e+05   6.69e-06      1.000     -2.84e+05  2.84e+05\n",
        "x17           -0.6498      0.983     -0.661      0.509        -2.577     1.277\n",
        "==============================================================================\n",
        "\"\"\""
       ]
      }
     ],
     "prompt_number": 1043
    },
    {
     "cell_type": "code",
     "collapsed": false,
     "input": [
      "X = data[['chaikin', u'price_increase', u'open', u'high', u'low', u'close', u'volume', u'adj_close', u'ma50', u'emafast', u'macd', u'ma20', u'rsi', u'ma40', u'p_volume', u'emaslow', u'ma32']].values"
     ],
     "language": "python",
     "metadata": {},
     "outputs": [
      {
       "metadata": {},
       "output_type": "pyout",
       "prompt_number": 1058,
       "text": [
        "array([  2.28385401e+00,   0.00000000e+00,   3.09500000e+01,\n",
        "         3.12500000e+01,   3.07500000e+01,   3.08500000e+01,\n",
        "         6.87309000e+07,   2.77100000e+01,   2.98152000e+01,\n",
        "         3.08571032e+01,   7.97430207e-01,   3.03795000e+01,\n",
        "         5.93883085e+01,   2.98115000e+01,   2.12034827e+03,\n",
        "         3.00596730e+01,   3.00856250e+01])"
       ]
      }
     ],
     "prompt_number": 1058
    },
    {
     "cell_type": "code",
     "collapsed": false,
     "input": [
      "# X = tsla_data[[\n",
      "X1: 'price_increase', -1.427\n",
      "X2: 'chaikin', \n",
      "X3: 'open', \n",
      "X4:'high', \n",
      "X5: 'low',\n",
      "X6:'close', \n",
      "X7: 'volume', 1.545\n",
      "X8: 'adj_close',.776\n",
      "X9: 'emafast', nanb\n",
      "X10: 'rsi', .761\n",
      "X11: 'emaslow',\tnan\n",
      "X12: 'macd',\tnan\n",
      "X13: 'ma20', .823\n",
      "X14: 'p_volume',  - 1.852\n",
      "X15: 'ma200']].values\n"
     ],
     "language": "python",
     "metadata": {},
     "outputs": [
      {
       "ename": "SyntaxError",
       "evalue": "invalid syntax (<ipython-input-942-55b0c39ace0d>, line 2)",
       "output_type": "pyerr",
       "traceback": [
        "\u001b[0;36m  File \u001b[0;32m\"<ipython-input-942-55b0c39ace0d>\"\u001b[0;36m, line \u001b[0;32m2\u001b[0m\n\u001b[0;31m    X1: 'price_increase', -1.427\u001b[0m\n\u001b[0m      ^\u001b[0m\n\u001b[0;31mSyntaxError\u001b[0m\u001b[0;31m:\u001b[0m invalid syntax\n"
       ]
      }
     ],
     "prompt_number": 942
    },
    {
     "cell_type": "code",
     "collapsed": false,
     "input": [
      "coef_l1_LR = best_clf.coef_.ravel()"
     ],
     "language": "python",
     "metadata": {},
     "outputs": [],
     "prompt_number": 943
    },
    {
     "cell_type": "code",
     "collapsed": false,
     "input": [
      "coef_l1_LR"
     ],
     "language": "python",
     "metadata": {},
     "outputs": [
      {
       "metadata": {},
       "output_type": "pyout",
       "prompt_number": 944,
       "text": [
        "array([  1.10596078e-03,  -2.10446345e-01,   2.78646267e-03,\n",
        "        -1.80752777e-03,  -7.08825191e-04,  -6.46005148e-03,\n",
        "         4.53610973e-09,  -1.23866614e-03,   5.50386528e-03,\n",
        "         2.20138286e-03,  -5.60164097e-03,   6.57898860e-04,\n",
        "        -1.67944033e-02,  -1.31787036e-03,  -1.68546975e-04])"
       ]
      }
     ],
     "prompt_number": 944
    },
    {
     "cell_type": "code",
     "collapsed": false,
     "input": [
      "best_clf.get_params"
     ],
     "language": "python",
     "metadata": {},
     "outputs": [
      {
       "metadata": {},
       "output_type": "pyout",
       "prompt_number": 945,
       "text": [
        "<bound method LogisticRegression.get_params of LogisticRegression(C=26.0, class_weight=None, dual=False, fit_intercept=True,\n",
        "          intercept_scaling=1, penalty='l1', random_state=None, tol=0.0001)>"
       ]
      }
     ],
     "prompt_number": 945
    },
    {
     "cell_type": "code",
     "collapsed": false,
     "input": [
      "best_clf.predict_proba(X[1:30])"
     ],
     "language": "python",
     "metadata": {},
     "outputs": [
      {
       "metadata": {},
       "output_type": "pyout",
       "prompt_number": 946,
       "text": [
        "array([[ 0.52397313,  0.47602687],\n",
        "       [ 0.54149217,  0.45850783],\n",
        "       [ 0.45399102,  0.54600898],\n",
        "       [ 0.53318945,  0.46681055],\n",
        "       [ 0.45119164,  0.54880836],\n",
        "       [ 0.43629683,  0.56370317],\n",
        "       [ 0.39124407,  0.60875593],\n",
        "       [ 0.38981089,  0.61018911],\n",
        "       [ 0.48042224,  0.51957776],\n",
        "       [ 0.44764887,  0.55235113],\n",
        "       [ 0.51380808,  0.48619192],\n",
        "       [ 0.45504501,  0.54495499],\n",
        "       [ 0.44047065,  0.55952935],\n",
        "       [ 0.44047633,  0.55952367],\n",
        "       [ 0.43425531,  0.56574469],\n",
        "       [ 0.46434671,  0.53565329],\n",
        "       [ 0.38611966,  0.61388034],\n",
        "       [ 0.44574113,  0.55425887],\n",
        "       [ 0.41926651,  0.58073349],\n",
        "       [ 0.39803528,  0.60196472],\n",
        "       [ 0.46782588,  0.53217412],\n",
        "       [ 0.48992858,  0.51007142],\n",
        "       [ 0.43184223,  0.56815777],\n",
        "       [ 0.42466791,  0.57533209],\n",
        "       [ 0.49028964,  0.50971036],\n",
        "       [ 0.49685134,  0.50314866],\n",
        "       [ 0.4038503 ,  0.5961497 ],\n",
        "       [ 0.41877774,  0.58122226],\n",
        "       [ 0.46519197,  0.53480803]])"
       ]
      }
     ],
     "prompt_number": 946
    },
    {
     "cell_type": "code",
     "collapsed": false,
     "input": [
      "trained_model.predict_proba(X[1:30])"
     ],
     "language": "python",
     "metadata": {},
     "outputs": [
      {
       "metadata": {},
       "output_type": "pyout",
       "prompt_number": 947,
       "text": [
        "array([[ 0.56526825,  0.43473175],\n",
        "       [ 0.58368415,  0.41631585],\n",
        "       [ 0.5371236 ,  0.4628764 ],\n",
        "       [ 0.56819652,  0.43180348],\n",
        "       [ 0.51753619,  0.48246381],\n",
        "       [ 0.4962475 ,  0.5037525 ],\n",
        "       [ 0.46500306,  0.53499694],\n",
        "       [ 0.4409422 ,  0.5590578 ],\n",
        "       [ 0.5306423 ,  0.4693577 ],\n",
        "       [ 0.49034865,  0.50965135],\n",
        "       [ 0.53565166,  0.46434834],\n",
        "       [ 0.48986939,  0.51013061],\n",
        "       [ 0.47459753,  0.52540247],\n",
        "       [ 0.46917001,  0.53082999],\n",
        "       [ 0.45784889,  0.54215111],\n",
        "       [ 0.48853486,  0.51146514],\n",
        "       [ 0.41053232,  0.58946768],\n",
        "       [ 0.44749067,  0.55250933],\n",
        "       [ 0.40867049,  0.59132951],\n",
        "       [ 0.40066834,  0.59933166],\n",
        "       [ 0.43874761,  0.56125239],\n",
        "       [ 0.47096598,  0.52903402],\n",
        "       [ 0.43202855,  0.56797145],\n",
        "       [ 0.41753087,  0.58246913],\n",
        "       [ 0.46656904,  0.53343096],\n",
        "       [ 0.47140334,  0.52859666],\n",
        "       [ 0.40586186,  0.59413814],\n",
        "       [ 0.40367572,  0.59632428],\n",
        "       [ 0.43397742,  0.56602258]])"
       ]
      }
     ],
     "prompt_number": 947
    },
    {
     "cell_type": "code",
     "collapsed": false,
     "input": [
      "prediction_test_proba = best_clf.predict_proba(X) # we get the probabilities of prediction\n",
      "\n",
      "# we now apply a threshold to decide what probability of survuval is assumed to guarantee survival\n",
      "float_prediction_test_threshold = 0.505\n",
      "\n",
      "# we generate a dictionary with PassengerId as keym and (survival_proba, survival) as values\n",
      "dic_ID_prediction = {}\n",
      "\n",
      "for int_index in range(len(data)): #creating an index using the length of data_test\n",
      "    Date = data.loc[int_index][3] # going row by row starting with row 0 and getting date\n",
      "    Prediction_Test = [prediction_test_proba[int_index][1]] # append the probability of going up\n",
      "    if prediction_test_proba[int_index][1] > float_prediction_test_threshold: # if probability of going up is greater than the threshold\n",
      "        Prediction_Test.append(1) # append 1\n",
      "    else:\n",
      "        Prediction_Test.append(0) # otherwise append 0\n",
      "    \n",
      "    dic_ID_prediction[Date] = Prediction_Test # entry in the dictionary that corresponds to Date is the probability of going up & the prediction\n"
     ],
     "language": "python",
     "metadata": {},
     "outputs": [],
     "prompt_number": 1019
    },
    {
     "cell_type": "code",
     "collapsed": false,
     "input": [
      "import csv\n",
      "\n",
      "str_path = '/Users/ebatraski/Desktop/MSFT_data_0415-chaikin-MA.csv_'+str(float_prediction_test_threshold)+'_results.csv'   # absolute path to the file with the results\n",
      "                                                                               # we added the value of the threshold for clarity\n",
      "file_out_data = open(str_path, 'wb')\n",
      "data_writer = csv.writer(file_out_data)\n",
      "\n",
      "header_row = ['Prediction Probability','Prediction', 'next_day_price_increase', u'chaikin', u'price_increase', u'date', u'open', u'high', u'low', u'close', u'volume', u'adj_close', u'ma50', u'emafast', u'rsi', u'emaslow', u'macd', u'ma20', u'p_volume']\n",
      "data_writer.writerow(header_row)\n",
      "\n",
      "for int_index in range(len(data)):\n",
      "    Date = data.loc[int_index][3] # going row by row starting with row 0 and getting passenger iD\n",
      "    Prediction_Test = dic_ID_prediction[Date]\n",
      "    out_row = Prediction_Test + list(data.loc[int_index])\n",
      "    data_writer.writerow(out_row)\n",
      "\n",
      "file_out_data.close()    "
     ],
     "language": "python",
     "metadata": {},
     "outputs": [],
     "prompt_number": 1020
    },
    {
     "cell_type": "code",
     "collapsed": false,
     "input": [
      "data.columns"
     ],
     "language": "python",
     "metadata": {},
     "outputs": [
      {
       "metadata": {},
       "output_type": "pyout",
       "prompt_number": 1021,
       "text": [
        "Index([u'next_day_price_increase', u'chaikin', u'price_increase', u'date', u'open', u'high', u'low', u'close', u'volume', u'adj_close', u'ma50', u'emafast', u'macd', u'ma20', u'rsi', u'ma40', u'p_volume', u'emaslow', u'ma32'], dtype='object')"
       ]
      }
     ],
     "prompt_number": 1021
    },
    {
     "cell_type": "code",
     "collapsed": false,
     "input": [
      "data.loc[3]"
     ],
     "language": "python",
     "metadata": {},
     "outputs": [
      {
       "metadata": {},
       "output_type": "pyout",
       "prompt_number": 763,
       "text": [
        "next_day_price_increase             1\n",
        "chaikin                      2.935077\n",
        "price_increase                      0\n",
        "date                       2010-04-30\n",
        "open                            31.07\n",
        "high                            31.08\n",
        "low                             30.52\n",
        "close                           30.54\n",
        "volume                       63214800\n",
        "adj_close                       27.43\n",
        "ma50                          26.7802\n",
        "emafast                      27.85746\n",
        "rsi                          51.81484\n",
        "emaslow                      27.10959\n",
        "macd                        0.7478643\n",
        "ma20                          27.4765\n",
        "p_volume                      1930.58\n",
        "Name: 3, dtype: object"
       ]
      }
     ],
     "prompt_number": 763
    },
    {
     "cell_type": "code",
     "collapsed": false,
     "input": [],
     "language": "python",
     "metadata": {},
     "outputs": []
    }
   ],
   "metadata": {}
  }
 ]
}