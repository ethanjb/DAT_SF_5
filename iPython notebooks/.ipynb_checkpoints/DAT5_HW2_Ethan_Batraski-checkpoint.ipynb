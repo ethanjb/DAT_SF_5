{
 "metadata": {
  "name": ""
 },
 "nbformat": 3,
 "nbformat_minor": 0,
 "worksheets": [
  {
   "cells": [
    {
     "cell_type": "code",
     "collapsed": false,
     "input": [
      "%matplotlib inline\n",
      "import matplotlib.pyplot as plt\n",
      "import numpy as np\n",
      "import pandas as pd\n",
      "import sklearn\n",
      "from pandas import read_csv\n",
      "from sklearn import neighbors, datasets\n",
      "from sklearn.neighbors import KNeighborsClassifier\n",
      "from sklearn.cross_validation import train_test_split\n",
      "from sklearn.preprocessing import Imputer"
     ],
     "language": "python",
     "metadata": {},
     "outputs": [],
     "prompt_number": 635
    },
    {
     "cell_type": "heading",
     "level": 3,
     "metadata": {},
     "source": [
      "1. Implement KNN classification, using the sklearn package"
     ]
    },
    {
     "cell_type": "code",
     "collapsed": false,
     "input": [
      "df = pd.io.parsers.read_csv('data/iris_data.csv', header=None, names=['SepalLength', 'SepalWidth', 'PetalLength', 'PetalWidth', 'Name'], index_col=False)"
     ],
     "language": "python",
     "metadata": {},
     "outputs": [],
     "prompt_number": 636
    },
    {
     "cell_type": "code",
     "collapsed": false,
     "input": [
      "df.Name.unique()"
     ],
     "language": "python",
     "metadata": {},
     "outputs": [
      {
       "metadata": {},
       "output_type": "pyout",
       "prompt_number": 637,
       "text": [
        "array(['Iris-setosa', 'Iris-versicolor', 'Iris-virginica', nan], dtype=object)"
       ]
      }
     ],
     "prompt_number": 637
    },
    {
     "cell_type": "code",
     "collapsed": false,
     "input": [
      "df = df.dropna()"
     ],
     "language": "python",
     "metadata": {},
     "outputs": [],
     "prompt_number": 638
    },
    {
     "cell_type": "code",
     "collapsed": false,
     "input": [
      "mapping = {'Iris-setosa': 0, 'Iris-versicolor': 1, 'Iris-virginica' : 2}"
     ],
     "language": "python",
     "metadata": {},
     "outputs": [],
     "prompt_number": 639
    },
    {
     "cell_type": "code",
     "collapsed": false,
     "input": [
      "df_replaced = df.replace({'Name': mapping})"
     ],
     "language": "python",
     "metadata": {},
     "outputs": [],
     "prompt_number": 640
    },
    {
     "cell_type": "code",
     "collapsed": false,
     "input": [
      "df_replaced .columns"
     ],
     "language": "python",
     "metadata": {},
     "outputs": [
      {
       "metadata": {},
       "output_type": "pyout",
       "prompt_number": 641,
       "text": [
        "Index([u'SepalLength', u'SepalWidth', u'PetalLength', u'PetalWidth', u'Name'], dtype='object')"
       ]
      }
     ],
     "prompt_number": 641
    },
    {
     "cell_type": "code",
     "collapsed": false,
     "input": [
      "X = df_replaced[[u'SepalLength', u'SepalWidth', u'PetalLength', u'PetalWidth']].values\n",
      "y = df_replaced.Name.values"
     ],
     "language": "python",
     "metadata": {},
     "outputs": [],
     "prompt_number": 642
    },
    {
     "cell_type": "code",
     "collapsed": false,
     "input": [
      "X_train, X_test, y_train, y_test = train_test_split(X, y, test_size=0.20, random_state=0)"
     ],
     "language": "python",
     "metadata": {},
     "outputs": [],
     "prompt_number": 643
    },
    {
     "cell_type": "code",
     "collapsed": false,
     "input": [
      "myknn = KNeighborsClassifier(3).fit(X_train,y_train)"
     ],
     "language": "python",
     "metadata": {},
     "outputs": [],
     "prompt_number": 644
    },
    {
     "cell_type": "code",
     "collapsed": false,
     "input": [
      "myknn.score(X_test, y_test)"
     ],
     "language": "python",
     "metadata": {},
     "outputs": [
      {
       "metadata": {},
       "output_type": "pyout",
       "prompt_number": 647,
       "text": [
        "0.96666666666666667"
       ]
      }
     ],
     "prompt_number": 647
    },
    {
     "cell_type": "heading",
     "level": 3,
     "metadata": {},
     "source": [
      "2. Implement cross-validation for your KNN classifier."
     ]
    },
    {
     "cell_type": "code",
     "collapsed": false,
     "input": [
      "from sklearn.cross_validation import KFold\n",
      "\n",
      "# generic cross validation function\n",
      "def cross_validate(X, y, classifier, k_fold):\n",
      "    \n",
      "    #derive a set of (random) training and testing indices\n",
      "    k_fold_indices = KFold(len(X), n_folds=k_fold,\n",
      "                           indices=True, shuffle=True,\n",
      "                           random_state=0)\n",
      "    \n",
      "    k_score_total = 0\n",
      "    # for each training and testing slices run the classifier, and score the results\n",
      "    for train_slice, test_slice in k_fold_indices :\n",
      "        \n",
      "        model = classifier(X[[ train_slice ]],\n",
      "                           y[[ train_slice]])\n",
      "        \n",
      "        k_score = model.score(X[[ test_slice ]],\n",
      "                              y[[ test_slice ]])\n",
      "        \n",
      "        k_score_total += k_score\n",
      "                        \n",
      "            \n",
      "    # return the average accuracy\n",
      "    return k_score_total/k_fold"
     ],
     "language": "python",
     "metadata": {},
     "outputs": [],
     "prompt_number": 650
    },
    {
     "cell_type": "code",
     "collapsed": false,
     "input": [
      "cross_validate(X, y, neighbors.KNeighborsClassifier(19).fit, 19)"
     ],
     "language": "python",
     "metadata": {},
     "outputs": [
      {
       "metadata": {},
       "output_type": "pyout",
       "prompt_number": 657,
       "text": [
        "0.98026315789473684"
       ]
      }
     ],
     "prompt_number": 657
    },
    {
     "cell_type": "heading",
     "level": 3,
     "metadata": {},
     "source": [
      "3. Use your KNN classifier and cross-validation code from (1) and (2) above to determine the optimal value of K (number of nearest neighbors to consult) for this Iris dataset. "
     ]
    },
    {
     "cell_type": "code",
     "collapsed": false,
     "input": [
      "int_max_k = 150\n",
      "int_best_k = 1\n",
      "float_max_score = 0.0\n",
      "list_crossvalidation_scores = []\n",
      "for int_index in range(150):\n",
      "    int_k = int_index + 1\n",
      "    float_score = cross_validate(X, y, neighbors.KNeighborsClassifier(int_k).fit, 19)\n",
      "    if float_score > float_max_score:\n",
      "        int_best_k = int_k\n",
      "        float_max_score = float_score\n",
      "    list_crossvalidation_scores.append(float_score)\n",
      "    \n",
      "               "
     ],
     "language": "python",
     "metadata": {},
     "outputs": [],
     "prompt_number": 658
    },
    {
     "cell_type": "code",
     "collapsed": false,
     "input": [
      "print int_best_k, float_max_score"
     ],
     "language": "python",
     "metadata": {},
     "outputs": [
      {
       "output_type": "stream",
       "stream": "stdout",
       "text": [
        "19 0.980263157895\n"
       ]
      }
     ],
     "prompt_number": 659
    },
    {
     "cell_type": "heading",
     "level": 3,
     "metadata": {},
     "source": [
      "4. Using matplotlib, plot classifier accuracy versus the hyperparameter K for a range of K that you consider interesting. "
     ]
    },
    {
     "cell_type": "code",
     "collapsed": false,
     "input": [
      "plot(list_crossvalidation_scores)"
     ],
     "language": "python",
     "metadata": {},
     "outputs": [
      {
       "metadata": {},
       "output_type": "pyout",
       "prompt_number": 654,
       "text": [
        "[<matplotlib.lines.Line2D at 0x10a19c2d0>]"
       ]
      },
      {
       "metadata": {},
       "output_type": "display_data",
       "png": "[encoded data removed]",
       "text": [
        "<matplotlib.figure.Figure at 0x109e2b250>"
       ]
      }
     ],
     "prompt_number": 654
    },
    {
     "cell_type": "heading",
     "level": 4,
     "metadata": {},
     "source": [
      "It's interesting to see that there is a large drop off at ~65 and ~115 in accuracy. "
     ]
    },
    {
     "cell_type": "heading",
     "level": 3,
     "metadata": {},
     "source": [
      "5. OPTIONAL BONUS QUESTION: Using the value of K obtained in (3) above, vary the number of folds used for cross-validation across an interesting range, e.g. [ 2, 3, 5, 6, 10, 15]. How does classifier accuracy vary with the number of folds used? Do you think there exists an optimal number of folds to use for this particular problem? Why or why not?"
     ]
    },
    {
     "cell_type": "raw",
     "metadata": {},
     "source": [
      "2 folds - k(5) @ .96666\n",
      "5 folds - k(11) @ .966666\n",
      "10 folds - k(14) @ .966666\n",
      "19 folds - k(19) @ .98026 (highest tested)\n",
      "20 folds - k(19) @ .98025\n",
      "21 folds - k(15) @ .97959\n",
      "30 folds - k(19) @ .98\n",
      "\n",
      "The classifer accuracy increases with the number folds until it reaches around 19, after which it seems to be the local maxima and accuracy diminishes. It seems there definitely exists an optimial number of folds to use for this particular problem. \n",
      "\n"
     ]
    },
    {
     "cell_type": "code",
     "collapsed": false,
     "input": [],
     "language": "python",
     "metadata": {},
     "outputs": []
    }
   ],
   "metadata": {}
  }
 ]
}