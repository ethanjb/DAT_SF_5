{
 "metadata": {
  "name": ""
 },
 "nbformat": 3,
 "nbformat_minor": 0,
 "worksheets": [
  {
   "cells": [
    {
     "cell_type": "code",
     "collapsed": false,
     "input": [
      "import urllib2\n",
      "import urllib\n",
      "import numpy as np\n",
      "from datetime import datetime\n",
      "urldata = {}\n",
      " \n",
      "urldata['q'] = ticker = 'YHOO'      # stock symbol\n",
      "urldata['x'] = 'NASDAQ'             # exchange symbol\n",
      "urldata['i'] = '60'                 # interval\n",
      "urldata['p'] = '2d'                 # number of past trading days (max has been 15d)\n",
      "urldata['f'] = 'd,o,h,l,c,v'        # requested data d is time, o is open, c is closing, h is high, l is low, v is volume\n",
      " \n",
      "url_values = urllib.urlencode(urldata)\n",
      "url = 'http://www.google.com/finance/getprices'\n",
      "full_url = url + '?' + url_values\n",
      "req = urllib2.Request(full_url)\n",
      "response = urllib2.urlopen(req).readlines()\n",
      "getdata = response\n",
      "del getdata[0:7]\n",
      "numberoflines = len(getdata)\n",
      "returnMat = np.zeros((numberoflines, 5))\n",
      "timeVector = []\n",
      " \n",
      "index = 0\n",
      "for line in getdata:\n",
      "    line = line.strip('a')\n",
      "    listFromLine = line.split(',')\n",
      "    returnMat[index,:] = listFromLine[1:6]\n",
      "    timeVector.append(int(listFromLine[0]))\n",
      "    index += 1\n",
      " \n",
      "# convert Unix or epoch time to something more familiar\n",
      "for x in timeVector:\n",
      "    if x > 500:\n",
      "        z = x\n",
      "        timeVector[timeVector.index(x)] = datetime.fromtimestamp(x)\n",
      "    else:\n",
      "        y = z+x*60 # multiply by interval\n",
      "        timeVector[timeVector.index(x)] = datetime.fromtimestamp(y)\n",
      " \n",
      "tdata = np.array(timeVector)\n",
      "time = tdata.reshape((len(tdata),1))\n",
      "intradata = np.concatenate((time, returnMat), axis=1) # array of all data with the properly formated times\n"
     ],
     "language": "python",
     "metadata": {},
     "outputs": [],
     "prompt_number": 16
    },
    {
     "cell_type": "code",
     "collapsed": false,
     "input": [
      "intradata"
     ],
     "language": "python",
     "metadata": {},
     "outputs": [
      {
       "metadata": {},
       "output_type": "pyout",
       "prompt_number": 17,
       "text": [
        "array([[datetime.datetime(2014, 4, 4, 6, 30), 35.95, 36.01, 35.94, 36.01,\n",
        "        175066.0],\n",
        "       [datetime.datetime(2014, 4, 4, 6, 31), 36.04, 36.0499, 35.88, 35.95,\n",
        "        68776.0],\n",
        "       [datetime.datetime(2014, 4, 4, 6, 32), 35.93, 36.04, 35.93, 36.04,\n",
        "        70406.0],\n",
        "       ..., \n",
        "       [datetime.datetime(2014, 4, 7, 12, 59), 33.075, 33.08, 33.07, 33.07,\n",
        "        213611.0],\n",
        "       [datetime.datetime(2014, 4, 7, 13, 0), 33.07, 33.13, 33.05, 33.08,\n",
        "        2019346.0],\n",
        "       [datetime.datetime(2014, 4, 7, 13, 1), 33.07, 33.07, 33.07, 33.07,\n",
        "        151.0]], dtype=object)"
       ]
      }
     ],
     "prompt_number": 17
    },
    {
     "cell_type": "code",
     "collapsed": false,
     "input": [],
     "language": "python",
     "metadata": {},
     "outputs": []
    }
   ],
   "metadata": {}
  }
 ]
}