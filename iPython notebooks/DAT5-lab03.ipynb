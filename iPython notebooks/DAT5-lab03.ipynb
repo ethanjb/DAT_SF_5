{
 "metadata": {
  "celltoolbar": "Slideshow",
  "name": ""
 },
 "nbformat": 3,
 "nbformat_minor": 0,
 "worksheets": [
  {
   "cells": [
    {
     "cell_type": "markdown",
     "metadata": {
      "slideshow": {
       "slide_type": "slide"
      }
     },
     "source": [
      "# GA Data Science 5 (DAT5) - Lab3\n",
      "\n",
      "### APIs, JSON\n",
      "\n",
      "Francesco Mosconi\n",
      "Chief Data Officer, [Spire Inc.](spire.io)\n",
      "\n",
      "Thanks to Alessandro Gagliardo for starting NB"
     ]
    },
    {
     "cell_type": "markdown",
     "metadata": {
      "slideshow": {
       "slide_type": "slide"
      }
     },
     "source": [
      "### Last Time:\n",
      "\n",
      "- #### iPython\n",
      "- #### numpy  \n",
      "- #### Pandas\n",
      "\n",
      "#### Questions?"
     ]
    },
    {
     "cell_type": "markdown",
     "metadata": {
      "slideshow": {
       "slide_type": "slide"
      }
     },
     "source": [
      "### Agenda\n",
      "\n",
      "1. JSON\n",
      "2. API "
     ]
    },
    {
     "cell_type": "heading",
     "level": 1,
     "metadata": {
      "slideshow": {
       "slide_type": "slide"
      }
     },
     "source": [
      "1. JSON"
     ]
    },
    {
     "cell_type": "markdown",
     "metadata": {
      "slideshow": {
       "slide_type": "slide"
      }
     },
     "source": [
      "- What's Json? (and why do we care?)"
     ]
    },
    {
     "cell_type": "code",
     "collapsed": false,
     "input": [
      "# load the homework data into a pandas dataset\n",
      "\n",
      "import pandas as pd\n",
      "\n",
      "data = pd.read_csv(\"data/titanic-train.csv\")"
     ],
     "language": "python",
     "metadata": {},
     "outputs": [],
     "prompt_number": 3
    },
    {
     "cell_type": "code",
     "collapsed": false,
     "input": [
      "# assign the first 5 rows to a variable called first\n",
      "\n",
      "first = data.head(5)"
     ],
     "language": "python",
     "metadata": {},
     "outputs": [],
     "prompt_number": 5
    },
    {
     "cell_type": "code",
     "collapsed": false,
     "input": [
      "# use the DataFrame method to_json to transform <first> into a json object\n",
      "\n",
      "first.to_json()"
     ],
     "language": "python",
     "metadata": {},
     "outputs": [
      {
       "metadata": {},
       "output_type": "pyout",
       "prompt_number": 6,
       "text": [
        "'{\"PassengerId\":{\"0\":1,\"1\":2,\"2\":3,\"3\":4,\"4\":5},\"Survived\":{\"0\":0,\"1\":1,\"2\":1,\"3\":1,\"4\":0},\"Pclass\":{\"0\":3,\"1\":1,\"2\":3,\"3\":1,\"4\":3},\"Name\":{\"0\":\"Braund, Mr. Owen Harris\",\"1\":\"Cumings, Mrs. John Bradley (Florence Briggs Thayer)\",\"2\":\"Heikkinen, Miss. Laina\",\"3\":\"Futrelle, Mrs. Jacques Heath (Lily May Peel)\",\"4\":\"Allen, Mr. William Henry\"},\"Sex\":{\"0\":\"male\",\"1\":\"female\",\"2\":\"female\",\"3\":\"female\",\"4\":\"male\"},\"Age\":{\"0\":22.0,\"1\":38.0,\"2\":26.0,\"3\":35.0,\"4\":35.0},\"SibSp\":{\"0\":1,\"1\":1,\"2\":0,\"3\":1,\"4\":0},\"Parch\":{\"0\":0,\"1\":0,\"2\":0,\"3\":0,\"4\":0},\"Ticket\":{\"0\":\"A\\\\/5 21171\",\"1\":\"PC 17599\",\"2\":\"STON\\\\/O2. 3101282\",\"3\":\"113803\",\"4\":\"373450\"},\"Fare\":{\"0\":7.25,\"1\":71.2833,\"2\":7.925,\"3\":53.1,\"4\":8.05},\"Cabin\":{\"0\":null,\"1\":\"C85\",\"2\":null,\"3\":\"C123\",\"4\":null},\"Embarked\":{\"0\":\"S\",\"1\":\"C\",\"2\":\"S\",\"3\":\"S\",\"4\":\"S\"}}'"
       ]
      }
     ],
     "prompt_number": 6
    },
    {
     "cell_type": "code",
     "collapsed": false,
     "input": [
      "# explore the different options in the to_json method\n",
      "\n",
      "first.to_json(orient = 'records')"
     ],
     "language": "python",
     "metadata": {},
     "outputs": [
      {
       "metadata": {},
       "output_type": "pyout",
       "prompt_number": 7,
       "text": [
        "'[{\"PassengerId\":1,\"Survived\":0,\"Pclass\":3,\"Name\":\"Braund, Mr. Owen Harris\",\"Sex\":\"male\",\"Age\":22.0,\"SibSp\":1,\"Parch\":0,\"Ticket\":\"A\\\\/5 21171\",\"Fare\":7.25,\"Cabin\":null,\"Embarked\":\"S\"},{\"PassengerId\":2,\"Survived\":1,\"Pclass\":1,\"Name\":\"Cumings, Mrs. John Bradley (Florence Briggs Thayer)\",\"Sex\":\"female\",\"Age\":38.0,\"SibSp\":1,\"Parch\":0,\"Ticket\":\"PC 17599\",\"Fare\":71.2833,\"Cabin\":\"C85\",\"Embarked\":\"C\"},{\"PassengerId\":3,\"Survived\":1,\"Pclass\":3,\"Name\":\"Heikkinen, Miss. Laina\",\"Sex\":\"female\",\"Age\":26.0,\"SibSp\":0,\"Parch\":0,\"Ticket\":\"STON\\\\/O2. 3101282\",\"Fare\":7.925,\"Cabin\":null,\"Embarked\":\"S\"},{\"PassengerId\":4,\"Survived\":1,\"Pclass\":1,\"Name\":\"Futrelle, Mrs. Jacques Heath (Lily May Peel)\",\"Sex\":\"female\",\"Age\":35.0,\"SibSp\":1,\"Parch\":0,\"Ticket\":\"113803\",\"Fare\":53.1,\"Cabin\":\"C123\",\"Embarked\":\"S\"},{\"PassengerId\":5,\"Survived\":0,\"Pclass\":3,\"Name\":\"Allen, Mr. William Henry\",\"Sex\":\"male\",\"Age\":35.0,\"SibSp\":0,\"Parch\":0,\"Ticket\":\"373450\",\"Fare\":8.05,\"Cabin\":null,\"Embarked\":\"S\"}]'"
       ]
      }
     ],
     "prompt_number": 7
    },
    {
     "cell_type": "code",
     "collapsed": false,
     "input": [
      "# discussion"
     ],
     "language": "python",
     "metadata": {},
     "outputs": []
    },
    {
     "cell_type": "markdown",
     "metadata": {},
     "source": [
      "# 2. APIs"
     ]
    },
    {
     "cell_type": "markdown",
     "metadata": {},
     "source": [
      "- What's an API? (and why do we care?)"
     ]
    },
    {
     "cell_type": "markdown",
     "metadata": {},
     "source": [
      "## 2.a A simple web request"
     ]
    },
    {
     "cell_type": "code",
     "collapsed": false,
     "input": [
      "import urllib\n",
      "\n",
      "def get_historical_prices(symbol, start_date, end_date):\n",
      "    \"\"\"\n",
      "    Get historical prices for the given ticker symbol.\n",
      "    Date format is 'YYYYMMDD'\n",
      "    \n",
      "    Returns a json list.\n",
      "    \"\"\"\n",
      "    url = 'http://ichart.yahoo.com/table.csv?s=%s&' % symbol + \\\n",
      "          'd=%s&' % str(int(end_date[4:6]) - 1) + \\\n",
      "          'e=%s&' % str(int(end_date[6:8])) + \\\n",
      "          'f=%s&' % str(int(end_date[0:4])) + \\\n",
      "          'g=d&' + \\\n",
      "          'a=%s&' % str(int(start_date[4:6]) - 1) + \\\n",
      "          'b=%s&' % str(int(start_date[6:8])) + \\\n",
      "          'c=%s&' % str(int(start_date[0:4])) + \\\n",
      "          'ignore=.csv'\n",
      "    days = urllib.urlopen(url).readlines()\n",
      "    data = [day[:-2].split(',') for day in days]\n",
      "    return data"
     ],
     "language": "python",
     "metadata": {},
     "outputs": [],
     "prompt_number": 29
    },
    {
     "cell_type": "code",
     "collapsed": false,
     "input": [
      "get_historical_prices('GOOG', '20140101', '20140106')"
     ],
     "language": "python",
     "metadata": {},
     "outputs": [
      {
       "metadata": {},
       "output_type": "pyout",
       "prompt_number": 30,
       "text": [
        "[['Date', 'Open', 'High', 'Low', 'Close', 'Volume', 'Adj Clos'],\n",
        " ['2014-01-06',\n",
        "  '1113.01',\n",
        "  '1118.86',\n",
        "  '1106.44',\n",
        "  '1117.32',\n",
        "  '1769300',\n",
        "  '1117.3'],\n",
        " ['2014-01-03',\n",
        "  '1115.00',\n",
        "  '1116.93',\n",
        "  '1104.93',\n",
        "  '1105.00',\n",
        "  '1666700',\n",
        "  '1105.0'],\n",
        " ['2014-01-02',\n",
        "  '1115.46',\n",
        "  '1117.75',\n",
        "  '1108.26',\n",
        "  '1113.12',\n",
        "  '1821400',\n",
        "  '1113.1']]"
       ]
      }
     ],
     "prompt_number": 30
    },
    {
     "cell_type": "code",
     "collapsed": false,
     "input": [
      "# obtain the prices of Yahoo for the past month and insert them in a Pandas Dataframe\n",
      "\n",
      "prices =get_historical_prices('YHOO', '20140217', '20140317')\n",
      "\n",
      "df = pd.DataFrame(prices[1:], columns= prices[0], dtype=int).set_index('Date')\n",
      "df.head()"
     ],
     "language": "python",
     "metadata": {},
     "outputs": [
      {
       "html": [
        "<div style=\"max-height:1000px;max-width:1500px;overflow:auto;\">\n",
        "<table border=\"1\" class=\"dataframe\">\n",
        "  <thead>\n",
        "    <tr style=\"text-align: right;\">\n",
        "      <th></th>\n",
        "      <th>Open</th>\n",
        "      <th>High</th>\n",
        "      <th>Low</th>\n",
        "      <th>Close</th>\n",
        "      <th>Volume</th>\n",
        "      <th>Adj Clos</th>\n",
        "    </tr>\n",
        "    <tr>\n",
        "      <th>Date</th>\n",
        "      <th></th>\n",
        "      <th></th>\n",
        "      <th></th>\n",
        "      <th></th>\n",
        "      <th></th>\n",
        "      <th></th>\n",
        "    </tr>\n",
        "  </thead>\n",
        "  <tbody>\n",
        "    <tr>\n",
        "      <th>2014-03-17</th>\n",
        "      <td> 39.00</td>\n",
        "      <td> 39.36</td>\n",
        "      <td> 38.61</td>\n",
        "      <td> 39.11</td>\n",
        "      <td> 29627500</td>\n",
        "      <td> 39.1</td>\n",
        "    </tr>\n",
        "    <tr>\n",
        "      <th>2014-03-14</th>\n",
        "      <td> 36.69</td>\n",
        "      <td> 38.19</td>\n",
        "      <td> 36.45</td>\n",
        "      <td> 37.60</td>\n",
        "      <td> 30842700</td>\n",
        "      <td> 37.6</td>\n",
        "    </tr>\n",
        "    <tr>\n",
        "      <th>2014-03-13</th>\n",
        "      <td> 38.05</td>\n",
        "      <td> 38.42</td>\n",
        "      <td> 36.81</td>\n",
        "      <td> 37.23</td>\n",
        "      <td> 21179700</td>\n",
        "      <td> 37.2</td>\n",
        "    </tr>\n",
        "    <tr>\n",
        "      <th>2014-03-12</th>\n",
        "      <td> 37.21</td>\n",
        "      <td> 37.61</td>\n",
        "      <td> 36.48</td>\n",
        "      <td> 37.50</td>\n",
        "      <td> 14794700</td>\n",
        "      <td> 37.5</td>\n",
        "    </tr>\n",
        "    <tr>\n",
        "      <th>2014-03-11</th>\n",
        "      <td> 38.25</td>\n",
        "      <td> 38.30</td>\n",
        "      <td> 37.43</td>\n",
        "      <td> 37.56</td>\n",
        "      <td> 12609200</td>\n",
        "      <td> 37.5</td>\n",
        "    </tr>\n",
        "  </tbody>\n",
        "</table>\n",
        "<p>5 rows \u00d7 6 columns</p>\n",
        "</div>"
       ],
       "metadata": {},
       "output_type": "pyout",
       "prompt_number": 37,
       "text": [
        "             Open   High    Low  Close    Volume Adj Clos\n",
        "Date                                                     \n",
        "2014-03-17  39.00  39.36  38.61  39.11  29627500     39.1\n",
        "2014-03-14  36.69  38.19  36.45  37.60  30842700     37.6\n",
        "2014-03-13  38.05  38.42  36.81  37.23  21179700     37.2\n",
        "2014-03-12  37.21  37.61  36.48  37.50  14794700     37.5\n",
        "2014-03-11  38.25  38.30  37.43  37.56  12609200     37.5\n",
        "\n",
        "[5 rows x 6 columns]"
       ]
      }
     ],
     "prompt_number": 37
    },
    {
     "cell_type": "code",
     "collapsed": false,
     "input": [
      "# use the DataFrame method plot() to plot the Open, High, Low, Close curves"
     ],
     "language": "python",
     "metadata": {},
     "outputs": []
    },
    {
     "cell_type": "markdown",
     "metadata": {},
     "source": [
      "## 2.b Unstructured data"
     ]
    },
    {
     "cell_type": "markdown",
     "metadata": {
      "slideshow": {
       "slide_type": "slide"
      }
     },
     "source": [
      "#### HTTP requests can be handled easily using Python's `requests` library.\n",
      "\n",
      "First we will load our credentials which we keep in a [YAML](http://www.yaml.org/) file for safe keeping."
     ]
    },
    {
     "cell_type": "code",
     "collapsed": false,
     "input": [
      "import yaml\n",
      "credentials = yaml.load(open('/Users/francescomosconi/api_cred.yml'))"
     ],
     "language": "python",
     "metadata": {
      "slideshow": {
       "slide_type": "fragment"
      }
     },
     "outputs": [
      {
       "ename": "IOError",
       "evalue": "[Errno 2] No such file or directory: '/Users/francescomosconi/api_cred.yml'",
       "output_type": "pyerr",
       "traceback": [
        "\u001b[0;31m---------------------------------------------------------------------------\u001b[0m\n\u001b[0;31mIOError\u001b[0m                                   Traceback (most recent call last)",
        "\u001b[0;32m<ipython-input-38-c27387866d68>\u001b[0m in \u001b[0;36m<module>\u001b[0;34m()\u001b[0m\n\u001b[1;32m      1\u001b[0m \u001b[0;32mimport\u001b[0m \u001b[0myaml\u001b[0m\u001b[0;34m\u001b[0m\u001b[0m\n\u001b[0;32m----> 2\u001b[0;31m \u001b[0mcredentials\u001b[0m \u001b[0;34m=\u001b[0m \u001b[0myaml\u001b[0m\u001b[0;34m.\u001b[0m\u001b[0mload\u001b[0m\u001b[0;34m(\u001b[0m\u001b[0mopen\u001b[0m\u001b[0;34m(\u001b[0m\u001b[0;34m'/Users/francescomosconi/api_cred.yml'\u001b[0m\u001b[0;34m)\u001b[0m\u001b[0;34m)\u001b[0m\u001b[0;34m\u001b[0m\u001b[0m\n\u001b[0m",
        "\u001b[0;31mIOError\u001b[0m: [Errno 2] No such file or directory: '/Users/francescomosconi/api_cred.yml'"
       ]
      }
     ],
     "prompt_number": 38
    },
    {
     "cell_type": "markdown",
     "metadata": {
      "slideshow": {
       "slide_type": "fragment"
      }
     },
     "source": [
      "Then we pass those credentials in to a GET request using the requests library. In this case, I am querying my own user data from Github:"
     ]
    },
    {
     "cell_type": "code",
     "collapsed": false,
     "input": [
      "import requests\n",
      "r = requests.get('https://api.github.com/user', \n",
      "                 auth=(credentials['USER'], credentials['PASS']))"
     ],
     "language": "python",
     "metadata": {
      "slideshow": {
       "slide_type": "fragment"
      }
     },
     "outputs": [],
     "prompt_number": 91
    },
    {
     "cell_type": "markdown",
     "metadata": {
      "slideshow": {
       "slide_type": "fragment"
      }
     },
     "source": [
      "Requests gives us an object from which we can read its content."
     ]
    },
    {
     "cell_type": "code",
     "collapsed": false,
     "input": [
      "r.content"
     ],
     "language": "python",
     "metadata": {
      "slideshow": {
       "slide_type": "fragment"
      }
     },
     "outputs": [],
     "prompt_number": 103
    },
    {
     "cell_type": "markdown",
     "metadata": {
      "slideshow": {
       "slide_type": "subslide"
      }
     },
     "source": [
      "#### One of the reasons we like JSON is that it is easy to transform into a Python `dict` object using the `json` library:"
     ]
    },
    {
     "cell_type": "code",
     "collapsed": false,
     "input": [
      "import json\n",
      "user = json.loads(r.content)\n",
      "user"
     ],
     "language": "python",
     "metadata": {
      "slideshow": {
       "slide_type": "fragment"
      }
     },
     "outputs": [],
     "prompt_number": 104
    },
    {
     "cell_type": "code",
     "collapsed": false,
     "input": [
      "print user.keys()"
     ],
     "language": "python",
     "metadata": {
      "slideshow": {
       "slide_type": "skip"
      }
     },
     "outputs": [],
     "prompt_number": 104
    },
    {
     "cell_type": "markdown",
     "metadata": {
      "slideshow": {
       "slide_type": "subslide"
      }
     },
     "source": [
      "We can access values in this dict directly (such as my hireable status) and even render the url of my avatar:"
     ]
    },
    {
     "cell_type": "code",
     "collapsed": false,
     "input": [
      "from IPython.display import HTML\n",
      "print \"Hireable: {}\".format(user.get('hireable'))\n",
      "HTML('<img src={} />'.format(user.get('avatar_url')))"
     ],
     "language": "python",
     "metadata": {
      "slideshow": {
       "slide_type": "fragment"
      }
     },
     "outputs": [],
     "prompt_number": 104
    },
    {
     "cell_type": "heading",
     "level": 1,
     "metadata": {
      "slideshow": {
       "slide_type": "slide"
      }
     },
     "source": [
      "Twitter API"
     ]
    },
    {
     "cell_type": "markdown",
     "metadata": {
      "slideshow": {
       "slide_type": "notes"
      }
     },
     "source": [
      "Twitter has no less than 10 python libraries. We'll be using Python Twitter Tools because it's what's used in Mining the Social Web."
     ]
    },
    {
     "cell_type": "markdown",
     "metadata": {
      "slideshow": {
       "slide_type": "skip"
      }
     },
     "source": [
      "#### Some services (like Twitter) have released Python libraries of their own to make using their API even easier."
     ]
    },
    {
     "cell_type": "code",
     "collapsed": false,
     "input": [
      "import twitter\n",
      "\n",
      "auth = twitter.oauth.OAuth(credentials['OAUTH_TOKEN'], \n",
      "                           credentials['OAUTH_TOKEN_SECRET'],\n",
      "                           credentials['CONSUMER_KEY'],\n",
      "                           credentials['CONSUMER_SECRET'])\n",
      "\n",
      "twitter_api = twitter.Twitter(auth=auth)\n",
      "\n",
      "print twitter_api"
     ],
     "language": "python",
     "metadata": {
      "slideshow": {
       "slide_type": "slide"
      }
     },
     "outputs": [],
     "prompt_number": 104
    },
    {
     "cell_type": "markdown",
     "metadata": {
      "slideshow": {
       "slide_type": "skip"
      }
     },
     "source": [
      "#### Using a library like this, we don't even need to specify the URL (that's handled internally)."
     ]
    },
    {
     "cell_type": "markdown",
     "metadata": {
      "slideshow": {
       "slide_type": "slide"
      }
     },
     "source": [
      "Using a library like this, it's easy to do something like search for tweets mentioning `#bigdata`  \n",
      "\n",
      "The results are transformed into a Python object (which in this case is a thin wrapper around a `dict`)"
     ]
    },
    {
     "cell_type": "code",
     "collapsed": false,
     "input": [
      "bigdata = twitter_api.search.tweets(q='#bigdata', count=5)\n",
      "type(bigdata)"
     ],
     "language": "python",
     "metadata": {
      "slideshow": {
       "slide_type": "fragment"
      }
     },
     "outputs": [],
     "prompt_number": 104
    },
    {
     "cell_type": "code",
     "collapsed": false,
     "input": [
      "for status in bigdata['statuses']:\n",
      "    print status.get('text')"
     ],
     "language": "python",
     "metadata": {
      "slideshow": {
       "slide_type": "fragment"
      }
     },
     "outputs": [],
     "prompt_number": 104
    },
    {
     "cell_type": "markdown",
     "metadata": {
      "slideshow": {
       "slide_type": "slide"
      }
     },
     "source": [
      "# Twitter lab\n",
      "[http://tinyurl.com/GAtwitterlab](http://nbviewer.ipython.org/github/ptwobrussell/Mining-the-Social-Web-2nd-Edition/blob/master/ipynb/Chapter%201%20-%20Mining%20Twitter.ipynb) up through Exercise 5"
     ]
    },
    {
     "cell_type": "markdown",
     "metadata": {},
     "source": [
      "Useful links:\n",
      "\n",
      "[Mining the Social Web](https://github.com/ptwobrussell/Mining-the-Social-Web-2nd-Edition)"
     ]
    },
    {
     "cell_type": "code",
     "collapsed": false,
     "input": [
      "!pip install twitter"
     ],
     "language": "python",
     "metadata": {},
     "outputs": [
      {
       "output_type": "stream",
       "stream": "stdout",
       "text": [
        "Downloading/unpacking twitter\r\n"
       ]
      },
      {
       "output_type": "stream",
       "stream": "stdout",
       "text": [
        "  Downloading twitter-1.14.1-py2.py3-none-any.whl (50kB): \r",
        "  Downloading twitter-1.14.1-py2.py3-none-any.whl (50kB):   8%  4.1kB\r",
        "  Downloading twitter-1.14.1-py2.py3-none-any.whl (50kB):  16%  8.2kB"
       ]
      },
      {
       "output_type": "stream",
       "stream": "stdout",
       "text": [
        "\r",
        "  Downloading twitter-1.14.1-py2.py3-none-any.whl (50kB):  24%  12kB \r",
        "  Downloading twitter-1.14.1-py2.py3-none-any.whl (50kB):  32%  16kB\r",
        "  Downloading twitter-1.14.1-py2.py3-none-any.whl (50kB):  40%  20kB"
       ]
      },
      {
       "output_type": "stream",
       "stream": "stdout",
       "text": [
        "\r",
        "  Downloading twitter-1.14.1-py2.py3-none-any.whl (50kB):  48%  24kB\r",
        "  Downloading twitter-1.14.1-py2.py3-none-any.whl (50kB):  57%  28kB\r",
        "  Downloading twitter-1.14.1-py2.py3-none-any.whl (50kB):  65%  32kB"
       ]
      },
      {
       "output_type": "stream",
       "stream": "stdout",
       "text": [
        "\r",
        "  Downloading twitter-1.14.1-py2.py3-none-any.whl (50kB):  73%  36kB\r",
        "  Downloading twitter-1.14.1-py2.py3-none-any.whl (50kB):  81%  40kB\r",
        "  Downloading twitter-1.14.1-py2.py3-none-any.whl (50kB):  89%  45kB\r",
        "  Downloading twitter-1.14.1-py2.py3-none-any.whl (50kB):  97%  49kB"
       ]
      },
      {
       "output_type": "stream",
       "stream": "stdout",
       "text": [
        "\r",
        "  Downloading twitter-1.14.1-py2.py3-none-any.whl (50kB): 100%  50kB\r",
        "  Downloading twitter-1.14.1-py2.py3-none-any.whl (50kB):           \r",
        "  Downloading twitter-1.14.1-py2.py3-none-any.whl (50kB): 50kB downloaded\r\n",
        "Installing collected packages: twitter\r\n"
       ]
      },
      {
       "output_type": "stream",
       "stream": "stdout",
       "text": [
        "Successfully installed twitter\r\n",
        "Cleaning up...\r\n"
       ]
      }
     ],
     "prompt_number": 39
    },
    {
     "cell_type": "code",
     "collapsed": false,
     "input": [
      "import twitter"
     ],
     "language": "python",
     "metadata": {},
     "outputs": [],
     "prompt_number": 40
    },
    {
     "cell_type": "code",
     "collapsed": false,
     "input": [
      "CONSUMER_KEY = 'vSJnQ9L69OMNJvqeBlfc2Q'\n",
      "CONSUMER_SECRET ='Zujm9x1L4dPpwCH4eqklq4xAfjwZ19KKWF7J2EzXI'\n",
      "OAUTH_TOKEN = '25964199-nRNPZRlWUTTmmIjeBi8ag2qe4R5WMWfr8mS7swAby'\n",
      "OAUTH_TOKEN_SECRET = 'ft1fxpiDUQw5TMzdO4FY4ZHsqa2j23lIexiKDoEFhMDrb'"
     ],
     "language": "python",
     "metadata": {},
     "outputs": [],
     "prompt_number": 41
    },
    {
     "cell_type": "code",
     "collapsed": false,
     "input": [
      "auth = twitter.oauth.OAuth(OAUTH_TOKEN, OAUTH_TOKEN_SECRET,\n",
      "                           CONSUMER_KEY, CONSUMER_SECRET)\n",
      "\n",
      "twitter_api = twitter.Twitter(auth=auth)\n",
      "\n",
      "# Nothing to see by displaying twitter_api except that it's now a\n",
      "# defined variable\n",
      "\n",
      "print twitter_api"
     ],
     "language": "python",
     "metadata": {},
     "outputs": [
      {
       "output_type": "stream",
       "stream": "stdout",
       "text": [
        "<twitter.api.Twitter object at 0x1007c0310>\n"
       ]
      }
     ],
     "prompt_number": 42
    },
    {
     "cell_type": "code",
     "collapsed": false,
     "input": [
      "WORLD_WOE_ID = 1\n",
      "US_WOE_ID = 23424977"
     ],
     "language": "python",
     "metadata": {},
     "outputs": [],
     "prompt_number": 43
    },
    {
     "cell_type": "code",
     "collapsed": false,
     "input": [
      "world_trends = twitter_api.trends.place(_id=WORLD_WOE_ID)\n",
      "us_trends = twitter_api.trends.place(_id=US_WOE_ID)\n",
      "\n",
      "print world_trends\n",
      "print\n",
      "print us_trends"
     ],
     "language": "python",
     "metadata": {},
     "outputs": [
      {
       "output_type": "stream",
       "stream": "stdout",
       "text": [
        "[{u'created_at': u'2014-03-18T03:58:05Z', u'trends': [{u'url': u'http://twitter.com/search?q=%23CosasDeMujeres', u'query': u'%23CosasDeMujeres', u'name': u'#CosasDeMujeres', u'promoted_content': None, u'events': None}, {u'url': u'http://twitter.com/search?q=%23OdioCuandoLaGenteDice', u'query': u'%23OdioCuandoLaGenteDice', u'name': u'#OdioCuandoLaGenteDice', u'promoted_content': None, u'events': None}, {u'url': u'http://twitter.com/search?q=%23RonniesNewVideo', u'query': u'%23RonniesNewVideo', u'name': u'#RonniesNewVideo', u'promoted_content': None, u'events': None}, {u'url': u'http://twitter.com/search?q=%23JoseEsUnChucky', u'query': u'%23JoseEsUnChucky', u'name': u'#JoseEsUnChucky', u'promoted_content': None, u'events': None}, {u'url': u'http://twitter.com/search?q=%23TeDariaBolaPero', u'query': u'%23TeDariaBolaPero', u'name': u'#TeDariaBolaPero', u'promoted_content': None, u'events': None}, {u'url': u'http://twitter.com/search?q=Allison', u'query': u'Allison', u'name': u'Allison', u'promoted_content': None, u'events': None}, {u'url': u'http://twitter.com/search?q=%22Dancing+With+the+Stars%22', u'query': u'%22Dancing+With+the+Stars%22', u'name': u'Dancing With the Stars', u'promoted_content': None, u'events': None}, {u'url': u'http://twitter.com/search?q=%22Luke+Bryan%22', u'query': u'%22Luke+Bryan%22', u'name': u'Luke Bryan', u'promoted_content': None, u'events': None}, {u'url': u'http://twitter.com/search?q=%22Bates+Motel%22', u'query': u'%22Bates+Motel%22', u'name': u'Bates Motel', u'promoted_content': None, u'events': None}, {u'url': u'http://twitter.com/search?q=Netflix', u'query': u'Netflix', u'name': u'Netflix', u'promoted_content': None, u'events': None}], u'as_of': u'2014-03-18T04:06:26Z', u'locations': [{u'woeid': 1, u'name': u'Worldwide'}]}]\n",
        "\n",
        "[{u'created_at': u'2014-03-18T04:02:07Z', u'trends': [{u'url': u'http://twitter.com/search?q=%23RIPAllison', u'query': u'%23RIPAllison', u'name': u'#RIPAllison', u'promoted_content': None, u'events': None}, {u'url': u'http://twitter.com/search?q=%23YouCanStayIf', u'query': u'%23YouCanStayIf', u'name': u'#YouCanStayIf', u'promoted_content': None, u'events': None}, {u'url': u'http://twitter.com/search?q=%23StPickupsDay', u'query': u'%23StPickupsDay', u'name': u'#StPickupsDay', u'promoted_content': None, u'events': None}, {u'url': u'http://twitter.com/search?q=%23RonniesNewVideo', u'query': u'%23RonniesNewVideo', u'name': u'#RonniesNewVideo', u'promoted_content': None, u'events': None}, {u'url': u'http://twitter.com/search?q=%22James+Spader%22', u'query': u'%22James+Spader%22', u'name': u'James Spader', u'promoted_content': None, u'events': None}, {u'url': u'http://twitter.com/search?q=%23ThePeoplesCouch', u'query': u'%23ThePeoplesCouch', u'name': u'#ThePeoplesCouch', u'promoted_content': None, u'events': None}, {u'url': u'http://twitter.com/search?q=%22Jeff+Davis%22', u'query': u'%22Jeff+Davis%22', u'name': u'Jeff Davis', u'promoted_content': None, u'events': None}, {u'url': u'http://twitter.com/search?q=%22Teen+Wolf%22', u'query': u'%22Teen+Wolf%22', u'name': u'Teen Wolf', u'promoted_content': None, u'events': None}, {u'url': u'http://twitter.com/search?q=%22Chris+Paul%22', u'query': u'%22Chris+Paul%22', u'name': u'Chris Paul', u'promoted_content': None, u'events': None}, {u'url': u'http://twitter.com/search?q=%22Luke+Bryan%22', u'query': u'%22Luke+Bryan%22', u'name': u'Luke Bryan', u'promoted_content': None, u'events': None}], u'as_of': u'2014-03-18T04:06:27Z', u'locations': [{u'woeid': 23424977, u'name': u'United States'}]}]\n"
       ]
      }
     ],
     "prompt_number": 44
    },
    {
     "cell_type": "code",
     "collapsed": false,
     "input": [
      "import json\n",
      "\n",
      "print json.dumps(world_trends, indent=1)\n",
      "print\n",
      "print json.dumps(us_trends, indent=1)"
     ],
     "language": "python",
     "metadata": {},
     "outputs": [
      {
       "output_type": "stream",
       "stream": "stdout",
       "text": [
        "[\n",
        " {\n",
        "  \"created_at\": \"2014-03-18T03:58:05Z\", \n",
        "  \"trends\": [\n",
        "   {\n",
        "    \"url\": \"http://twitter.com/search?q=%23CosasDeMujeres\", \n",
        "    \"query\": \"%23CosasDeMujeres\", \n",
        "    \"name\": \"#CosasDeMujeres\", \n",
        "    \"promoted_content\": null, \n",
        "    \"events\": null\n",
        "   }, \n",
        "   {\n",
        "    \"url\": \"http://twitter.com/search?q=%23OdioCuandoLaGenteDice\", \n",
        "    \"query\": \"%23OdioCuandoLaGenteDice\", \n",
        "    \"name\": \"#OdioCuandoLaGenteDice\", \n",
        "    \"promoted_content\": null, \n",
        "    \"events\": null\n",
        "   }, \n",
        "   {\n",
        "    \"url\": \"http://twitter.com/search?q=%23RonniesNewVideo\", \n",
        "    \"query\": \"%23RonniesNewVideo\", \n",
        "    \"name\": \"#RonniesNewVideo\", \n",
        "    \"promoted_content\": null, \n",
        "    \"events\": null\n",
        "   }, \n",
        "   {\n",
        "    \"url\": \"http://twitter.com/search?q=%23JoseEsUnChucky\", \n",
        "    \"query\": \"%23JoseEsUnChucky\", \n",
        "    \"name\": \"#JoseEsUnChucky\", \n",
        "    \"promoted_content\": null, \n",
        "    \"events\": null\n",
        "   }, \n",
        "   {\n",
        "    \"url\": \"http://twitter.com/search?q=%23TeDariaBolaPero\", \n",
        "    \"query\": \"%23TeDariaBolaPero\", \n",
        "    \"name\": \"#TeDariaBolaPero\", \n",
        "    \"promoted_content\": null, \n",
        "    \"events\": null\n",
        "   }, \n",
        "   {\n",
        "    \"url\": \"http://twitter.com/search?q=Allison\", \n",
        "    \"query\": \"Allison\", \n",
        "    \"name\": \"Allison\", \n",
        "    \"promoted_content\": null, \n",
        "    \"events\": null\n",
        "   }, \n",
        "   {\n",
        "    \"url\": \"http://twitter.com/search?q=%22Dancing+With+the+Stars%22\", \n",
        "    \"query\": \"%22Dancing+With+the+Stars%22\", \n",
        "    \"name\": \"Dancing With the Stars\", \n",
        "    \"promoted_content\": null, \n",
        "    \"events\": null\n",
        "   }, \n",
        "   {\n",
        "    \"url\": \"http://twitter.com/search?q=%22Luke+Bryan%22\", \n",
        "    \"query\": \"%22Luke+Bryan%22\", \n",
        "    \"name\": \"Luke Bryan\", \n",
        "    \"promoted_content\": null, \n",
        "    \"events\": null\n",
        "   }, \n",
        "   {\n",
        "    \"url\": \"http://twitter.com/search?q=%22Bates+Motel%22\", \n",
        "    \"query\": \"%22Bates+Motel%22\", \n",
        "    \"name\": \"Bates Motel\", \n",
        "    \"promoted_content\": null, \n",
        "    \"events\": null\n",
        "   }, \n",
        "   {\n",
        "    \"url\": \"http://twitter.com/search?q=Netflix\", \n",
        "    \"query\": \"Netflix\", \n",
        "    \"name\": \"Netflix\", \n",
        "    \"promoted_content\": null, \n",
        "    \"events\": null\n",
        "   }\n",
        "  ], \n",
        "  \"as_of\": \"2014-03-18T04:06:26Z\", \n",
        "  \"locations\": [\n",
        "   {\n",
        "    \"woeid\": 1, \n",
        "    \"name\": \"Worldwide\"\n",
        "   }\n",
        "  ]\n",
        " }\n",
        "]\n",
        "\n",
        "[\n",
        " {\n",
        "  \"created_at\": \"2014-03-18T04:02:07Z\", \n",
        "  \"trends\": [\n",
        "   {\n",
        "    \"url\": \"http://twitter.com/search?q=%23RIPAllison\", \n",
        "    \"query\": \"%23RIPAllison\", \n",
        "    \"name\": \"#RIPAllison\", \n",
        "    \"promoted_content\": null, \n",
        "    \"events\": null\n",
        "   }, \n",
        "   {\n",
        "    \"url\": \"http://twitter.com/search?q=%23YouCanStayIf\", \n",
        "    \"query\": \"%23YouCanStayIf\", \n",
        "    \"name\": \"#YouCanStayIf\", \n",
        "    \"promoted_content\": null, \n",
        "    \"events\": null\n",
        "   }, \n",
        "   {\n",
        "    \"url\": \"http://twitter.com/search?q=%23StPickupsDay\", \n",
        "    \"query\": \"%23StPickupsDay\", \n",
        "    \"name\": \"#StPickupsDay\", \n",
        "    \"promoted_content\": null, \n",
        "    \"events\": null\n",
        "   }, \n",
        "   {\n",
        "    \"url\": \"http://twitter.com/search?q=%23RonniesNewVideo\", \n",
        "    \"query\": \"%23RonniesNewVideo\", \n",
        "    \"name\": \"#RonniesNewVideo\", \n",
        "    \"promoted_content\": null, \n",
        "    \"events\": null\n",
        "   }, \n",
        "   {\n",
        "    \"url\": \"http://twitter.com/search?q=%22James+Spader%22\", \n",
        "    \"query\": \"%22James+Spader%22\", \n",
        "    \"name\": \"James Spader\", \n",
        "    \"promoted_content\": null, \n",
        "    \"events\": null\n",
        "   }, \n",
        "   {\n",
        "    \"url\": \"http://twitter.com/search?q=%23ThePeoplesCouch\", \n",
        "    \"query\": \"%23ThePeoplesCouch\", \n",
        "    \"name\": \"#ThePeoplesCouch\", \n",
        "    \"promoted_content\": null, \n",
        "    \"events\": null\n",
        "   }, \n",
        "   {\n",
        "    \"url\": \"http://twitter.com/search?q=%22Jeff+Davis%22\", \n",
        "    \"query\": \"%22Jeff+Davis%22\", \n",
        "    \"name\": \"Jeff Davis\", \n",
        "    \"promoted_content\": null, \n",
        "    \"events\": null\n",
        "   }, \n",
        "   {\n",
        "    \"url\": \"http://twitter.com/search?q=%22Teen+Wolf%22\", \n",
        "    \"query\": \"%22Teen+Wolf%22\", \n",
        "    \"name\": \"Teen Wolf\", \n",
        "    \"promoted_content\": null, \n",
        "    \"events\": null\n",
        "   }, \n",
        "   {\n",
        "    \"url\": \"http://twitter.com/search?q=%22Chris+Paul%22\", \n",
        "    \"query\": \"%22Chris+Paul%22\", \n",
        "    \"name\": \"Chris Paul\", \n",
        "    \"promoted_content\": null, \n",
        "    \"events\": null\n",
        "   }, \n",
        "   {\n",
        "    \"url\": \"http://twitter.com/search?q=%22Luke+Bryan%22\", \n",
        "    \"query\": \"%22Luke+Bryan%22\", \n",
        "    \"name\": \"Luke Bryan\", \n",
        "    \"promoted_content\": null, \n",
        "    \"events\": null\n",
        "   }\n",
        "  ], \n",
        "  \"as_of\": \"2014-03-18T04:06:27Z\", \n",
        "  \"locations\": [\n",
        "   {\n",
        "    \"woeid\": 23424977, \n",
        "    \"name\": \"United States\"\n",
        "   }\n",
        "  ]\n",
        " }\n",
        "]\n"
       ]
      }
     ],
     "prompt_number": 49
    },
    {
     "cell_type": "code",
     "collapsed": false,
     "input": [
      "world_trends_set = set([trend['name'] \n",
      "                        for trend in world_trends[0]['trends']])\n",
      "\n",
      "us_trends_set = set([trend['name'] \n",
      "                     for trend in us_trends[0]['trends']]) \n",
      "\n",
      "common_trends = world_trends_set.intersection(us_trends_set)\n",
      "\n",
      "print common_trends"
     ],
     "language": "python",
     "metadata": {},
     "outputs": [
      {
       "output_type": "stream",
       "stream": "stdout",
       "text": [
        "set([u'Luke Bryan', u'#RonniesNewVideo'])\n"
       ]
      }
     ],
     "prompt_number": 50
    },
    {
     "cell_type": "code",
     "collapsed": false,
     "input": [
      "# XXX: Set this variable to a trending topic, \n",
      "# or anything else for that matter. The example query below\n",
      "# was a trending topic when this content was being developed\n",
      "# and is used throughout the remainder of this chapter.\n",
      "\n",
      "q = '#Karlthefog' \n",
      "\n",
      "count = 100\n",
      "\n",
      "# See https://dev.twitter.com/docs/api/1.1/get/search/tweets\n",
      "\n",
      "search_results = twitter_api.search.tweets(q=q, count=count)\n",
      "\n",
      "statuses = search_results['statuses']\n",
      "\n",
      "\n",
      "# Iterate through 5 more batches of results by following the cursor\n",
      "\n",
      "for _ in range(5):\n",
      "    print \"Length of statuses\", len(statuses)\n",
      "    try:\n",
      "        next_results = search_results['search_metadata']['next_results']\n",
      "    except KeyError, e: # No more results when next_results doesn't exist\n",
      "        break\n",
      "        \n",
      "    # Create a dictionary from next_results, which has the following form:\n",
      "    # ?max_id=313519052523986943&q=NCAA&include_entities=1\n",
      "    kwargs = dict([ kv.split('=') for kv in next_results[1:].split(\"&\") ])\n",
      "    \n",
      "    search_results = twitter_api.search.tweets(**kwargs)\n",
      "    statuses += search_results['statuses']\n",
      "\n",
      "# Show one sample search result by slicing the list...\n",
      "print json.dumps(statuses[0], indent=1)"
     ],
     "language": "python",
     "metadata": {},
     "outputs": [
      {
       "output_type": "stream",
       "stream": "stdout",
       "text": [
        "Length of statuses 11\n",
        "{\n",
        " \"contributors\": null, \n",
        " \"truncated\": false, \n",
        " \"text\": \"#karlthefog is back #latergram #nofilter #goldengatebridge #sanfrancisco #marinheadlands http://t.co/ipJSg0uU1g\", \n",
        " \"in_reply_to_status_id\": null, \n",
        " \"id\": 445367612495904768, \n",
        " \"favorite_count\": 0, \n",
        " \"source\": \"<a href=\\\"http://instagram.com\\\" rel=\\\"nofollow\\\">Instagram</a>\", \n",
        " \"retweeted\": false, \n",
        " \"coordinates\": null, \n",
        " \"entities\": {\n",
        "  \"symbols\": [], \n",
        "  \"user_mentions\": [], \n",
        "  \"hashtags\": [\n",
        "   {\n",
        "    \"indices\": [\n",
        "     0, \n",
        "     11\n",
        "    ], \n",
        "    \"text\": \"karlthefog\"\n",
        "   }, \n",
        "   {\n",
        "    \"indices\": [\n",
        "     20, \n",
        "     30\n",
        "    ], \n",
        "    \"text\": \"latergram\"\n",
        "   }, \n",
        "   {\n",
        "    \"indices\": [\n",
        "     31, \n",
        "     40\n",
        "    ], \n",
        "    \"text\": \"nofilter\"\n",
        "   }, \n",
        "   {\n",
        "    \"indices\": [\n",
        "     41, \n",
        "     58\n",
        "    ], \n",
        "    \"text\": \"goldengatebridge\"\n",
        "   }, \n",
        "   {\n",
        "    \"indices\": [\n",
        "     59, \n",
        "     72\n",
        "    ], \n",
        "    \"text\": \"sanfrancisco\"\n",
        "   }, \n",
        "   {\n",
        "    \"indices\": [\n",
        "     73, \n",
        "     88\n",
        "    ], \n",
        "    \"text\": \"marinheadlands\"\n",
        "   }\n",
        "  ], \n",
        "  \"urls\": [\n",
        "   {\n",
        "    \"url\": \"http://t.co/ipJSg0uU1g\", \n",
        "    \"indices\": [\n",
        "     89, \n",
        "     111\n",
        "    ], \n",
        "    \"expanded_url\": \"http://instagram.com/p/ln_mznp8Ti/\", \n",
        "    \"display_url\": \"instagram.com/p/ln_mznp8Ti/\"\n",
        "   }\n",
        "  ]\n",
        " }, \n",
        " \"in_reply_to_screen_name\": null, \n",
        " \"in_reply_to_user_id\": null, \n",
        " \"retweet_count\": 0, \n",
        " \"id_str\": \"445367612495904768\", \n",
        " \"favorited\": false, \n",
        " \"user\": {\n",
        "  \"follow_request_sent\": false, \n",
        "  \"profile_use_background_image\": true, \n",
        "  \"default_profile_image\": false, \n",
        "  \"id\": 401507189, \n",
        "  \"profile_background_image_url_https\": \"https://abs.twimg.com/images/themes/theme5/bg.gif\", \n",
        "  \"verified\": false, \n",
        "  \"profile_text_color\": \"3E4415\", \n",
        "  \"profile_image_url_https\": \"https://pbs.twimg.com/profile_images/3237682140/456bf16972206940e97810b312d3e42e_normal.jpeg\", \n",
        "  \"profile_sidebar_fill_color\": \"99CC33\", \n",
        "  \"entities\": {\n",
        "   \"url\": {\n",
        "    \"urls\": [\n",
        "     {\n",
        "      \"url\": \"http://t.co/8JG3w8X5Jr\", \n",
        "      \"indices\": [\n",
        "       0, \n",
        "       22\n",
        "      ], \n",
        "      \"expanded_url\": \"http://blogaelle.wordpress.com\", \n",
        "      \"display_url\": \"blogaelle.wordpress.com\"\n",
        "     }\n",
        "    ]\n",
        "   }, \n",
        "   \"description\": {\n",
        "    \"urls\": []\n",
        "   }\n",
        "  }, \n",
        "  \"followers_count\": 11, \n",
        "  \"profile_sidebar_border_color\": \"829D5E\", \n",
        "  \"id_str\": \"401507189\", \n",
        "  \"profile_background_color\": \"352726\", \n",
        "  \"listed_count\": 1, \n",
        "  \"is_translation_enabled\": false, \n",
        "  \"utc_offset\": 3600, \n",
        "  \"statuses_count\": 530, \n",
        "  \"description\": \"\", \n",
        "  \"friends_count\": 41, \n",
        "  \"location\": \"San Francisco\", \n",
        "  \"profile_link_color\": \"D02B55\", \n",
        "  \"profile_image_url\": \"http://pbs.twimg.com/profile_images/3237682140/456bf16972206940e97810b312d3e42e_normal.jpeg\", \n",
        "  \"following\": false, \n",
        "  \"geo_enabled\": false, \n",
        "  \"profile_banner_url\": \"https://pbs.twimg.com/profile_banners/401507189/1360560714\", \n",
        "  \"profile_background_image_url\": \"http://abs.twimg.com/images/themes/theme5/bg.gif\", \n",
        "  \"screen_name\": \"blogaelle\", \n",
        "  \"lang\": \"fr\", \n",
        "  \"profile_background_tile\": false, \n",
        "  \"favourites_count\": 0, \n",
        "  \"name\": \"GaL7\", \n",
        "  \"notifications\": false, \n",
        "  \"url\": \"http://t.co/8JG3w8X5Jr\", \n",
        "  \"created_at\": \"Sun Oct 30 17:06:47 +0000 2011\", \n",
        "  \"contributors_enabled\": false, \n",
        "  \"time_zone\": \"Paris\", \n",
        "  \"protected\": false, \n",
        "  \"default_profile\": false, \n",
        "  \"is_translator\": false\n",
        " }, \n",
        " \"geo\": null, \n",
        " \"in_reply_to_user_id_str\": null, \n",
        " \"possibly_sensitive\": false, \n",
        " \"lang\": \"en\", \n",
        " \"created_at\": \"Mon Mar 17 01:14:48 +0000 2014\", \n",
        " \"in_reply_to_status_id_str\": null, \n",
        " \"place\": null, \n",
        " \"metadata\": {\n",
        "  \"iso_language_code\": \"en\", \n",
        "  \"result_type\": \"recent\"\n",
        " }\n",
        "}\n"
       ]
      }
     ],
     "prompt_number": 59
    },
    {
     "cell_type": "code",
     "collapsed": false,
     "input": [
      "import json\n",
      "statuses = json.loads(open('resources/ch01-twitter/data/Karlthefog.json').read())\n",
      "\n",
      "# The result of the list comprehension is a list with only one element that\n",
      "# can be accessed by its index and set to the variable t\n",
      "t = [ status \n",
      "      for status in statuses\n",
      "          if status['id'] == 316948241264549888 ][0]\n",
      "\n",
      "# Explore the variable t to get familiarized with the data structure...\n",
      "\n",
      "print t['retweet_count']\n",
      "print t['retweeted_status']\n",
      "\n",
      "# Can you find the most retweeted tweet in your search results? Try do do it!"
     ],
     "language": "python",
     "metadata": {},
     "outputs": [
      {
       "ename": "IOError",
       "evalue": "[Errno 2] No such file or directory: 'resources/ch01-twitter/data/Karlthefog.json'",
       "output_type": "pyerr",
       "traceback": [
        "\u001b[0;31m---------------------------------------------------------------------------\u001b[0m\n\u001b[0;31mIOError\u001b[0m                                   Traceback (most recent call last)",
        "\u001b[0;32m<ipython-input-61-b5a771959eb4>\u001b[0m in \u001b[0;36m<module>\u001b[0;34m()\u001b[0m\n\u001b[1;32m      1\u001b[0m \u001b[0;32mimport\u001b[0m \u001b[0mjson\u001b[0m\u001b[0;34m\u001b[0m\u001b[0m\n\u001b[0;32m----> 2\u001b[0;31m \u001b[0mstatuses\u001b[0m \u001b[0;34m=\u001b[0m \u001b[0mjson\u001b[0m\u001b[0;34m.\u001b[0m\u001b[0mloads\u001b[0m\u001b[0;34m(\u001b[0m\u001b[0mopen\u001b[0m\u001b[0;34m(\u001b[0m\u001b[0;34m'resources/ch01-twitter/data/Karlthefog.json'\u001b[0m\u001b[0;34m)\u001b[0m\u001b[0;34m.\u001b[0m\u001b[0mread\u001b[0m\u001b[0;34m(\u001b[0m\u001b[0;34m)\u001b[0m\u001b[0;34m)\u001b[0m\u001b[0;34m\u001b[0m\u001b[0m\n\u001b[0m\u001b[1;32m      3\u001b[0m \u001b[0;34m\u001b[0m\u001b[0m\n\u001b[1;32m      4\u001b[0m \u001b[0;31m# The result of the list comprehension is a list with only one element that\u001b[0m\u001b[0;34m\u001b[0m\u001b[0;34m\u001b[0m\u001b[0m\n\u001b[1;32m      5\u001b[0m \u001b[0;31m# can be accessed by its index and set to the variable t\u001b[0m\u001b[0;34m\u001b[0m\u001b[0;34m\u001b[0m\u001b[0m\n",
        "\u001b[0;31mIOError\u001b[0m: [Errno 2] No such file or directory: 'resources/ch01-twitter/data/Karlthefog.json'"
       ]
      }
     ],
     "prompt_number": 61
    },
    {
     "cell_type": "code",
     "collapsed": false,
     "input": [
      "status_texts = [ status['text'] \n",
      "                 for status in statuses ]\n",
      "\n",
      "screen_names = [ user_mention['screen_name'] \n",
      "                 for status in statuses\n",
      "                     for user_mention in status['entities']['user_mentions'] ]\n",
      "\n",
      "hashtags = [ hashtag['text'] \n",
      "             for status in statuses\n",
      "                 for hashtag in status['entities']['hashtags'] ]\n",
      "\n",
      "# Compute a collection of all words from all tweets\n",
      "words = [ w \n",
      "          for t in status_texts \n",
      "              for w in t.split() ]\n",
      "\n",
      "# Explore the first 5 items for each...\n",
      "\n",
      "print json.dumps(status_texts[0:5], indent=1)\n",
      "print json.dumps(screen_names[0:5], indent=1) \n",
      "print json.dumps(hashtags[0:5], indent=1)\n",
      "print json.dumps(words[0:5], indent=1)"
     ],
     "language": "python",
     "metadata": {},
     "outputs": [
      {
       "output_type": "stream",
       "stream": "stdout",
       "text": [
        "[\n",
        " \"#karlthefog is back #latergram #nofilter #goldengatebridge #sanfrancisco #marinheadlands http://t.co/ipJSg0uU1g\", \n",
        " \"The ocean was covered in fog most of the day. Nice to be above it! #karlthefog http://t.co/g3sBQznH2K\", \n",
        " \"Watching Karl the Fog roll in. #sfo #karlthefog #sanfran #viewontop @ Corona Heights http://t.co/zfXbHjgsGZ\", \n",
        " \"Foggy driving through the GGB #sanfrancisco #california #goldengatebridge #fog #karlthefog #foggy http://t.co/c7xYzsRYfW\", \n",
        " \"#KarlTheFog is covering the #goldengatebridge this perfect #sanfrancisco morning!!! @ Sea Lions at\\u2026 http://t.co/9jlSziLiVk\"\n",
        "]\n",
        "[\n",
        " \"KarlTheFog\"\n",
        "]\n",
        "[\n",
        " \"karlthefog\", \n",
        " \"latergram\", \n",
        " \"nofilter\", \n",
        " \"goldengatebridge\", \n",
        " \"sanfrancisco\"\n",
        "]\n",
        "[\n",
        " \"#karlthefog\", \n",
        " \"is\", \n",
        " \"back\", \n",
        " \"#latergram\", \n",
        " \"#nofilter\"\n",
        "]\n"
       ]
      }
     ],
     "prompt_number": 63
    },
    {
     "cell_type": "code",
     "collapsed": false,
     "input": [
      "from collections import Counter\n",
      "\n",
      "for item in [words, screen_names, hashtags]:\n",
      "    c = Counter(item)\n",
      "    print c.most_common()[:10] # top 10\n",
      "    print"
     ],
     "language": "python",
     "metadata": {},
     "outputs": [
      {
       "output_type": "stream",
       "stream": "stdout",
       "text": [
        "[(u'#karlthefog', 7), (u'the', 7), (u'@', 4), (u'#KarlTheFog', 3), (u'#sanfrancisco', 3), (u'through', 3), (u'#goldengatebridge', 3), (u'room.', 2), (u'#view', 2), (u'back', 2)]\n",
        "\n",
        "[(u'KarlTheFog', 1)]\n",
        "\n",
        "[(u'karlthefog', 7), (u'KarlTheFog', 4), (u'goldengatebridge', 3), (u'sanfrancisco', 3), (u'GoldenGate', 2), (u'tower', 2), (u'view', 2), (u'marinheadlands', 1), (u'cyclingculture', 1), (u'FogCity', 1)]\n",
        "\n"
       ]
      }
     ],
     "prompt_number": 64
    },
    {
     "cell_type": "code",
     "collapsed": false,
     "input": [
      "from prettytable import PrettyTable\n",
      "\n",
      "for label, data in (('Word', words), \n",
      "                    ('Screen Name', screen_names), \n",
      "                    ('Hashtag', hashtags)):\n",
      "    pt = PrettyTable(field_names=[label, 'Count']) \n",
      "    c = Counter(data)\n",
      "    [ pt.add_row(kv) for kv in c.most_common()[:10] ]\n",
      "    pt.align[label], pt.align['Count'] = 'l', 'r' # Set column alignment\n",
      "    print pt"
     ],
     "language": "python",
     "metadata": {},
     "outputs": [
      {
       "ename": "ImportError",
       "evalue": "No module named prettytable",
       "output_type": "pyerr",
       "traceback": [
        "\u001b[0;31m---------------------------------------------------------------------------\u001b[0m\n\u001b[0;31mImportError\u001b[0m                               Traceback (most recent call last)",
        "\u001b[0;32m<ipython-input-68-766a6a42c202>\u001b[0m in \u001b[0;36m<module>\u001b[0;34m()\u001b[0m\n\u001b[0;32m----> 1\u001b[0;31m \u001b[0;32mfrom\u001b[0m \u001b[0mprettytable\u001b[0m \u001b[0;32mimport\u001b[0m \u001b[0mPrettyTable\u001b[0m\u001b[0;34m\u001b[0m\u001b[0m\n\u001b[0m\u001b[1;32m      2\u001b[0m \u001b[0;34m\u001b[0m\u001b[0m\n\u001b[1;32m      3\u001b[0m for label, data in (('Word', words), \n\u001b[1;32m      4\u001b[0m                     \u001b[0;34m(\u001b[0m\u001b[0;34m'Screen Name'\u001b[0m\u001b[0;34m,\u001b[0m \u001b[0mscreen_names\u001b[0m\u001b[0;34m)\u001b[0m\u001b[0;34m,\u001b[0m\u001b[0;34m\u001b[0m\u001b[0m\n\u001b[1;32m      5\u001b[0m                     ('Hashtag', hashtags)):\n",
        "\u001b[0;31mImportError\u001b[0m: No module named prettytable"
       ]
      }
     ],
     "prompt_number": 68
    },
    {
     "cell_type": "code",
     "collapsed": false,
     "input": [],
     "language": "python",
     "metadata": {},
     "outputs": []
    }
   ],
   "metadata": {}
  }
 ]
}