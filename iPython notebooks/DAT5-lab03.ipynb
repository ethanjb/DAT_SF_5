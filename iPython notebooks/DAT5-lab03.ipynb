{
 "metadata": {
  "celltoolbar": "Slideshow",
  "name": ""
 },
 "nbformat": 3,
 "nbformat_minor": 0,
 "worksheets": [
  {
   "cells": [
    {
     "cell_type": "markdown",
     "metadata": {
      "slideshow": {
       "slide_type": "slide"
      }
     },
     "source": [
      "# GA Data Science 5 (DAT5) - Lab3\n",
      "\n",
      "### APIs, JSON\n",
      "\n",
      "Francesco Mosconi\n",
      "Chief Data Officer, [Spire Inc.](spire.io)\n",
      "\n",
      "Thanks to Alessandro Gagliardo for starting NB"
     ]
    },
    {
     "cell_type": "markdown",
     "metadata": {
      "slideshow": {
       "slide_type": "slide"
      }
     },
     "source": [
      "### Last Time:\n",
      "\n",
      "- #### iPython\n",
      "- #### numpy  \n",
      "- #### Pandas\n",
      "\n",
      "#### Questions?"
     ]
    },
    {
     "cell_type": "markdown",
     "metadata": {
      "slideshow": {
       "slide_type": "slide"
      }
     },
     "source": [
      "### Agenda\n",
      "\n",
      "1. JSON\n",
      "2. API "
     ]
    },
    {
     "cell_type": "heading",
     "level": 1,
     "metadata": {
      "slideshow": {
       "slide_type": "slide"
      }
     },
     "source": [
      "1. JSON"
     ]
    },
    {
     "cell_type": "markdown",
     "metadata": {
      "slideshow": {
       "slide_type": "slide"
      }
     },
     "source": [
      "- What's Json? (and why do we care?)"
     ]
    },
    {
     "cell_type": "code",
     "collapsed": false,
     "input": [
      "# load the homework data into a pandas dataset\n",
      "\n",
      "import pandas as pd\n",
      "\n",
      "data = pd.read_csv(\"data/titanic-train.csv\")"
     ],
     "language": "python",
     "metadata": {},
     "outputs": [],
<<<<<<< HEAD
     "prompt_number": 3
=======
     "prompt_number": 1
>>>>>>> class/master
    },
    {
     "cell_type": "code",
     "collapsed": false,
     "input": [
      "# assign the first 5 rows to a variable called first\n",
      "\n",
      "first = data.head(5)"
     ],
     "language": "python",
     "metadata": {},
     "outputs": [],
<<<<<<< HEAD
     "prompt_number": 5
=======
     "prompt_number": 2
>>>>>>> class/master
    },
    {
     "cell_type": "code",
     "collapsed": false,
     "input": [
<<<<<<< HEAD
      "# use the DataFrame method to_json to transform <first> into a json object\n",
      "\n",
      "first.to_json()"
=======
      "first"
>>>>>>> class/master
     ],
     "language": "python",
     "metadata": {},
     "outputs": [
      {
<<<<<<< HEAD
       "metadata": {},
       "output_type": "pyout",
       "prompt_number": 6,
       "text": [
        "'{\"PassengerId\":{\"0\":1,\"1\":2,\"2\":3,\"3\":4,\"4\":5},\"Survived\":{\"0\":0,\"1\":1,\"2\":1,\"3\":1,\"4\":0},\"Pclass\":{\"0\":3,\"1\":1,\"2\":3,\"3\":1,\"4\":3},\"Name\":{\"0\":\"Braund, Mr. Owen Harris\",\"1\":\"Cumings, Mrs. John Bradley (Florence Briggs Thayer)\",\"2\":\"Heikkinen, Miss. Laina\",\"3\":\"Futrelle, Mrs. Jacques Heath (Lily May Peel)\",\"4\":\"Allen, Mr. William Henry\"},\"Sex\":{\"0\":\"male\",\"1\":\"female\",\"2\":\"female\",\"3\":\"female\",\"4\":\"male\"},\"Age\":{\"0\":22.0,\"1\":38.0,\"2\":26.0,\"3\":35.0,\"4\":35.0},\"SibSp\":{\"0\":1,\"1\":1,\"2\":0,\"3\":1,\"4\":0},\"Parch\":{\"0\":0,\"1\":0,\"2\":0,\"3\":0,\"4\":0},\"Ticket\":{\"0\":\"A\\\\/5 21171\",\"1\":\"PC 17599\",\"2\":\"STON\\\\/O2. 3101282\",\"3\":\"113803\",\"4\":\"373450\"},\"Fare\":{\"0\":7.25,\"1\":71.2833,\"2\":7.925,\"3\":53.1,\"4\":8.05},\"Cabin\":{\"0\":null,\"1\":\"C85\",\"2\":null,\"3\":\"C123\",\"4\":null},\"Embarked\":{\"0\":\"S\",\"1\":\"C\",\"2\":\"S\",\"3\":\"S\",\"4\":\"S\"}}'"
       ]
      }
     ],
     "prompt_number": 6
=======
       "html": [
        "<div style=\"max-height:1000px;max-width:1500px;overflow:auto;\">\n",
        "<table border=\"1\" class=\"dataframe\">\n",
        "  <thead>\n",
        "    <tr style=\"text-align: right;\">\n",
        "      <th></th>\n",
        "      <th>PassengerId</th>\n",
        "      <th>Survived</th>\n",
        "      <th>Pclass</th>\n",
        "      <th>Name</th>\n",
        "      <th>Sex</th>\n",
        "      <th>Age</th>\n",
        "      <th>SibSp</th>\n",
        "      <th>Parch</th>\n",
        "      <th>Ticket</th>\n",
        "      <th>Fare</th>\n",
        "      <th>Cabin</th>\n",
        "      <th>Embarked</th>\n",
        "    </tr>\n",
        "  </thead>\n",
        "  <tbody>\n",
        "    <tr>\n",
        "      <th>0</th>\n",
        "      <td> 1</td>\n",
        "      <td> 0</td>\n",
        "      <td> 3</td>\n",
        "      <td>                           Braund, Mr. Owen Harris</td>\n",
        "      <td>   male</td>\n",
        "      <td> 22</td>\n",
        "      <td> 1</td>\n",
        "      <td> 0</td>\n",
        "      <td>        A/5 21171</td>\n",
        "      <td>  7.2500</td>\n",
        "      <td>  NaN</td>\n",
        "      <td> S</td>\n",
        "    </tr>\n",
        "    <tr>\n",
        "      <th>1</th>\n",
        "      <td> 2</td>\n",
        "      <td> 1</td>\n",
        "      <td> 1</td>\n",
        "      <td> Cumings, Mrs. John Bradley (Florence Briggs Th...</td>\n",
        "      <td> female</td>\n",
        "      <td> 38</td>\n",
        "      <td> 1</td>\n",
        "      <td> 0</td>\n",
        "      <td>         PC 17599</td>\n",
        "      <td> 71.2833</td>\n",
        "      <td>  C85</td>\n",
        "      <td> C</td>\n",
        "    </tr>\n",
        "    <tr>\n",
        "      <th>2</th>\n",
        "      <td> 3</td>\n",
        "      <td> 1</td>\n",
        "      <td> 3</td>\n",
        "      <td>                            Heikkinen, Miss. Laina</td>\n",
        "      <td> female</td>\n",
        "      <td> 26</td>\n",
        "      <td> 0</td>\n",
        "      <td> 0</td>\n",
        "      <td> STON/O2. 3101282</td>\n",
        "      <td>  7.9250</td>\n",
        "      <td>  NaN</td>\n",
        "      <td> S</td>\n",
        "    </tr>\n",
        "    <tr>\n",
        "      <th>3</th>\n",
        "      <td> 4</td>\n",
        "      <td> 1</td>\n",
        "      <td> 1</td>\n",
        "      <td>      Futrelle, Mrs. Jacques Heath (Lily May Peel)</td>\n",
        "      <td> female</td>\n",
        "      <td> 35</td>\n",
        "      <td> 1</td>\n",
        "      <td> 0</td>\n",
        "      <td>           113803</td>\n",
        "      <td> 53.1000</td>\n",
        "      <td> C123</td>\n",
        "      <td> S</td>\n",
        "    </tr>\n",
        "    <tr>\n",
        "      <th>4</th>\n",
        "      <td> 5</td>\n",
        "      <td> 0</td>\n",
        "      <td> 3</td>\n",
        "      <td>                          Allen, Mr. William Henry</td>\n",
        "      <td>   male</td>\n",
        "      <td> 35</td>\n",
        "      <td> 0</td>\n",
        "      <td> 0</td>\n",
        "      <td>           373450</td>\n",
        "      <td>  8.0500</td>\n",
        "      <td>  NaN</td>\n",
        "      <td> S</td>\n",
        "    </tr>\n",
        "  </tbody>\n",
        "</table>\n",
        "<p>5 rows \u00d7 12 columns</p>\n",
        "</div>"
       ],
       "metadata": {},
       "output_type": "pyout",
       "prompt_number": 7,
       "text": [
        "   PassengerId  Survived  Pclass  \\\n",
        "0            1         0       3   \n",
        "1            2         1       1   \n",
        "2            3         1       3   \n",
        "3            4         1       1   \n",
        "4            5         0       3   \n",
        "\n",
        "                                                Name     Sex  Age  SibSp  \\\n",
        "0                            Braund, Mr. Owen Harris    male   22      1   \n",
        "1  Cumings, Mrs. John Bradley (Florence Briggs Th...  female   38      1   \n",
        "2                             Heikkinen, Miss. Laina  female   26      0   \n",
        "3       Futrelle, Mrs. Jacques Heath (Lily May Peel)  female   35      1   \n",
        "4                           Allen, Mr. William Henry    male   35      0   \n",
        "\n",
        "   Parch            Ticket     Fare Cabin Embarked  \n",
        "0      0         A/5 21171   7.2500   NaN        S  \n",
        "1      0          PC 17599  71.2833   C85        C  \n",
        "2      0  STON/O2. 3101282   7.9250   NaN        S  \n",
        "3      0            113803  53.1000  C123        S  \n",
        "4      0            373450   8.0500   NaN        S  \n",
        "\n",
        "[5 rows x 12 columns]"
       ]
      }
     ],
     "prompt_number": 7
>>>>>>> class/master
    },
    {
     "cell_type": "code",
     "collapsed": false,
     "input": [
<<<<<<< HEAD
      "# explore the different options in the to_json method\n",
      "\n",
      "first.to_json(orient = 'records')"
=======
      "# use the DataFrame method to_json to transform <first> into a json object\n",
      "first.to_json()"
>>>>>>> class/master
     ],
     "language": "python",
     "metadata": {},
     "outputs": [
      {
       "metadata": {},
       "output_type": "pyout",
<<<<<<< HEAD
       "prompt_number": 7,
=======
       "prompt_number": 4,
       "text": [
        "'{\"PassengerId\":{\"0\":1,\"1\":2,\"2\":3,\"3\":4,\"4\":5},\"Survived\":{\"0\":0,\"1\":1,\"2\":1,\"3\":1,\"4\":0},\"Pclass\":{\"0\":3,\"1\":1,\"2\":3,\"3\":1,\"4\":3},\"Name\":{\"0\":\"Braund, Mr. Owen Harris\",\"1\":\"Cumings, Mrs. John Bradley (Florence Briggs Thayer)\",\"2\":\"Heikkinen, Miss. Laina\",\"3\":\"Futrelle, Mrs. Jacques Heath (Lily May Peel)\",\"4\":\"Allen, Mr. William Henry\"},\"Sex\":{\"0\":\"male\",\"1\":\"female\",\"2\":\"female\",\"3\":\"female\",\"4\":\"male\"},\"Age\":{\"0\":22.0,\"1\":38.0,\"2\":26.0,\"3\":35.0,\"4\":35.0},\"SibSp\":{\"0\":1,\"1\":1,\"2\":0,\"3\":1,\"4\":0},\"Parch\":{\"0\":0,\"1\":0,\"2\":0,\"3\":0,\"4\":0},\"Ticket\":{\"0\":\"A\\\\/5 21171\",\"1\":\"PC 17599\",\"2\":\"STON\\\\/O2. 3101282\",\"3\":\"113803\",\"4\":\"373450\"},\"Fare\":{\"0\":7.25,\"1\":71.2833,\"2\":7.925,\"3\":53.1,\"4\":8.05},\"Cabin\":{\"0\":null,\"1\":\"C85\",\"2\":null,\"3\":\"C123\",\"4\":null},\"Embarked\":{\"0\":\"S\",\"1\":\"C\",\"2\":\"S\",\"3\":\"S\",\"4\":\"S\"}}'"
       ]
      }
     ],
     "prompt_number": 4
    },
    {
     "cell_type": "code",
     "collapsed": false,
     "input": [
      "# explore the different options in the to_json method\n",
      "first.to_json(orient = 'records')"
     ],
     "language": "python",
     "metadata": {},
     "outputs": [
      {
       "metadata": {},
       "output_type": "pyout",
       "prompt_number": 6,
>>>>>>> class/master
       "text": [
        "'[{\"PassengerId\":1,\"Survived\":0,\"Pclass\":3,\"Name\":\"Braund, Mr. Owen Harris\",\"Sex\":\"male\",\"Age\":22.0,\"SibSp\":1,\"Parch\":0,\"Ticket\":\"A\\\\/5 21171\",\"Fare\":7.25,\"Cabin\":null,\"Embarked\":\"S\"},{\"PassengerId\":2,\"Survived\":1,\"Pclass\":1,\"Name\":\"Cumings, Mrs. John Bradley (Florence Briggs Thayer)\",\"Sex\":\"female\",\"Age\":38.0,\"SibSp\":1,\"Parch\":0,\"Ticket\":\"PC 17599\",\"Fare\":71.2833,\"Cabin\":\"C85\",\"Embarked\":\"C\"},{\"PassengerId\":3,\"Survived\":1,\"Pclass\":3,\"Name\":\"Heikkinen, Miss. Laina\",\"Sex\":\"female\",\"Age\":26.0,\"SibSp\":0,\"Parch\":0,\"Ticket\":\"STON\\\\/O2. 3101282\",\"Fare\":7.925,\"Cabin\":null,\"Embarked\":\"S\"},{\"PassengerId\":4,\"Survived\":1,\"Pclass\":1,\"Name\":\"Futrelle, Mrs. Jacques Heath (Lily May Peel)\",\"Sex\":\"female\",\"Age\":35.0,\"SibSp\":1,\"Parch\":0,\"Ticket\":\"113803\",\"Fare\":53.1,\"Cabin\":\"C123\",\"Embarked\":\"S\"},{\"PassengerId\":5,\"Survived\":0,\"Pclass\":3,\"Name\":\"Allen, Mr. William Henry\",\"Sex\":\"male\",\"Age\":35.0,\"SibSp\":0,\"Parch\":0,\"Ticket\":\"373450\",\"Fare\":8.05,\"Cabin\":null,\"Embarked\":\"S\"}]'"
       ]
      }
     ],
<<<<<<< HEAD
     "prompt_number": 7
=======
     "prompt_number": 6
>>>>>>> class/master
    },
    {
     "cell_type": "code",
     "collapsed": false,
     "input": [
      "# discussion"
     ],
     "language": "python",
     "metadata": {},
     "outputs": []
    },
    {
     "cell_type": "markdown",
     "metadata": {},
     "source": [
      "# 2. APIs"
     ]
    },
    {
     "cell_type": "markdown",
     "metadata": {},
     "source": [
      "- What's an API? (and why do we care?)"
     ]
    },
    {
     "cell_type": "markdown",
     "metadata": {},
     "source": [
      "## 2.a A simple web request"
     ]
    },
    {
     "cell_type": "code",
     "collapsed": false,
     "input": [
      "import urllib\n",
      "\n",
      "def get_historical_prices(symbol, start_date, end_date):\n",
      "    \"\"\"\n",
      "    Get historical prices for the given ticker symbol.\n",
      "    Date format is 'YYYYMMDD'\n",
      "    \n",
      "    Returns a json list.\n",
      "    \"\"\"\n",
      "    url = 'http://ichart.yahoo.com/table.csv?s=%s&' % symbol + \\\n",
      "          'd=%s&' % str(int(end_date[4:6]) - 1) + \\\n",
      "          'e=%s&' % str(int(end_date[6:8])) + \\\n",
      "          'f=%s&' % str(int(end_date[0:4])) + \\\n",
      "          'g=d&' + \\\n",
      "          'a=%s&' % str(int(start_date[4:6]) - 1) + \\\n",
      "          'b=%s&' % str(int(start_date[6:8])) + \\\n",
      "          'c=%s&' % str(int(start_date[0:4])) + \\\n",
      "          'ignore=.csv'\n",
      "    days = urllib.urlopen(url).readlines()\n",
      "    data = [day[:-2].split(',') for day in days]\n",
      "    return data"
     ],
     "language": "python",
     "metadata": {},
     "outputs": [],
<<<<<<< HEAD
     "prompt_number": 29
=======
     "prompt_number": 17
>>>>>>> class/master
    },
    {
     "cell_type": "code",
     "collapsed": false,
     "input": [
      "get_historical_prices('GOOG', '20140101', '20140106')"
     ],
     "language": "python",
     "metadata": {},
     "outputs": [
      {
       "metadata": {},
       "output_type": "pyout",
<<<<<<< HEAD
       "prompt_number": 30,
=======
       "prompt_number": 12,
>>>>>>> class/master
       "text": [
        "[['Date', 'Open', 'High', 'Low', 'Close', 'Volume', 'Adj Clos'],\n",
        " ['2014-01-06',\n",
        "  '1113.01',\n",
        "  '1118.86',\n",
        "  '1106.44',\n",
        "  '1117.32',\n",
        "  '1769300',\n",
        "  '1117.3'],\n",
        " ['2014-01-03',\n",
        "  '1115.00',\n",
        "  '1116.93',\n",
        "  '1104.93',\n",
        "  '1105.00',\n",
        "  '1666700',\n",
        "  '1105.0'],\n",
        " ['2014-01-02',\n",
        "  '1115.46',\n",
        "  '1117.75',\n",
        "  '1108.26',\n",
        "  '1113.12',\n",
        "  '1821400',\n",
        "  '1113.1']]"
       ]
      }
     ],
<<<<<<< HEAD
     "prompt_number": 30
=======
     "prompt_number": 12
>>>>>>> class/master
    },
    {
     "cell_type": "code",
     "collapsed": false,
     "input": [
      "# obtain the prices of Yahoo for the past month and insert them in a Pandas Dataframe\n",
      "\n",
      "prices =get_historical_prices('YHOO', '20140217', '20140317')\n",
      "\n",
      "df = pd.DataFrame(prices[1:], columns= prices[0], dtype=int).set_index('Date')\n",
      "df.head()"
     ],
     "language": "python",
     "metadata": {},
     "outputs": [
      {
       "html": [
        "<div style=\"max-height:1000px;max-width:1500px;overflow:auto;\">\n",
        "<table border=\"1\" class=\"dataframe\">\n",
        "  <thead>\n",
        "    <tr style=\"text-align: right;\">\n",
        "      <th></th>\n",
        "      <th>Open</th>\n",
        "      <th>High</th>\n",
        "      <th>Low</th>\n",
        "      <th>Close</th>\n",
        "      <th>Volume</th>\n",
        "      <th>Adj Clos</th>\n",
        "    </tr>\n",
        "    <tr>\n",
        "      <th>Date</th>\n",
        "      <th></th>\n",
        "      <th></th>\n",
        "      <th></th>\n",
        "      <th></th>\n",
        "      <th></th>\n",
        "      <th></th>\n",
        "    </tr>\n",
        "  </thead>\n",
        "  <tbody>\n",
        "    <tr>\n",
        "      <th>2014-03-17</th>\n",
        "      <td> 39.00</td>\n",
        "      <td> 39.36</td>\n",
        "      <td> 38.61</td>\n",
        "      <td> 39.11</td>\n",
        "      <td> 29627500</td>\n",
        "      <td> 39.1</td>\n",
        "    </tr>\n",
        "    <tr>\n",
        "      <th>2014-03-14</th>\n",
        "      <td> 36.69</td>\n",
        "      <td> 38.19</td>\n",
        "      <td> 36.45</td>\n",
        "      <td> 37.60</td>\n",
        "      <td> 30842700</td>\n",
        "      <td> 37.6</td>\n",
        "    </tr>\n",
        "    <tr>\n",
        "      <th>2014-03-13</th>\n",
        "      <td> 38.05</td>\n",
        "      <td> 38.42</td>\n",
        "      <td> 36.81</td>\n",
        "      <td> 37.23</td>\n",
        "      <td> 21179700</td>\n",
        "      <td> 37.2</td>\n",
        "    </tr>\n",
        "    <tr>\n",
        "      <th>2014-03-12</th>\n",
        "      <td> 37.21</td>\n",
        "      <td> 37.61</td>\n",
        "      <td> 36.48</td>\n",
        "      <td> 37.50</td>\n",
        "      <td> 14794700</td>\n",
        "      <td> 37.5</td>\n",
        "    </tr>\n",
        "    <tr>\n",
        "      <th>2014-03-11</th>\n",
        "      <td> 38.25</td>\n",
        "      <td> 38.30</td>\n",
        "      <td> 37.43</td>\n",
        "      <td> 37.56</td>\n",
        "      <td> 12609200</td>\n",
        "      <td> 37.5</td>\n",
        "    </tr>\n",
        "  </tbody>\n",
        "</table>\n",
        "<p>5 rows \u00d7 6 columns</p>\n",
        "</div>"
       ],
       "metadata": {},
       "output_type": "pyout",
<<<<<<< HEAD
       "prompt_number": 37,
=======
       "prompt_number": 23,
>>>>>>> class/master
       "text": [
        "             Open   High    Low  Close    Volume Adj Clos\n",
        "Date                                                     \n",
        "2014-03-17  39.00  39.36  38.61  39.11  29627500     39.1\n",
        "2014-03-14  36.69  38.19  36.45  37.60  30842700     37.6\n",
        "2014-03-13  38.05  38.42  36.81  37.23  21179700     37.2\n",
        "2014-03-12  37.21  37.61  36.48  37.50  14794700     37.5\n",
        "2014-03-11  38.25  38.30  37.43  37.56  12609200     37.5\n",
        "\n",
        "[5 rows x 6 columns]"
       ]
      }
     ],
<<<<<<< HEAD
     "prompt_number": 37
=======
     "prompt_number": 23
>>>>>>> class/master
    },
    {
     "cell_type": "code",
     "collapsed": false,
     "input": [
      "df.info()"
     ],
     "language": "python",
     "metadata": {},
     "outputs": [
      {
       "output_type": "stream",
       "stream": "stdout",
       "text": [
        "<class 'pandas.core.frame.DataFrame'>\n",
        "Index: 20 entries, 2014-03-17 to 2014-02-18\n",
        "Data columns (total 6 columns):\n",
        "Open        20 non-null object\n",
        "High        20 non-null object\n",
        "Low         20 non-null object\n",
        "Close       20 non-null object\n",
        "Volume      20 non-null int64\n",
        "Adj Clos    20 non-null object\n",
        "dtypes: int64(1), object(5)"
       ]
      }
     ],
     "prompt_number": 25
    },
    {
     "cell_type": "code",
     "collapsed": false,
     "input": [
      "# use the DataFrame method plot() to plot the Open, High, Low, Close curves\n",
      "\n",
      "df.Open[0]"
     ],
     "language": "python",
     "metadata": {},
     "outputs": [
      {
       "metadata": {},
       "output_type": "pyout",
       "prompt_number": 24,
       "text": [
        "'39.00'"
       ]
      }
     ],
     "prompt_number": 24
    },
    {
     "cell_type": "markdown",
     "metadata": {},
     "source": [
      "## 2.b Unstructured data"
     ]
    },
    {
     "cell_type": "markdown",
     "metadata": {
      "slideshow": {
       "slide_type": "slide"
      }
     },
     "source": [
      "#### HTTP requests can be handled easily using Python's `requests` library.\n",
      "\n",
      "First we will load our credentials which we keep in a [YAML](http://www.yaml.org/) file for safe keeping."
     ]
    },
    {
     "cell_type": "code",
     "collapsed": false,
     "input": [
      "import yaml\n",
      "credentials = yaml.load(open('/Users/francescomosconi/api_cred.yml'))"
     ],
     "language": "python",
     "metadata": {
      "slideshow": {
       "slide_type": "fragment"
      }
     },
<<<<<<< HEAD
     "outputs": [
      {
       "ename": "IOError",
       "evalue": "[Errno 2] No such file or directory: '/Users/francescomosconi/api_cred.yml'",
       "output_type": "pyerr",
       "traceback": [
        "\u001b[0;31m---------------------------------------------------------------------------\u001b[0m\n\u001b[0;31mIOError\u001b[0m                                   Traceback (most recent call last)",
        "\u001b[0;32m<ipython-input-38-c27387866d68>\u001b[0m in \u001b[0;36m<module>\u001b[0;34m()\u001b[0m\n\u001b[1;32m      1\u001b[0m \u001b[0;32mimport\u001b[0m \u001b[0myaml\u001b[0m\u001b[0;34m\u001b[0m\u001b[0m\n\u001b[0;32m----> 2\u001b[0;31m \u001b[0mcredentials\u001b[0m \u001b[0;34m=\u001b[0m \u001b[0myaml\u001b[0m\u001b[0;34m.\u001b[0m\u001b[0mload\u001b[0m\u001b[0;34m(\u001b[0m\u001b[0mopen\u001b[0m\u001b[0;34m(\u001b[0m\u001b[0;34m'/Users/francescomosconi/api_cred.yml'\u001b[0m\u001b[0;34m)\u001b[0m\u001b[0;34m)\u001b[0m\u001b[0;34m\u001b[0m\u001b[0m\n\u001b[0m",
        "\u001b[0;31mIOError\u001b[0m: [Errno 2] No such file or directory: '/Users/francescomosconi/api_cred.yml'"
       ]
      }
     ],
     "prompt_number": 38
=======
     "outputs": [],
     "prompt_number": 26
>>>>>>> class/master
    },
    {
     "cell_type": "markdown",
     "metadata": {
      "slideshow": {
       "slide_type": "fragment"
      }
     },
     "source": [
      "Then we pass those credentials in to a GET request using the requests library. In this case, I am querying my own user data from Github:"
     ]
    },
    {
     "cell_type": "code",
     "collapsed": false,
     "input": [
      "import requests\n",
      "r = requests.get('https://api.github.com/user', \n",
      "                 auth=(credentials['USER'], credentials['PASS']))"
     ],
     "language": "python",
     "metadata": {
      "slideshow": {
       "slide_type": "fragment"
      }
     },
     "outputs": [],
     "prompt_number": 27
    },
    {
     "cell_type": "markdown",
     "metadata": {
      "slideshow": {
       "slide_type": "fragment"
      }
     },
     "source": [
      "Requests gives us an object from which we can read its content."
     ]
    },
    {
     "cell_type": "code",
     "collapsed": false,
     "input": [
      "r.content"
     ],
     "language": "python",
     "metadata": {
      "slideshow": {
       "slide_type": "fragment"
      }
     },
     "outputs": [
      {
       "metadata": {},
       "output_type": "pyout",
       "prompt_number": 28,
       "text": [
        "'{\"login\":\"ghego\",\"id\":837725,\"avatar_url\":\"https://avatars.githubusercontent.com/u/837725?\",\"gravatar_id\":null,\"url\":\"https://api.github.com/users/ghego\",\"html_url\":\"https://github.com/ghego\",\"followers_url\":\"https://api.github.com/users/ghego/followers\",\"following_url\":\"https://api.github.com/users/ghego/following{/other_user}\",\"gists_url\":\"https://api.github.com/users/ghego/gists{/gist_id}\",\"starred_url\":\"https://api.github.com/users/ghego/starred{/owner}{/repo}\",\"subscriptions_url\":\"https://api.github.com/users/ghego/subscriptions\",\"organizations_url\":\"https://api.github.com/users/ghego/orgs\",\"repos_url\":\"https://api.github.com/users/ghego/repos\",\"events_url\":\"https://api.github.com/users/ghego/events{/privacy}\",\"received_events_url\":\"https://api.github.com/users/ghego/received_events\",\"type\":\"User\",\"site_admin\":false,\"name\":\"Francesco Mosconi\",\"company\":null,\"blog\":null,\"location\":null,\"email\":\"git@mosconi.me\",\"hireable\":false,\"bio\":null,\"public_repos\":1,\"public_gists\":3,\"followers\":1,\"following\":2,\"created_at\":\"2011-06-08T14:36:31Z\",\"updated_at\":\"2014-03-18T00:35:09Z\",\"private_gists\":0,\"total_private_repos\":3,\"owned_private_repos\":3,\"disk_usage\":560,\"collaborators\":1,\"plan\":{\"name\":\"micro\",\"space\":614400,\"collaborators\":1,\"private_repos\":5}}'"
       ]
      }
     ],
     "prompt_number": 28
    },
    {
     "cell_type": "markdown",
     "metadata": {
      "slideshow": {
       "slide_type": "subslide"
      }
     },
     "source": [
      "#### One of the reasons we like JSON is that it is easy to transform into a Python `dict` object using the `json` library:"
     ]
    },
    {
     "cell_type": "code",
     "collapsed": false,
     "input": [
      "import json\n",
      "user = json.loads(r.content)\n",
      "user"
     ],
     "language": "python",
     "metadata": {
      "slideshow": {
       "slide_type": "fragment"
      }
     },
     "outputs": [
      {
       "metadata": {},
       "output_type": "pyout",
       "prompt_number": 29,
       "text": [
        "{u'avatar_url': u'https://avatars.githubusercontent.com/u/837725?',\n",
        " u'bio': None,\n",
        " u'blog': None,\n",
        " u'collaborators': 1,\n",
        " u'company': None,\n",
        " u'created_at': u'2011-06-08T14:36:31Z',\n",
        " u'disk_usage': 560,\n",
        " u'email': u'git@mosconi.me',\n",
        " u'events_url': u'https://api.github.com/users/ghego/events{/privacy}',\n",
        " u'followers': 1,\n",
        " u'followers_url': u'https://api.github.com/users/ghego/followers',\n",
        " u'following': 2,\n",
        " u'following_url': u'https://api.github.com/users/ghego/following{/other_user}',\n",
        " u'gists_url': u'https://api.github.com/users/ghego/gists{/gist_id}',\n",
        " u'gravatar_id': None,\n",
        " u'hireable': False,\n",
        " u'html_url': u'https://github.com/ghego',\n",
        " u'id': 837725,\n",
        " u'location': None,\n",
        " u'login': u'ghego',\n",
        " u'name': u'Francesco Mosconi',\n",
        " u'organizations_url': u'https://api.github.com/users/ghego/orgs',\n",
        " u'owned_private_repos': 3,\n",
        " u'plan': {u'collaborators': 1,\n",
        "  u'name': u'micro',\n",
        "  u'private_repos': 5,\n",
        "  u'space': 614400},\n",
        " u'private_gists': 0,\n",
        " u'public_gists': 3,\n",
        " u'public_repos': 1,\n",
        " u'received_events_url': u'https://api.github.com/users/ghego/received_events',\n",
        " u'repos_url': u'https://api.github.com/users/ghego/repos',\n",
        " u'site_admin': False,\n",
        " u'starred_url': u'https://api.github.com/users/ghego/starred{/owner}{/repo}',\n",
        " u'subscriptions_url': u'https://api.github.com/users/ghego/subscriptions',\n",
        " u'total_private_repos': 3,\n",
        " u'type': u'User',\n",
        " u'updated_at': u'2014-03-18T00:35:09Z',\n",
        " u'url': u'https://api.github.com/users/ghego'}"
       ]
      }
     ],
     "prompt_number": 29
    },
    {
     "cell_type": "code",
     "collapsed": false,
     "input": [
      "print user.keys()"
     ],
     "language": "python",
     "metadata": {
      "slideshow": {
       "slide_type": "skip"
      }
     },
     "outputs": [
      {
       "output_type": "stream",
       "stream": "stdout",
       "text": [
        "[u'disk_usage', u'private_gists', u'public_repos', u'site_admin', u'subscriptions_url', u'gravatar_id', u'hireable', u'id', u'followers_url', u'following_url', u'collaborators', u'total_private_repos', u'blog', u'followers', u'location', u'type', u'email', u'bio', u'gists_url', u'owned_private_repos', u'company', u'events_url', u'html_url', u'updated_at', u'plan', u'received_events_url', u'starred_url', u'public_gists', u'name', u'organizations_url', u'url', u'created_at', u'avatar_url', u'repos_url', u'following', u'login']\n"
       ]
      }
     ],
     "prompt_number": 30
    },
    {
     "cell_type": "markdown",
     "metadata": {
      "slideshow": {
       "slide_type": "subslide"
      }
     },
     "source": [
      "We can access values in this dict directly (such as my hireable status) and even render the url of my avatar:"
     ]
    },
    {
     "cell_type": "code",
     "collapsed": false,
     "input": [
      "from IPython.display import HTML\n",
      "print \"Hireable: {}\".format(user.get('hireable'))\n",
      "HTML('<img src={} />'.format(user.get('avatar_url')))"
     ],
     "language": "python",
     "metadata": {
      "slideshow": {
       "slide_type": "fragment"
      }
     },
     "outputs": [
      {
       "output_type": "stream",
       "stream": "stdout",
       "text": [
        "Hireable: False\n"
       ]
      },
      {
       "html": [
        "<img src=https://avatars.githubusercontent.com/u/837725? />"
       ],
       "metadata": {},
       "output_type": "pyout",
       "prompt_number": 31,
       "text": [
        "<IPython.core.display.HTML at 0x108243a10>"
       ]
      }
     ],
     "prompt_number": 31
    },
    {
     "cell_type": "heading",
     "level": 1,
     "metadata": {
      "slideshow": {
       "slide_type": "slide"
      }
     },
     "source": [
      "Twitter API"
     ]
    },
    {
     "cell_type": "markdown",
     "metadata": {
      "slideshow": {
       "slide_type": "notes"
      }
     },
     "source": [
      "Twitter has no less than 10 python libraries. We'll be using Python Twitter Tools because it's what's used in Mining the Social Web."
     ]
    },
    {
     "cell_type": "markdown",
     "metadata": {
      "slideshow": {
       "slide_type": "skip"
      }
     },
     "source": [
      "#### Some services (like Twitter) have released Python libraries of their own to make using their API even easier."
     ]
    },
    {
     "cell_type": "code",
     "collapsed": false,
     "input": [
      "import twitter\n",
      "\n",
      "auth = twitter.oauth.OAuth(credentials['OAUTH_TOKEN'], \n",
      "                           credentials['OAUTH_TOKEN_SECRET'],\n",
      "                           credentials['CONSUMER_KEY'],\n",
      "                           credentials['CONSUMER_SECRET'])\n",
      "\n",
      "twitter_api = twitter.Twitter(auth=auth)\n",
      "\n",
      "print twitter_api"
     ],
     "language": "python",
     "metadata": {
      "slideshow": {
       "slide_type": "slide"
      }
     },
     "outputs": [
      {
       "output_type": "stream",
       "stream": "stdout",
       "text": [
        "<twitter.api.Twitter object at 0x1082b6dd0>\n"
       ]
      }
     ],
     "prompt_number": 32
    },
    {
     "cell_type": "markdown",
     "metadata": {
      "slideshow": {
       "slide_type": "skip"
      }
     },
     "source": [
      "#### Using a library like this, we don't even need to specify the URL (that's handled internally)."
     ]
    },
    {
     "cell_type": "markdown",
     "metadata": {
      "slideshow": {
       "slide_type": "slide"
      }
     },
     "source": [
      "Using a library like this, it's easy to do something like search for tweets mentioning `#bigdata`  \n",
      "\n",
      "The results are transformed into a Python object (which in this case is a thin wrapper around a `dict`)"
     ]
    },
    {
     "cell_type": "code",
     "collapsed": false,
     "input": [
      "bigdata = twitter_api.search.tweets(q='#bigdata', count=5)\n",
      "type(bigdata)"
     ],
     "language": "python",
     "metadata": {
      "slideshow": {
       "slide_type": "fragment"
      }
     },
     "outputs": [
      {
       "metadata": {},
       "output_type": "pyout",
       "prompt_number": 33,
       "text": [
        "twitter.api.WrappedTwitterResponse"
       ]
      }
     ],
     "prompt_number": 33
    },
    {
     "cell_type": "code",
     "collapsed": false,
     "input": [
      "for status in bigdata['statuses']:\n",
      "    print status.get('text')"
     ],
     "language": "python",
     "metadata": {
      "slideshow": {
       "slide_type": "fragment"
      }
     },
     "outputs": [
      {
       "output_type": "stream",
       "stream": "stdout",
       "text": [
        "Top 5 cities with largest probabilty to find a relationship - from Facebook Data Science team #bigdata http://t.co/3xInEVmtu8\n",
        "http://t.co/bGBKLPH7oA http://t.co/kk3k6m4esQ #bigdata\n",
        "Oracle: A Tortoise That Looks Set to Outpace the Hares: Last year, cloud storage and big data ... http://t.co/e3z3deiKAX #bigdata #blogs\n",
        "RT @drummonds: The #HongKong #BigData community meets again tonight in Wanchai.  Hope you can join us.  https://t.co/bBZjjPISN6\n",
        "Rank which category will have the most #IoT #smartobjects creating #bigdata by the end of 2015?  https://t.co/IrmtQKGZzM Will share results.\n"
       ]
      }
     ],
     "prompt_number": 34
    },
    {
     "cell_type": "markdown",
     "metadata": {
      "slideshow": {
       "slide_type": "slide"
      }
     },
     "source": [
      "# Twitter lab\n",
      "[http://tinyurl.com/GAtwitterlab](http://nbviewer.ipython.org/github/ptwobrussell/Mining-the-Social-Web-2nd-Edition/blob/master/ipynb/Chapter%201%20-%20Mining%20Twitter.ipynb) up through Exercise 5"
     ]
    },
    {
     "cell_type": "markdown",
     "metadata": {},
     "source": [
      "Useful links:\n",
      "\n",
      "[Mining the Social Web](https://github.com/ptwobrussell/Mining-the-Social-Web-2nd-Edition)"
     ]
    },
    {
     "cell_type": "code",
     "collapsed": false,
     "input": [
      "!pip install twitter"
     ],
     "language": "python",
     "metadata": {},
     "outputs": [
      {
       "output_type": "stream",
       "stream": "stdout",
       "text": [
<<<<<<< HEAD
        "Downloading/unpacking twitter\r\n"
       ]
      },
      {
       "output_type": "stream",
       "stream": "stdout",
       "text": [
        "  Downloading twitter-1.14.1-py2.py3-none-any.whl (50kB): \r",
        "  Downloading twitter-1.14.1-py2.py3-none-any.whl (50kB):   8%  4.1kB\r",
        "  Downloading twitter-1.14.1-py2.py3-none-any.whl (50kB):  16%  8.2kB"
       ]
      },
      {
       "output_type": "stream",
       "stream": "stdout",
       "text": [
        "\r",
        "  Downloading twitter-1.14.1-py2.py3-none-any.whl (50kB):  24%  12kB \r",
        "  Downloading twitter-1.14.1-py2.py3-none-any.whl (50kB):  32%  16kB\r",
        "  Downloading twitter-1.14.1-py2.py3-none-any.whl (50kB):  40%  20kB"
       ]
      },
      {
       "output_type": "stream",
       "stream": "stdout",
       "text": [
        "\r",
        "  Downloading twitter-1.14.1-py2.py3-none-any.whl (50kB):  48%  24kB\r",
        "  Downloading twitter-1.14.1-py2.py3-none-any.whl (50kB):  57%  28kB\r",
        "  Downloading twitter-1.14.1-py2.py3-none-any.whl (50kB):  65%  32kB"
       ]
      },
      {
       "output_type": "stream",
       "stream": "stdout",
       "text": [
        "\r",
        "  Downloading twitter-1.14.1-py2.py3-none-any.whl (50kB):  73%  36kB\r",
        "  Downloading twitter-1.14.1-py2.py3-none-any.whl (50kB):  81%  40kB\r",
        "  Downloading twitter-1.14.1-py2.py3-none-any.whl (50kB):  89%  45kB\r",
        "  Downloading twitter-1.14.1-py2.py3-none-any.whl (50kB):  97%  49kB"
       ]
      },
      {
       "output_type": "stream",
       "stream": "stdout",
       "text": [
        "\r",
        "  Downloading twitter-1.14.1-py2.py3-none-any.whl (50kB): 100%  50kB\r",
        "  Downloading twitter-1.14.1-py2.py3-none-any.whl (50kB):           \r",
        "  Downloading twitter-1.14.1-py2.py3-none-any.whl (50kB): 50kB downloaded\r\n",
        "Installing collected packages: twitter\r\n"
       ]
      },
      {
       "output_type": "stream",
       "stream": "stdout",
       "text": [
        "Successfully installed twitter\r\n",
=======
        "Requirement already satisfied (use --upgrade to upgrade): twitter in /Users/francescomosconi/anaconda/lib/python2.7/site-packages\r\n",
>>>>>>> class/master
        "Cleaning up...\r\n"
       ]
      }
     ],
<<<<<<< HEAD
     "prompt_number": 39
=======
     "prompt_number": 35
>>>>>>> class/master
    },
    {
     "cell_type": "code",
     "collapsed": false,
     "input": [
      "import twitter"
     ],
     "language": "python",
     "metadata": {},
     "outputs": [],
<<<<<<< HEAD
     "prompt_number": 40
=======
     "prompt_number": 36
>>>>>>> class/master
    },
    {
     "cell_type": "code",
     "collapsed": false,
     "input": [
<<<<<<< HEAD
      "CONSUMER_KEY = 'vSJnQ9L69OMNJvqeBlfc2Q'\n",
      "CONSUMER_SECRET ='Zujm9x1L4dPpwCH4eqklq4xAfjwZ19KKWF7J2EzXI'\n",
      "OAUTH_TOKEN = '25964199-nRNPZRlWUTTmmIjeBi8ag2qe4R5WMWfr8mS7swAby'\n",
      "OAUTH_TOKEN_SECRET = 'ft1fxpiDUQw5TMzdO4FY4ZHsqa2j23lIexiKDoEFhMDrb'"
=======
      "CONSUMER_KEY = 'kU89M3iTVbkNhnA7b1WD9A'\n",
      "CONSUMER_SECRET ='E2erSrX5DeUByOzm2Rn4uI1SsXI2v7UTvWSDe4sDs'\n",
      "OAUTH_TOKEN = '54150531-lrpWlsun1FSq4zU81fFK03UFwLZPAfOYSr3zzY68T'\n",
      "OAUTH_TOKEN_SECRET = '8JzJx1kPv3l6rq4IBFgPZYyUloMzcPKr2r7SrBstCmiz6'"
>>>>>>> class/master
     ],
     "language": "python",
     "metadata": {},
     "outputs": [],
<<<<<<< HEAD
     "prompt_number": 41
=======
     "prompt_number": 37
>>>>>>> class/master
    },
    {
     "cell_type": "code",
     "collapsed": false,
     "input": [
      "auth = twitter.oauth.OAuth(OAUTH_TOKEN, OAUTH_TOKEN_SECRET,\n",
      "                           CONSUMER_KEY, CONSUMER_SECRET)\n",
      "\n",
      "twitter_api = twitter.Twitter(auth=auth)\n",
      "\n",
      "# Nothing to see by displaying twitter_api except that it's now a\n",
      "# defined variable\n",
      "\n",
      "print twitter_api"
     ],
     "language": "python",
     "metadata": {},
     "outputs": [
      {
       "output_type": "stream",
       "stream": "stdout",
       "text": [
<<<<<<< HEAD
        "<twitter.api.Twitter object at 0x1007c0310>\n"
       ]
      }
     ],
     "prompt_number": 42
=======
        "<twitter.api.Twitter object at 0x1082d5750>\n"
       ]
      }
     ],
     "prompt_number": 38
>>>>>>> class/master
    },
    {
     "cell_type": "code",
     "collapsed": false,
     "input": [
<<<<<<< HEAD
      "WORLD_WOE_ID = 1\n",
      "US_WOE_ID = 23424977"
     ],
     "language": "python",
     "metadata": {},
     "outputs": [],
     "prompt_number": 43
    },
    {
     "cell_type": "code",
     "collapsed": false,
     "input": [
=======
      "# The Yahoo! Where On Earth ID for the entire world is 1.\n",
      "# See https://dev.twitter.com/docs/api/1.1/get/trends/place and\n",
      "# http://developer.yahoo.com/geo/geoplanet/\n",
      "\n",
      "WORLD_WOE_ID = 1\n",
      "US_WOE_ID = 23424977\n",
      "\n",
      "# Prefix ID with the underscore for query string parameterization.\n",
      "# Without the underscore, the twitter package appends the ID value\n",
      "# to the URL itself as a special case keyword argument.\n",
      "\n",
>>>>>>> class/master
      "world_trends = twitter_api.trends.place(_id=WORLD_WOE_ID)\n",
      "us_trends = twitter_api.trends.place(_id=US_WOE_ID)\n",
      "\n",
      "print world_trends\n",
      "print\n",
      "print us_trends"
     ],
     "language": "python",
     "metadata": {},
     "outputs": [
      {
       "output_type": "stream",
       "stream": "stdout",
       "text": [
<<<<<<< HEAD
        "[{u'created_at': u'2014-03-18T03:58:05Z', u'trends': [{u'url': u'http://twitter.com/search?q=%23CosasDeMujeres', u'query': u'%23CosasDeMujeres', u'name': u'#CosasDeMujeres', u'promoted_content': None, u'events': None}, {u'url': u'http://twitter.com/search?q=%23OdioCuandoLaGenteDice', u'query': u'%23OdioCuandoLaGenteDice', u'name': u'#OdioCuandoLaGenteDice', u'promoted_content': None, u'events': None}, {u'url': u'http://twitter.com/search?q=%23RonniesNewVideo', u'query': u'%23RonniesNewVideo', u'name': u'#RonniesNewVideo', u'promoted_content': None, u'events': None}, {u'url': u'http://twitter.com/search?q=%23JoseEsUnChucky', u'query': u'%23JoseEsUnChucky', u'name': u'#JoseEsUnChucky', u'promoted_content': None, u'events': None}, {u'url': u'http://twitter.com/search?q=%23TeDariaBolaPero', u'query': u'%23TeDariaBolaPero', u'name': u'#TeDariaBolaPero', u'promoted_content': None, u'events': None}, {u'url': u'http://twitter.com/search?q=Allison', u'query': u'Allison', u'name': u'Allison', u'promoted_content': None, u'events': None}, {u'url': u'http://twitter.com/search?q=%22Dancing+With+the+Stars%22', u'query': u'%22Dancing+With+the+Stars%22', u'name': u'Dancing With the Stars', u'promoted_content': None, u'events': None}, {u'url': u'http://twitter.com/search?q=%22Luke+Bryan%22', u'query': u'%22Luke+Bryan%22', u'name': u'Luke Bryan', u'promoted_content': None, u'events': None}, {u'url': u'http://twitter.com/search?q=%22Bates+Motel%22', u'query': u'%22Bates+Motel%22', u'name': u'Bates Motel', u'promoted_content': None, u'events': None}, {u'url': u'http://twitter.com/search?q=Netflix', u'query': u'Netflix', u'name': u'Netflix', u'promoted_content': None, u'events': None}], u'as_of': u'2014-03-18T04:06:26Z', u'locations': [{u'woeid': 1, u'name': u'Worldwide'}]}]\n",
        "\n",
        "[{u'created_at': u'2014-03-18T04:02:07Z', u'trends': [{u'url': u'http://twitter.com/search?q=%23RIPAllison', u'query': u'%23RIPAllison', u'name': u'#RIPAllison', u'promoted_content': None, u'events': None}, {u'url': u'http://twitter.com/search?q=%23YouCanStayIf', u'query': u'%23YouCanStayIf', u'name': u'#YouCanStayIf', u'promoted_content': None, u'events': None}, {u'url': u'http://twitter.com/search?q=%23StPickupsDay', u'query': u'%23StPickupsDay', u'name': u'#StPickupsDay', u'promoted_content': None, u'events': None}, {u'url': u'http://twitter.com/search?q=%23RonniesNewVideo', u'query': u'%23RonniesNewVideo', u'name': u'#RonniesNewVideo', u'promoted_content': None, u'events': None}, {u'url': u'http://twitter.com/search?q=%22James+Spader%22', u'query': u'%22James+Spader%22', u'name': u'James Spader', u'promoted_content': None, u'events': None}, {u'url': u'http://twitter.com/search?q=%23ThePeoplesCouch', u'query': u'%23ThePeoplesCouch', u'name': u'#ThePeoplesCouch', u'promoted_content': None, u'events': None}, {u'url': u'http://twitter.com/search?q=%22Jeff+Davis%22', u'query': u'%22Jeff+Davis%22', u'name': u'Jeff Davis', u'promoted_content': None, u'events': None}, {u'url': u'http://twitter.com/search?q=%22Teen+Wolf%22', u'query': u'%22Teen+Wolf%22', u'name': u'Teen Wolf', u'promoted_content': None, u'events': None}, {u'url': u'http://twitter.com/search?q=%22Chris+Paul%22', u'query': u'%22Chris+Paul%22', u'name': u'Chris Paul', u'promoted_content': None, u'events': None}, {u'url': u'http://twitter.com/search?q=%22Luke+Bryan%22', u'query': u'%22Luke+Bryan%22', u'name': u'Luke Bryan', u'promoted_content': None, u'events': None}], u'as_of': u'2014-03-18T04:06:27Z', u'locations': [{u'woeid': 23424977, u'name': u'United States'}]}]\n"
       ]
      }
     ],
     "prompt_number": 44
=======
        "[{u'created_at': u'2014-03-18T04:10:32Z', u'trends': [{u'url': u'http://twitter.com/search?q=%2318Mart%C5%9Eehitleri%C3%96l%C3%BCms%C3%BCzd%C3%BCr', u'query': u'%2318Mart%C5%9Eehitleri%C3%96l%C3%BCms%C3%BCzd%C3%BCr', u'name': u'#18Mart\\u015eehitleri\\xd6l\\xfcms\\xfczd\\xfcr', u'promoted_content': None, u'events': None}, {u'url': u'http://twitter.com/search?q=%23SabesQueTeEst%C3%A1sEnamorandoCuando', u'query': u'%23SabesQueTeEst%C3%A1sEnamorandoCuando', u'name': u'#SabesQueTeEst\\xe1sEnamorandoCuando', u'promoted_content': None, u'events': None}, {u'url': u'http://twitter.com/search?q=%23OjalaAlgunDia', u'query': u'%23OjalaAlgunDia', u'name': u'#OjalaAlgunDia', u'promoted_content': None, u'events': None}, {u'url': u'http://twitter.com/search?q=%23TOHEARTASC', u'query': u'%23TOHEARTASC', u'name': u'#TOHEARTASC', u'promoted_content': None, u'events': None}, {u'url': u'http://twitter.com/search?q=%23TeDariaBolaPero', u'query': u'%23TeDariaBolaPero', u'name': u'#TeDariaBolaPero', u'promoted_content': None, u'events': None}, {u'url': u'http://twitter.com/search?q=%22Jalen+Rose%22', u'query': u'%22Jalen+Rose%22', u'name': u'Jalen Rose', u'promoted_content': None, u'events': None}, {u'url': u'http://twitter.com/search?q=%22Jim+Beam%22', u'query': u'%22Jim+Beam%22', u'name': u'Jim Beam', u'promoted_content': None, u'events': None}, {u'url': u'http://twitter.com/search?q=Allison', u'query': u'Allison', u'name': u'Allison', u'promoted_content': None, u'events': None}, {u'url': u'http://twitter.com/search?q=%22Happy+St.+Patrick%27s+Day%22', u'query': u'%22Happy+St.+Patrick%27s+Day%22', u'name': u\"Happy St. Patrick's Day\", u'promoted_content': None, u'events': None}, {u'url': u'http://twitter.com/search?q=%22Mila+Kunis%22', u'query': u'%22Mila+Kunis%22', u'name': u'Mila Kunis', u'promoted_content': None, u'events': None}], u'as_of': u'2014-03-18T04:12:29Z', u'locations': [{u'woeid': 1, u'name': u'Worldwide'}]}]\n",
        "\n",
        "[{u'created_at': u'2014-03-18T04:06:20Z', u'trends': [{u'url': u'http://twitter.com/search?q=%23TOHEARTASC', u'query': u'%23TOHEARTASC', u'name': u'#TOHEARTASC', u'promoted_content': None, u'events': None}, {u'url': u'http://twitter.com/search?q=%23RIPAllison', u'query': u'%23RIPAllison', u'name': u'#RIPAllison', u'promoted_content': None, u'events': None}, {u'url': u'http://twitter.com/search?q=%23RollCallASC', u'query': u'%23RollCallASC', u'name': u'#RollCallASC', u'promoted_content': None, u'events': None}, {u'url': u'http://twitter.com/search?q=%23RonniesNewVideo', u'query': u'%23RonniesNewVideo', u'name': u'#RonniesNewVideo', u'promoted_content': None, u'events': None}, {u'url': u'http://twitter.com/search?q=%23YouCanStayIf', u'query': u'%23YouCanStayIf', u'name': u'#YouCanStayIf', u'promoted_content': None, u'events': None}, {u'url': u'http://twitter.com/search?q=%22James+Spader%22', u'query': u'%22James+Spader%22', u'name': u'James Spader', u'promoted_content': None, u'events': None}, {u'url': u'http://twitter.com/search?q=%22Jeff+Davis%22', u'query': u'%22Jeff+Davis%22', u'name': u'Jeff Davis', u'promoted_content': None, u'events': None}, {u'url': u'http://twitter.com/search?q=%22Teen+Wolf%22', u'query': u'%22Teen+Wolf%22', u'name': u'Teen Wolf', u'promoted_content': None, u'events': None}, {u'url': u'http://twitter.com/search?q=%22Hey+Arnold%22', u'query': u'%22Hey+Arnold%22', u'name': u'Hey Arnold', u'promoted_content': None, u'events': None}, {u'url': u'http://twitter.com/search?q=%22Luke+Bryan%22', u'query': u'%22Luke+Bryan%22', u'name': u'Luke Bryan', u'promoted_content': None, u'events': None}], u'as_of': u'2014-03-18T04:12:29Z', u'locations': [{u'woeid': 23424977, u'name': u'United States'}]}]\n"
       ]
      }
     ],
     "prompt_number": 42
>>>>>>> class/master
    },
    {
     "cell_type": "code",
     "collapsed": false,
     "input": [
      "import json\n",
      "\n",
      "print json.dumps(world_trends, indent=1)\n",
      "print\n",
      "print json.dumps(us_trends, indent=1)"
     ],
     "language": "python",
     "metadata": {},
     "outputs": [
      {
       "output_type": "stream",
       "stream": "stdout",
       "text": [
        "[\n",
        " {\n",
<<<<<<< HEAD
        "  \"created_at\": \"2014-03-18T03:58:05Z\", \n",
        "  \"trends\": [\n",
        "   {\n",
        "    \"url\": \"http://twitter.com/search?q=%23CosasDeMujeres\", \n",
        "    \"query\": \"%23CosasDeMujeres\", \n",
        "    \"name\": \"#CosasDeMujeres\", \n",
=======
        "  \"created_at\": \"2014-03-18T04:10:32Z\", \n",
        "  \"trends\": [\n",
        "   {\n",
        "    \"url\": \"http://twitter.com/search?q=%2318Mart%C5%9Eehitleri%C3%96l%C3%BCms%C3%BCzd%C3%BCr\", \n",
        "    \"query\": \"%2318Mart%C5%9Eehitleri%C3%96l%C3%BCms%C3%BCzd%C3%BCr\", \n",
        "    \"name\": \"#18Mart\\u015eehitleri\\u00d6l\\u00fcms\\u00fczd\\u00fcr\", \n",
>>>>>>> class/master
        "    \"promoted_content\": null, \n",
        "    \"events\": null\n",
        "   }, \n",
        "   {\n",
<<<<<<< HEAD
        "    \"url\": \"http://twitter.com/search?q=%23OdioCuandoLaGenteDice\", \n",
        "    \"query\": \"%23OdioCuandoLaGenteDice\", \n",
        "    \"name\": \"#OdioCuandoLaGenteDice\", \n",
=======
        "    \"url\": \"http://twitter.com/search?q=%23SabesQueTeEst%C3%A1sEnamorandoCuando\", \n",
        "    \"query\": \"%23SabesQueTeEst%C3%A1sEnamorandoCuando\", \n",
        "    \"name\": \"#SabesQueTeEst\\u00e1sEnamorandoCuando\", \n",
>>>>>>> class/master
        "    \"promoted_content\": null, \n",
        "    \"events\": null\n",
        "   }, \n",
        "   {\n",
<<<<<<< HEAD
        "    \"url\": \"http://twitter.com/search?q=%23RonniesNewVideo\", \n",
        "    \"query\": \"%23RonniesNewVideo\", \n",
        "    \"name\": \"#RonniesNewVideo\", \n",
=======
        "    \"url\": \"http://twitter.com/search?q=%23OjalaAlgunDia\", \n",
        "    \"query\": \"%23OjalaAlgunDia\", \n",
        "    \"name\": \"#OjalaAlgunDia\", \n",
>>>>>>> class/master
        "    \"promoted_content\": null, \n",
        "    \"events\": null\n",
        "   }, \n",
        "   {\n",
<<<<<<< HEAD
        "    \"url\": \"http://twitter.com/search?q=%23JoseEsUnChucky\", \n",
        "    \"query\": \"%23JoseEsUnChucky\", \n",
        "    \"name\": \"#JoseEsUnChucky\", \n",
=======
        "    \"url\": \"http://twitter.com/search?q=%23TOHEARTASC\", \n",
        "    \"query\": \"%23TOHEARTASC\", \n",
        "    \"name\": \"#TOHEARTASC\", \n",
>>>>>>> class/master
        "    \"promoted_content\": null, \n",
        "    \"events\": null\n",
        "   }, \n",
        "   {\n",
        "    \"url\": \"http://twitter.com/search?q=%23TeDariaBolaPero\", \n",
        "    \"query\": \"%23TeDariaBolaPero\", \n",
        "    \"name\": \"#TeDariaBolaPero\", \n",
        "    \"promoted_content\": null, \n",
        "    \"events\": null\n",
        "   }, \n",
        "   {\n",
<<<<<<< HEAD
        "    \"url\": \"http://twitter.com/search?q=Allison\", \n",
        "    \"query\": \"Allison\", \n",
        "    \"name\": \"Allison\", \n",
=======
        "    \"url\": \"http://twitter.com/search?q=%22Jalen+Rose%22\", \n",
        "    \"query\": \"%22Jalen+Rose%22\", \n",
        "    \"name\": \"Jalen Rose\", \n",
>>>>>>> class/master
        "    \"promoted_content\": null, \n",
        "    \"events\": null\n",
        "   }, \n",
        "   {\n",
<<<<<<< HEAD
        "    \"url\": \"http://twitter.com/search?q=%22Dancing+With+the+Stars%22\", \n",
        "    \"query\": \"%22Dancing+With+the+Stars%22\", \n",
        "    \"name\": \"Dancing With the Stars\", \n",
=======
        "    \"url\": \"http://twitter.com/search?q=%22Jim+Beam%22\", \n",
        "    \"query\": \"%22Jim+Beam%22\", \n",
        "    \"name\": \"Jim Beam\", \n",
>>>>>>> class/master
        "    \"promoted_content\": null, \n",
        "    \"events\": null\n",
        "   }, \n",
        "   {\n",
<<<<<<< HEAD
        "    \"url\": \"http://twitter.com/search?q=%22Luke+Bryan%22\", \n",
        "    \"query\": \"%22Luke+Bryan%22\", \n",
        "    \"name\": \"Luke Bryan\", \n",
=======
        "    \"url\": \"http://twitter.com/search?q=Allison\", \n",
        "    \"query\": \"Allison\", \n",
        "    \"name\": \"Allison\", \n",
>>>>>>> class/master
        "    \"promoted_content\": null, \n",
        "    \"events\": null\n",
        "   }, \n",
        "   {\n",
<<<<<<< HEAD
        "    \"url\": \"http://twitter.com/search?q=%22Bates+Motel%22\", \n",
        "    \"query\": \"%22Bates+Motel%22\", \n",
        "    \"name\": \"Bates Motel\", \n",
=======
        "    \"url\": \"http://twitter.com/search?q=%22Happy+St.+Patrick%27s+Day%22\", \n",
        "    \"query\": \"%22Happy+St.+Patrick%27s+Day%22\", \n",
        "    \"name\": \"Happy St. Patrick's Day\", \n",
>>>>>>> class/master
        "    \"promoted_content\": null, \n",
        "    \"events\": null\n",
        "   }, \n",
        "   {\n",
<<<<<<< HEAD
        "    \"url\": \"http://twitter.com/search?q=Netflix\", \n",
        "    \"query\": \"Netflix\", \n",
        "    \"name\": \"Netflix\", \n",
=======
        "    \"url\": \"http://twitter.com/search?q=%22Mila+Kunis%22\", \n",
        "    \"query\": \"%22Mila+Kunis%22\", \n",
        "    \"name\": \"Mila Kunis\", \n",
>>>>>>> class/master
        "    \"promoted_content\": null, \n",
        "    \"events\": null\n",
        "   }\n",
        "  ], \n",
<<<<<<< HEAD
        "  \"as_of\": \"2014-03-18T04:06:26Z\", \n",
=======
        "  \"as_of\": \"2014-03-18T04:12:29Z\", \n",
>>>>>>> class/master
        "  \"locations\": [\n",
        "   {\n",
        "    \"woeid\": 1, \n",
        "    \"name\": \"Worldwide\"\n",
        "   }\n",
        "  ]\n",
        " }\n",
        "]\n",
        "\n",
        "[\n",
        " {\n",
<<<<<<< HEAD
        "  \"created_at\": \"2014-03-18T04:02:07Z\", \n",
        "  \"trends\": [\n",
        "   {\n",
        "    \"url\": \"http://twitter.com/search?q=%23RIPAllison\", \n",
        "    \"query\": \"%23RIPAllison\", \n",
        "    \"name\": \"#RIPAllison\", \n",
=======
        "  \"created_at\": \"2014-03-18T04:06:20Z\", \n",
        "  \"trends\": [\n",
        "   {\n",
        "    \"url\": \"http://twitter.com/search?q=%23TOHEARTASC\", \n",
        "    \"query\": \"%23TOHEARTASC\", \n",
        "    \"name\": \"#TOHEARTASC\", \n",
>>>>>>> class/master
        "    \"promoted_content\": null, \n",
        "    \"events\": null\n",
        "   }, \n",
        "   {\n",
<<<<<<< HEAD
        "    \"url\": \"http://twitter.com/search?q=%23YouCanStayIf\", \n",
        "    \"query\": \"%23YouCanStayIf\", \n",
        "    \"name\": \"#YouCanStayIf\", \n",
=======
        "    \"url\": \"http://twitter.com/search?q=%23RIPAllison\", \n",
        "    \"query\": \"%23RIPAllison\", \n",
        "    \"name\": \"#RIPAllison\", \n",
>>>>>>> class/master
        "    \"promoted_content\": null, \n",
        "    \"events\": null\n",
        "   }, \n",
        "   {\n",
<<<<<<< HEAD
        "    \"url\": \"http://twitter.com/search?q=%23StPickupsDay\", \n",
        "    \"query\": \"%23StPickupsDay\", \n",
        "    \"name\": \"#StPickupsDay\", \n",
=======
        "    \"url\": \"http://twitter.com/search?q=%23RollCallASC\", \n",
        "    \"query\": \"%23RollCallASC\", \n",
        "    \"name\": \"#RollCallASC\", \n",
>>>>>>> class/master
        "    \"promoted_content\": null, \n",
        "    \"events\": null\n",
        "   }, \n",
        "   {\n",
        "    \"url\": \"http://twitter.com/search?q=%23RonniesNewVideo\", \n",
        "    \"query\": \"%23RonniesNewVideo\", \n",
        "    \"name\": \"#RonniesNewVideo\", \n",
        "    \"promoted_content\": null, \n",
        "    \"events\": null\n",
        "   }, \n",
        "   {\n",
<<<<<<< HEAD
        "    \"url\": \"http://twitter.com/search?q=%22James+Spader%22\", \n",
        "    \"query\": \"%22James+Spader%22\", \n",
        "    \"name\": \"James Spader\", \n",
=======
        "    \"url\": \"http://twitter.com/search?q=%23YouCanStayIf\", \n",
        "    \"query\": \"%23YouCanStayIf\", \n",
        "    \"name\": \"#YouCanStayIf\", \n",
>>>>>>> class/master
        "    \"promoted_content\": null, \n",
        "    \"events\": null\n",
        "   }, \n",
        "   {\n",
<<<<<<< HEAD
        "    \"url\": \"http://twitter.com/search?q=%23ThePeoplesCouch\", \n",
        "    \"query\": \"%23ThePeoplesCouch\", \n",
        "    \"name\": \"#ThePeoplesCouch\", \n",
=======
        "    \"url\": \"http://twitter.com/search?q=%22James+Spader%22\", \n",
        "    \"query\": \"%22James+Spader%22\", \n",
        "    \"name\": \"James Spader\", \n",
>>>>>>> class/master
        "    \"promoted_content\": null, \n",
        "    \"events\": null\n",
        "   }, \n",
        "   {\n",
        "    \"url\": \"http://twitter.com/search?q=%22Jeff+Davis%22\", \n",
        "    \"query\": \"%22Jeff+Davis%22\", \n",
        "    \"name\": \"Jeff Davis\", \n",
        "    \"promoted_content\": null, \n",
        "    \"events\": null\n",
        "   }, \n",
        "   {\n",
        "    \"url\": \"http://twitter.com/search?q=%22Teen+Wolf%22\", \n",
        "    \"query\": \"%22Teen+Wolf%22\", \n",
        "    \"name\": \"Teen Wolf\", \n",
        "    \"promoted_content\": null, \n",
        "    \"events\": null\n",
        "   }, \n",
        "   {\n",
<<<<<<< HEAD
        "    \"url\": \"http://twitter.com/search?q=%22Chris+Paul%22\", \n",
        "    \"query\": \"%22Chris+Paul%22\", \n",
        "    \"name\": \"Chris Paul\", \n",
=======
        "    \"url\": \"http://twitter.com/search?q=%22Hey+Arnold%22\", \n",
        "    \"query\": \"%22Hey+Arnold%22\", \n",
        "    \"name\": \"Hey Arnold\", \n",
>>>>>>> class/master
        "    \"promoted_content\": null, \n",
        "    \"events\": null\n",
        "   }, \n",
        "   {\n",
        "    \"url\": \"http://twitter.com/search?q=%22Luke+Bryan%22\", \n",
        "    \"query\": \"%22Luke+Bryan%22\", \n",
        "    \"name\": \"Luke Bryan\", \n",
        "    \"promoted_content\": null, \n",
        "    \"events\": null\n",
        "   }\n",
        "  ], \n",
<<<<<<< HEAD
        "  \"as_of\": \"2014-03-18T04:06:27Z\", \n",
=======
        "  \"as_of\": \"2014-03-18T04:12:29Z\", \n",
>>>>>>> class/master
        "  \"locations\": [\n",
        "   {\n",
        "    \"woeid\": 23424977, \n",
        "    \"name\": \"United States\"\n",
        "   }\n",
        "  ]\n",
        " }\n",
        "]\n"
       ]
      }
     ],
<<<<<<< HEAD
     "prompt_number": 49
=======
     "prompt_number": 43
>>>>>>> class/master
    },
    {
     "cell_type": "code",
     "collapsed": false,
     "input": [
      "world_trends_set = set([trend['name'] \n",
      "                        for trend in world_trends[0]['trends']])\n",
      "\n",
      "us_trends_set = set([trend['name'] \n",
      "                     for trend in us_trends[0]['trends']]) \n",
      "\n",
      "common_trends = world_trends_set.intersection(us_trends_set)\n",
      "\n",
      "print common_trends"
     ],
     "language": "python",
     "metadata": {},
     "outputs": [
      {
       "output_type": "stream",
       "stream": "stdout",
       "text": [
<<<<<<< HEAD
        "set([u'Luke Bryan', u'#RonniesNewVideo'])\n"
       ]
      }
     ],
     "prompt_number": 50
=======
        "set([u'#TOHEARTASC'])\n"
       ]
      }
     ],
     "prompt_number": 44
>>>>>>> class/master
    },
    {
     "cell_type": "code",
     "collapsed": false,
     "input": [
      "# XXX: Set this variable to a trending topic, \n",
      "# or anything else for that matter. The example query below\n",
      "# was a trending topic when this content was being developed\n",
      "# and is used throughout the remainder of this chapter.\n",
      "\n",
<<<<<<< HEAD
      "q = '#Karlthefog' \n",
=======
      "q = '#DataScience' \n",
>>>>>>> class/master
      "\n",
      "count = 100\n",
      "\n",
      "# See https://dev.twitter.com/docs/api/1.1/get/search/tweets\n",
      "\n",
      "search_results = twitter_api.search.tweets(q=q, count=count)\n",
      "\n",
      "statuses = search_results['statuses']\n",
      "\n",
      "\n",
      "# Iterate through 5 more batches of results by following the cursor\n",
      "\n",
      "for _ in range(5):\n",
      "    print \"Length of statuses\", len(statuses)\n",
      "    try:\n",
      "        next_results = search_results['search_metadata']['next_results']\n",
      "    except KeyError, e: # No more results when next_results doesn't exist\n",
      "        break\n",
      "        \n",
      "    # Create a dictionary from next_results, which has the following form:\n",
      "    # ?max_id=313519052523986943&q=NCAA&include_entities=1\n",
      "    kwargs = dict([ kv.split('=') for kv in next_results[1:].split(\"&\") ])\n",
      "    \n",
      "    search_results = twitter_api.search.tweets(**kwargs)\n",
      "    statuses += search_results['statuses']\n",
      "\n",
      "# Show one sample search result by slicing the list...\n",
      "print json.dumps(statuses[0], indent=1)"
     ],
     "language": "python",
     "metadata": {},
     "outputs": [
      {
       "output_type": "stream",
       "stream": "stdout",
       "text": [
<<<<<<< HEAD
        "Length of statuses 11\n",
        "{\n",
        " \"contributors\": null, \n",
        " \"truncated\": false, \n",
        " \"text\": \"#karlthefog is back #latergram #nofilter #goldengatebridge #sanfrancisco #marinheadlands http://t.co/ipJSg0uU1g\", \n",
        " \"in_reply_to_status_id\": null, \n",
        " \"id\": 445367612495904768, \n",
        " \"favorite_count\": 0, \n",
        " \"source\": \"<a href=\\\"http://instagram.com\\\" rel=\\\"nofollow\\\">Instagram</a>\", \n",
=======
        "Length of statuses 99\n",
        "{\n",
        " \"contributors\": null, \n",
        " \"truncated\": false, \n",
        " \"text\": \"My Life (as a Number) http://t.co/V9DDddc4lC #compsci  #datascience #math #stem #mathchat\", \n",
        " \"in_reply_to_status_id\": null, \n",
        " \"id\": 445776307390267393, \n",
        " \"favorite_count\": 1, \n",
        " \"source\": \"<a href=\\\"http://winthecustomer.com/\\\" rel=\\\"nofollow\\\">Win the Customer</a>\", \n",
>>>>>>> class/master
        " \"retweeted\": false, \n",
        " \"coordinates\": null, \n",
        " \"entities\": {\n",
        "  \"symbols\": [], \n",
        "  \"user_mentions\": [], \n",
        "  \"hashtags\": [\n",
        "   {\n",
        "    \"indices\": [\n",
<<<<<<< HEAD
        "     0, \n",
        "     11\n",
        "    ], \n",
        "    \"text\": \"karlthefog\"\n",
        "   }, \n",
        "   {\n",
        "    \"indices\": [\n",
        "     20, \n",
        "     30\n",
        "    ], \n",
        "    \"text\": \"latergram\"\n",
        "   }, \n",
        "   {\n",
        "    \"indices\": [\n",
        "     31, \n",
        "     40\n",
        "    ], \n",
        "    \"text\": \"nofilter\"\n",
        "   }, \n",
        "   {\n",
        "    \"indices\": [\n",
        "     41, \n",
        "     58\n",
        "    ], \n",
        "    \"text\": \"goldengatebridge\"\n",
        "   }, \n",
        "   {\n",
        "    \"indices\": [\n",
        "     59, \n",
        "     72\n",
        "    ], \n",
        "    \"text\": \"sanfrancisco\"\n",
        "   }, \n",
        "   {\n",
        "    \"indices\": [\n",
        "     73, \n",
        "     88\n",
        "    ], \n",
        "    \"text\": \"marinheadlands\"\n",
=======
        "     45, \n",
        "     53\n",
        "    ], \n",
        "    \"text\": \"compsci\"\n",
        "   }, \n",
        "   {\n",
        "    \"indices\": [\n",
        "     55, \n",
        "     67\n",
        "    ], \n",
        "    \"text\": \"datascience\"\n",
        "   }, \n",
        "   {\n",
        "    \"indices\": [\n",
        "     68, \n",
        "     73\n",
        "    ], \n",
        "    \"text\": \"math\"\n",
        "   }, \n",
        "   {\n",
        "    \"indices\": [\n",
        "     74, \n",
        "     79\n",
        "    ], \n",
        "    \"text\": \"stem\"\n",
        "   }, \n",
        "   {\n",
        "    \"indices\": [\n",
        "     80, \n",
        "     89\n",
        "    ], \n",
        "    \"text\": \"mathchat\"\n",
>>>>>>> class/master
        "   }\n",
        "  ], \n",
        "  \"urls\": [\n",
        "   {\n",
<<<<<<< HEAD
        "    \"url\": \"http://t.co/ipJSg0uU1g\", \n",
        "    \"indices\": [\n",
        "     89, \n",
        "     111\n",
        "    ], \n",
        "    \"expanded_url\": \"http://instagram.com/p/ln_mznp8Ti/\", \n",
        "    \"display_url\": \"instagram.com/p/ln_mznp8Ti/\"\n",
=======
        "    \"url\": \"http://t.co/V9DDddc4lC\", \n",
        "    \"indices\": [\n",
        "     22, \n",
        "     44\n",
        "    ], \n",
        "    \"expanded_url\": \"http://is.gd/jAFlXo\", \n",
        "    \"display_url\": \"is.gd/jAFlXo\"\n",
>>>>>>> class/master
        "   }\n",
        "  ]\n",
        " }, \n",
        " \"in_reply_to_screen_name\": null, \n",
        " \"in_reply_to_user_id\": null, \n",
        " \"retweet_count\": 0, \n",
<<<<<<< HEAD
        " \"id_str\": \"445367612495904768\", \n",
=======
        " \"id_str\": \"445776307390267393\", \n",
>>>>>>> class/master
        " \"favorited\": false, \n",
        " \"user\": {\n",
        "  \"follow_request_sent\": false, \n",
        "  \"profile_use_background_image\": true, \n",
        "  \"default_profile_image\": false, \n",
<<<<<<< HEAD
        "  \"id\": 401507189, \n",
        "  \"profile_background_image_url_https\": \"https://abs.twimg.com/images/themes/theme5/bg.gif\", \n",
        "  \"verified\": false, \n",
        "  \"profile_text_color\": \"3E4415\", \n",
        "  \"profile_image_url_https\": \"https://pbs.twimg.com/profile_images/3237682140/456bf16972206940e97810b312d3e42e_normal.jpeg\", \n",
        "  \"profile_sidebar_fill_color\": \"99CC33\", \n",
=======
        "  \"id\": 427788366, \n",
        "  \"profile_background_image_url_https\": \"https://abs.twimg.com/images/themes/theme1/bg.png\", \n",
        "  \"verified\": false, \n",
        "  \"profile_text_color\": \"333333\", \n",
        "  \"profile_image_url_https\": \"https://pbs.twimg.com/profile_images/1672275132/black_math_guy_normal.gif\", \n",
        "  \"profile_sidebar_fill_color\": \"DDEEF6\", \n",
>>>>>>> class/master
        "  \"entities\": {\n",
        "   \"url\": {\n",
        "    \"urls\": [\n",
        "     {\n",
<<<<<<< HEAD
        "      \"url\": \"http://t.co/8JG3w8X5Jr\", \n",
=======
        "      \"url\": \"http://t.co/tAcQhUxnAS\", \n",
>>>>>>> class/master
        "      \"indices\": [\n",
        "       0, \n",
        "       22\n",
        "      ], \n",
<<<<<<< HEAD
        "      \"expanded_url\": \"http://blogaelle.wordpress.com\", \n",
        "      \"display_url\": \"blogaelle.wordpress.com\"\n",
=======
        "      \"expanded_url\": \"http://www.learninglover.com\", \n",
        "      \"display_url\": \"learninglover.com\"\n",
>>>>>>> class/master
        "     }\n",
        "    ]\n",
        "   }, \n",
        "   \"description\": {\n",
        "    \"urls\": []\n",
        "   }\n",
        "  }, \n",
<<<<<<< HEAD
        "  \"followers_count\": 11, \n",
        "  \"profile_sidebar_border_color\": \"829D5E\", \n",
        "  \"id_str\": \"401507189\", \n",
        "  \"profile_background_color\": \"352726\", \n",
        "  \"listed_count\": 1, \n",
        "  \"is_translation_enabled\": false, \n",
        "  \"utc_offset\": 3600, \n",
        "  \"statuses_count\": 530, \n",
        "  \"description\": \"\", \n",
        "  \"friends_count\": 41, \n",
        "  \"location\": \"San Francisco\", \n",
        "  \"profile_link_color\": \"D02B55\", \n",
        "  \"profile_image_url\": \"http://pbs.twimg.com/profile_images/3237682140/456bf16972206940e97810b312d3e42e_normal.jpeg\", \n",
        "  \"following\": false, \n",
        "  \"geo_enabled\": false, \n",
        "  \"profile_banner_url\": \"https://pbs.twimg.com/profile_banners/401507189/1360560714\", \n",
        "  \"profile_background_image_url\": \"http://abs.twimg.com/images/themes/theme5/bg.gif\", \n",
        "  \"screen_name\": \"blogaelle\", \n",
        "  \"lang\": \"fr\", \n",
        "  \"profile_background_tile\": false, \n",
        "  \"favourites_count\": 0, \n",
        "  \"name\": \"GaL7\", \n",
        "  \"notifications\": false, \n",
        "  \"url\": \"http://t.co/8JG3w8X5Jr\", \n",
        "  \"created_at\": \"Sun Oct 30 17:06:47 +0000 2011\", \n",
        "  \"contributors_enabled\": false, \n",
        "  \"time_zone\": \"Paris\", \n",
        "  \"protected\": false, \n",
        "  \"default_profile\": false, \n",
=======
        "  \"followers_count\": 364, \n",
        "  \"profile_sidebar_border_color\": \"C0DEED\", \n",
        "  \"id_str\": \"427788366\", \n",
        "  \"profile_background_color\": \"C0DEED\", \n",
        "  \"listed_count\": 13, \n",
        "  \"is_translation_enabled\": false, \n",
        "  \"utc_offset\": -14400, \n",
        "  \"statuses_count\": 5149, \n",
        "  \"description\": \"math is my life; philosophy is my hobby; music is my meditation; and sports is my relaxation.\", \n",
        "  \"friends_count\": 1069, \n",
        "  \"location\": \"DC\", \n",
        "  \"profile_link_color\": \"0084B4\", \n",
        "  \"profile_image_url\": \"http://pbs.twimg.com/profile_images/1672275132/black_math_guy_normal.gif\", \n",
        "  \"following\": false, \n",
        "  \"geo_enabled\": false, \n",
        "  \"profile_background_image_url\": \"http://abs.twimg.com/images/themes/theme1/bg.png\", \n",
        "  \"screen_name\": \"MindAfterMath\", \n",
        "  \"lang\": \"en\", \n",
        "  \"profile_background_tile\": false, \n",
        "  \"favourites_count\": 35, \n",
        "  \"name\": \"MindAfterMath\", \n",
        "  \"notifications\": false, \n",
        "  \"url\": \"http://t.co/tAcQhUxnAS\", \n",
        "  \"created_at\": \"Sat Dec 03 23:56:57 +0000 2011\", \n",
        "  \"contributors_enabled\": false, \n",
        "  \"time_zone\": \"Eastern Time (US & Canada)\", \n",
        "  \"protected\": false, \n",
        "  \"default_profile\": true, \n",
>>>>>>> class/master
        "  \"is_translator\": false\n",
        " }, \n",
        " \"geo\": null, \n",
        " \"in_reply_to_user_id_str\": null, \n",
        " \"possibly_sensitive\": false, \n",
        " \"lang\": \"en\", \n",
<<<<<<< HEAD
        " \"created_at\": \"Mon Mar 17 01:14:48 +0000 2014\", \n",
=======
        " \"created_at\": \"Tue Mar 18 04:18:48 +0000 2014\", \n",
>>>>>>> class/master
        " \"in_reply_to_status_id_str\": null, \n",
        " \"place\": null, \n",
        " \"metadata\": {\n",
        "  \"iso_language_code\": \"en\", \n",
        "  \"result_type\": \"recent\"\n",
        " }\n",
        "}\n"
       ]
      }
     ],
<<<<<<< HEAD
     "prompt_number": 59
=======
     "prompt_number": 45
>>>>>>> class/master
    },
    {
     "cell_type": "code",
     "collapsed": false,
     "input": [
<<<<<<< HEAD
      "import json\n",
      "statuses = json.loads(open('resources/ch01-twitter/data/Karlthefog.json').read())\n",
      "\n",
      "# The result of the list comprehension is a list with only one element that\n",
      "# can be accessed by its index and set to the variable t\n",
      "t = [ status \n",
      "      for status in statuses\n",
      "          if status['id'] == 316948241264549888 ][0]\n",
      "\n",
      "# Explore the variable t to get familiarized with the data structure...\n",
      "\n",
      "print t['retweet_count']\n",
      "print t['retweeted_status']\n",
      "\n",
      "# Can you find the most retweeted tweet in your search results? Try do do it!"
     ],
     "language": "python",
     "metadata": {},
     "outputs": [
      {
       "ename": "IOError",
       "evalue": "[Errno 2] No such file or directory: 'resources/ch01-twitter/data/Karlthefog.json'",
       "output_type": "pyerr",
       "traceback": [
        "\u001b[0;31m---------------------------------------------------------------------------\u001b[0m\n\u001b[0;31mIOError\u001b[0m                                   Traceback (most recent call last)",
        "\u001b[0;32m<ipython-input-61-b5a771959eb4>\u001b[0m in \u001b[0;36m<module>\u001b[0;34m()\u001b[0m\n\u001b[1;32m      1\u001b[0m \u001b[0;32mimport\u001b[0m \u001b[0mjson\u001b[0m\u001b[0;34m\u001b[0m\u001b[0m\n\u001b[0;32m----> 2\u001b[0;31m \u001b[0mstatuses\u001b[0m \u001b[0;34m=\u001b[0m \u001b[0mjson\u001b[0m\u001b[0;34m.\u001b[0m\u001b[0mloads\u001b[0m\u001b[0;34m(\u001b[0m\u001b[0mopen\u001b[0m\u001b[0;34m(\u001b[0m\u001b[0;34m'resources/ch01-twitter/data/Karlthefog.json'\u001b[0m\u001b[0;34m)\u001b[0m\u001b[0;34m.\u001b[0m\u001b[0mread\u001b[0m\u001b[0;34m(\u001b[0m\u001b[0;34m)\u001b[0m\u001b[0;34m)\u001b[0m\u001b[0;34m\u001b[0m\u001b[0m\n\u001b[0m\u001b[1;32m      3\u001b[0m \u001b[0;34m\u001b[0m\u001b[0m\n\u001b[1;32m      4\u001b[0m \u001b[0;31m# The result of the list comprehension is a list with only one element that\u001b[0m\u001b[0;34m\u001b[0m\u001b[0;34m\u001b[0m\u001b[0m\n\u001b[1;32m      5\u001b[0m \u001b[0;31m# can be accessed by its index and set to the variable t\u001b[0m\u001b[0;34m\u001b[0m\u001b[0;34m\u001b[0m\u001b[0m\n",
        "\u001b[0;31mIOError\u001b[0m: [Errno 2] No such file or directory: 'resources/ch01-twitter/data/Karlthefog.json'"
       ]
      }
     ],
     "prompt_number": 61
    },
    {
     "cell_type": "code",
     "collapsed": false,
     "input": [
=======
      "\n",
      "\n",
>>>>>>> class/master
      "status_texts = [ status['text'] \n",
      "                 for status in statuses ]\n",
      "\n",
      "screen_names = [ user_mention['screen_name'] \n",
      "                 for status in statuses\n",
      "                     for user_mention in status['entities']['user_mentions'] ]\n",
      "\n",
      "hashtags = [ hashtag['text'] \n",
      "             for status in statuses\n",
      "                 for hashtag in status['entities']['hashtags'] ]\n",
      "\n",
      "# Compute a collection of all words from all tweets\n",
      "words = [ w \n",
      "          for t in status_texts \n",
      "              for w in t.split() ]\n",
      "\n",
      "# Explore the first 5 items for each...\n",
      "\n",
      "print json.dumps(status_texts[0:5], indent=1)\n",
      "print json.dumps(screen_names[0:5], indent=1) \n",
      "print json.dumps(hashtags[0:5], indent=1)\n",
<<<<<<< HEAD
      "print json.dumps(words[0:5], indent=1)"
=======
      "print json.dumps(words[0:5], indent=1)\n",
      "\n"
>>>>>>> class/master
     ],
     "language": "python",
     "metadata": {},
     "outputs": [
      {
       "output_type": "stream",
       "stream": "stdout",
       "text": [
        "[\n",
<<<<<<< HEAD
        " \"#karlthefog is back #latergram #nofilter #goldengatebridge #sanfrancisco #marinheadlands http://t.co/ipJSg0uU1g\", \n",
        " \"The ocean was covered in fog most of the day. Nice to be above it! #karlthefog http://t.co/g3sBQznH2K\", \n",
        " \"Watching Karl the Fog roll in. #sfo #karlthefog #sanfran #viewontop @ Corona Heights http://t.co/zfXbHjgsGZ\", \n",
        " \"Foggy driving through the GGB #sanfrancisco #california #goldengatebridge #fog #karlthefog #foggy http://t.co/c7xYzsRYfW\", \n",
        " \"#KarlTheFog is covering the #goldengatebridge this perfect #sanfrancisco morning!!! @ Sea Lions at\\u2026 http://t.co/9jlSziLiVk\"\n",
        "]\n",
        "[\n",
        " \"KarlTheFog\"\n",
        "]\n",
        "[\n",
        " \"karlthefog\", \n",
        " \"latergram\", \n",
        " \"nofilter\", \n",
        " \"goldengatebridge\", \n",
        " \"sanfrancisco\"\n",
        "]\n",
        "[\n",
        " \"#karlthefog\", \n",
        " \"is\", \n",
        " \"back\", \n",
        " \"#latergram\", \n",
        " \"#nofilter\"\n",
=======
        " \"My Life (as a Number) http://t.co/V9DDddc4lC #compsci  #datascience #math #stem #mathchat\", \n",
        " \"RT @KirkDBorne: Recommendation Systems and Opinion Formation - A Model: http://t.co/5OWZsDUj4H #RecSys #BigData #DataScience by @blattnerma\", \n",
        " \"17 short tutorials all data scientists should read (and practice) http://t.co/NDGwQ7YJGh #datascience #bigdata\", \n",
        " \"RT @tonyojeda3: How Stephen Wolfram plans to reinvent #datascience &amp; make wearables useful http://t.co/YJlk7QrjE1\", \n",
        " \"RT @tonyojeda3: How Stephen Wolfram plans to reinvent #datascience &amp; make wearables useful http://t.co/YJlk7QrjE1\"\n",
        "]\n",
        "[\n",
        " \"KirkDBorne\", \n",
        " \"blattnerma\", \n",
        " \"tonyojeda3\", \n",
        " \"tonyojeda3\", \n",
        " \"RevolutionR\"\n",
        "]\n",
        "[\n",
        " \"compsci\", \n",
        " \"datascience\", \n",
        " \"math\", \n",
        " \"stem\", \n",
        " \"mathchat\"\n",
        "]\n",
        "[\n",
        " \"My\", \n",
        " \"Life\", \n",
        " \"(as\", \n",
        " \"a\", \n",
        " \"Number)\"\n",
>>>>>>> class/master
        "]\n"
       ]
      }
     ],
<<<<<<< HEAD
     "prompt_number": 63
=======
     "prompt_number": 46
>>>>>>> class/master
    },
    {
     "cell_type": "code",
     "collapsed": false,
     "input": [
      "from collections import Counter\n",
      "\n",
      "for item in [words, screen_names, hashtags]:\n",
      "    c = Counter(item)\n",
      "    print c.most_common()[:10] # top 10\n",
<<<<<<< HEAD
      "    print"
=======
      "    print\n",
      "\n"
>>>>>>> class/master
     ],
     "language": "python",
     "metadata": {},
     "outputs": [
      {
       "output_type": "stream",
       "stream": "stdout",
       "text": [
<<<<<<< HEAD
        "[(u'#karlthefog', 7), (u'the', 7), (u'@', 4), (u'#KarlTheFog', 3), (u'#sanfrancisco', 3), (u'through', 3), (u'#goldengatebridge', 3), (u'room.', 2), (u'#view', 2), (u'back', 2)]\n",
        "\n",
        "[(u'KarlTheFog', 1)]\n",
        "\n",
        "[(u'karlthefog', 7), (u'KarlTheFog', 4), (u'goldengatebridge', 3), (u'sanfrancisco', 3), (u'GoldenGate', 2), (u'tower', 2), (u'view', 2), (u'marinheadlands', 1), (u'cyclingculture', 1), (u'FogCity', 1)]\n",
=======
        "[(u'#datascience', 46), (u'RT', 37), (u'#DataScience', 36), (u'of', 25), (u'#BigData', 22), (u'to', 21), (u'the', 20), (u'Data', 17), (u'in', 17), (u'data', 14)]\n",
        "\n",
        "[(u'KirkDBorne', 16), (u'DataCommunityDC', 7), (u'DataScienceCtrl', 5), (u'wzchen', 4), (u'joshdsullivan', 4), (u'urjc', 4), (u'usnews', 4), (u'emilopezcano', 4), (u'DataRobot', 3), (u'AnalyticsWeek', 3)]\n",
        "\n",
        "[(u'datascience', 50), (u'DataScience', 47), (u'BigData', 24), (u'bigdata', 11), (u'Analytics', 9), (u'abdsc', 8), (u'Python', 6), (u'mathchat', 5), (u'statistics', 5), (u'math', 5)]\n",
>>>>>>> class/master
        "\n"
       ]
      }
     ],
<<<<<<< HEAD
     "prompt_number": 64
    },
    {
     "cell_type": "code",
     "collapsed": false,
     "input": [
      "from prettytable import PrettyTable\n",
      "\n",
      "for label, data in (('Word', words), \n",
      "                    ('Screen Name', screen_names), \n",
      "                    ('Hashtag', hashtags)):\n",
      "    pt = PrettyTable(field_names=[label, 'Count']) \n",
      "    c = Counter(data)\n",
      "    [ pt.add_row(kv) for kv in c.most_common()[:10] ]\n",
      "    pt.align[label], pt.align['Count'] = 'l', 'r' # Set column alignment\n",
      "    print pt"
     ],
     "language": "python",
     "metadata": {},
     "outputs": [
      {
       "ename": "ImportError",
       "evalue": "No module named prettytable",
       "output_type": "pyerr",
       "traceback": [
        "\u001b[0;31m---------------------------------------------------------------------------\u001b[0m\n\u001b[0;31mImportError\u001b[0m                               Traceback (most recent call last)",
        "\u001b[0;32m<ipython-input-68-766a6a42c202>\u001b[0m in \u001b[0;36m<module>\u001b[0;34m()\u001b[0m\n\u001b[0;32m----> 1\u001b[0;31m \u001b[0;32mfrom\u001b[0m \u001b[0mprettytable\u001b[0m \u001b[0;32mimport\u001b[0m \u001b[0mPrettyTable\u001b[0m\u001b[0;34m\u001b[0m\u001b[0m\n\u001b[0m\u001b[1;32m      2\u001b[0m \u001b[0;34m\u001b[0m\u001b[0m\n\u001b[1;32m      3\u001b[0m for label, data in (('Word', words), \n\u001b[1;32m      4\u001b[0m                     \u001b[0;34m(\u001b[0m\u001b[0;34m'Screen Name'\u001b[0m\u001b[0;34m,\u001b[0m \u001b[0mscreen_names\u001b[0m\u001b[0;34m)\u001b[0m\u001b[0;34m,\u001b[0m\u001b[0;34m\u001b[0m\u001b[0m\n\u001b[1;32m      5\u001b[0m                     ('Hashtag', hashtags)):\n",
        "\u001b[0;31mImportError\u001b[0m: No module named prettytable"
       ]
      }
     ],
     "prompt_number": 68
=======
     "prompt_number": 47
>>>>>>> class/master
    },
    {
     "cell_type": "code",
     "collapsed": false,
     "input": [],
     "language": "python",
     "metadata": {},
     "outputs": []
    }
   ],
   "metadata": {}
  }
 ]
}